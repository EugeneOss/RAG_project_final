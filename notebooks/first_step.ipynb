{
 "cells": [
  {
   "cell_type": "markdown",
   "id": "3d51e292",
   "metadata": {},
   "source": [
    "## Импорт библиотек"
   ]
  },
  {
   "cell_type": "code",
   "execution_count": 1,
   "id": "c186b7eb",
   "metadata": {},
   "outputs": [],
   "source": [
    "import pandas as pd\n",
    "from qdrant_client import QdrantClient\n",
    "from qdrant_client.http.models import Distance, VectorParams\n",
    "from langchain_huggingface import HuggingFaceEmbeddings\n",
    "import torch\n",
    "import tqdm as notebook_tqdm\n",
    "import os\n",
    "from langchain_community.document_loaders import Docx2txtLoader, PDFPlumberLoader\n",
    "from langchain.text_splitter import RecursiveCharacterTextSplitter\n",
    "from langchain_qdrant import QdrantVectorStore\n",
    "from pathlib import Path\n",
    "from langchain_community.document_loaders import PyPDFLoader\n",
    "\n",
    "from langchain_community.document_loaders import PyMuPDFLoader\n",
    "from tqdm import tqdm\n",
    "import time\n",
    "import unstructured\n",
    "\n",
    "from langchain_community.document_loaders import UnstructuredWordDocumentLoader\n",
    "import pikepdf"
   ]
  },
  {
   "cell_type": "markdown",
   "id": "9e49753c",
   "metadata": {},
   "source": []
  },
  {
   "cell_type": "markdown",
   "id": "03038449",
   "metadata": {},
   "source": [
    "## Инициализация БД Qdrant с коллекцией"
   ]
  },
  {
   "cell_type": "code",
   "execution_count": 4,
   "id": "8ece0251",
   "metadata": {},
   "outputs": [],
   "source": [
    "client = QdrantClient(\n",
    "    path='../db/qdrant_db',\n",
    "    )"
   ]
  },
  {
   "cell_type": "code",
   "execution_count": 3,
   "id": "5ffe2a46",
   "metadata": {},
   "outputs": [
    {
     "data": {
      "text/plain": [
       "CollectionsResponse(collections=[CollectionDescription(name='norma_ai_collection'), CollectionDescription(name='norma_ai_collection_ru-en-RoSBERTa')])"
      ]
     },
     "execution_count": 3,
     "metadata": {},
     "output_type": "execute_result"
    }
   ],
   "source": [
    "client.get_collections()"
   ]
  },
  {
   "cell_type": "code",
   "execution_count": 104,
   "id": "61c28b82",
   "metadata": {},
   "outputs": [
    {
     "data": {
      "text/plain": [
       "True"
      ]
     },
     "execution_count": 104,
     "metadata": {},
     "output_type": "execute_result"
    }
   ],
   "source": [
    "client.delete_collection(\"norma_ai_collection_ru-en-RoSBERTa\")"
   ]
  },
  {
   "cell_type": "code",
   "execution_count": 112,
   "id": "1f2d6632",
   "metadata": {},
   "outputs": [],
   "source": [
    "collection_1 = 'norma_ai_collection_ru-en-RoSBERTa'\n",
    "collection_2 = 'norma_ai_collection'"
   ]
  },
  {
   "cell_type": "code",
   "execution_count": 105,
   "id": "4d0962ca",
   "metadata": {},
   "outputs": [
    {
     "data": {
      "text/plain": [
       "True"
      ]
     },
     "execution_count": 105,
     "metadata": {},
     "output_type": "execute_result"
    }
   ],
   "source": [
    "client.create_collection(\n",
    "    collection_name=\"norma_ai_collection_ru-en-RoSBERTa\",\n",
    "    vectors_config=VectorParams(size=1024, distance=Distance.COSINE),\n",
    ")"
   ]
  },
  {
   "cell_type": "markdown",
   "id": "3cfa23b5",
   "metadata": {},
   "source": [
    "## Инициализация модели для векторизации"
   ]
  },
  {
   "cell_type": "code",
   "execution_count": null,
   "id": "923eb444",
   "metadata": {},
   "outputs": [],
   "source": [
    "model_name = \"sentence-transformers/paraphrase-multilingual-mpnet-base-v2\"\n",
    "model_kwargs = {'device': 'cuda' if torch.cuda.is_available() else 'cpu'}\n",
    "encode_kwargs = {'normalize_embeddings': True, 'batch_size':128}\n",
    "\n",
    "embeddings_model = HuggingFaceEmbeddings(\n",
    "    model_name=model_name,\n",
    "    model_kwargs=model_kwargs,\n",
    "    encode_kwargs=encode_kwargs,\n",
    ")"
   ]
  },
  {
   "cell_type": "code",
   "execution_count": 99,
   "id": "cf809049",
   "metadata": {},
   "outputs": [
    {
     "data": {
      "application/vnd.jupyter.widget-view+json": {
       "model_id": "50de7b66553c4ff99070a05e6a2db43b",
       "version_major": 2,
       "version_minor": 0
      },
      "text/plain": [
       "modules.json:   0%|          | 0.00/349 [00:00<?, ?B/s]"
      ]
     },
     "metadata": {},
     "output_type": "display_data"
    },
    {
     "data": {
      "application/vnd.jupyter.widget-view+json": {
       "model_id": "5275e64336c24fb78121b28d17e24ca9",
       "version_major": 2,
       "version_minor": 0
      },
      "text/plain": [
       "config_sentence_transformers.json:   0%|          | 0.00/241 [00:00<?, ?B/s]"
      ]
     },
     "metadata": {},
     "output_type": "display_data"
    },
    {
     "data": {
      "application/vnd.jupyter.widget-view+json": {
       "model_id": "eb1e1ff81ef04457a969e1e743a97573",
       "version_major": 2,
       "version_minor": 0
      },
      "text/plain": [
       "README.md: 0.00B [00:00, ?B/s]"
      ]
     },
     "metadata": {},
     "output_type": "display_data"
    },
    {
     "data": {
      "application/vnd.jupyter.widget-view+json": {
       "model_id": "b4b56af69af244258c4662f09a36a5c4",
       "version_major": 2,
       "version_minor": 0
      },
      "text/plain": [
       "config.json:   0%|          | 0.00/715 [00:00<?, ?B/s]"
      ]
     },
     "metadata": {},
     "output_type": "display_data"
    },
    {
     "data": {
      "application/vnd.jupyter.widget-view+json": {
       "model_id": "93740e16e6a04586a8d149e7855a3bc0",
       "version_major": 2,
       "version_minor": 0
      },
      "text/plain": [
       "model.safetensors:   0%|          | 0.00/1.61G [00:00<?, ?B/s]"
      ]
     },
     "metadata": {},
     "output_type": "display_data"
    },
    {
     "name": "stderr",
     "output_type": "stream",
     "text": [
      "Some weights of RobertaModel were not initialized from the model checkpoint at ai-forever/ru-en-RoSBERTa and are newly initialized: ['pooler.dense.bias', 'pooler.dense.weight']\n",
      "You should probably TRAIN this model on a down-stream task to be able to use it for predictions and inference.\n"
     ]
    },
    {
     "data": {
      "application/vnd.jupyter.widget-view+json": {
       "model_id": "4ed3bc8bb6cd4f2380caa3db7af262e8",
       "version_major": 2,
       "version_minor": 0
      },
      "text/plain": [
       "tokenizer_config.json: 0.00B [00:00, ?B/s]"
      ]
     },
     "metadata": {},
     "output_type": "display_data"
    },
    {
     "data": {
      "application/vnd.jupyter.widget-view+json": {
       "model_id": "6c2225fdd0634ae4a965782bfc476774",
       "version_major": 2,
       "version_minor": 0
      },
      "text/plain": [
       "vocab.json: 0.00B [00:00, ?B/s]"
      ]
     },
     "metadata": {},
     "output_type": "display_data"
    },
    {
     "data": {
      "application/vnd.jupyter.widget-view+json": {
       "model_id": "703c2b485b774c08be68c2a6e07de2eb",
       "version_major": 2,
       "version_minor": 0
      },
      "text/plain": [
       "merges.txt: 0.00B [00:00, ?B/s]"
      ]
     },
     "metadata": {},
     "output_type": "display_data"
    },
    {
     "data": {
      "application/vnd.jupyter.widget-view+json": {
       "model_id": "ddf87fa7df8141f7b1de4bbd47d6b14f",
       "version_major": 2,
       "version_minor": 0
      },
      "text/plain": [
       "tokenizer.json: 0.00B [00:00, ?B/s]"
      ]
     },
     "metadata": {},
     "output_type": "display_data"
    },
    {
     "data": {
      "application/vnd.jupyter.widget-view+json": {
       "model_id": "17dfead295434113aab7a558833d1cd0",
       "version_major": 2,
       "version_minor": 0
      },
      "text/plain": [
       "special_tokens_map.json:   0%|          | 0.00/958 [00:00<?, ?B/s]"
      ]
     },
     "metadata": {},
     "output_type": "display_data"
    },
    {
     "data": {
      "application/vnd.jupyter.widget-view+json": {
       "model_id": "c4c3ff3d01e3401ab9b485b3725f1006",
       "version_major": 2,
       "version_minor": 0
      },
      "text/plain": [
       "config.json:   0%|          | 0.00/297 [00:00<?, ?B/s]"
      ]
     },
     "metadata": {},
     "output_type": "display_data"
    }
   ],
   "source": [
    "# ai-forever/ru-en-RoSBERTa\n",
    "model_name_2 = \"ai-forever/ru-en-RoSBERTa\"\n",
    "model_kwargs_2 = {'device': 'cuda' if torch.cuda.is_available() else 'cpu'}\n",
    "encode_kwargs_2 = {'normalize_embeddings': True, 'batch_size':128}\n",
    "\n",
    "embeddings_model_2 = HuggingFaceEmbeddings(\n",
    "    model_name=model_name_2,\n",
    "    model_kwargs=model_kwargs_2,\n",
    "    encode_kwargs=encode_kwargs_2,\n",
    ")"
   ]
  },
  {
   "cell_type": "markdown",
   "id": "3ae6e18b",
   "metadata": {},
   "source": [
    "## Загрузка датасета"
   ]
  },
  {
   "cell_type": "code",
   "execution_count": 4,
   "id": "59ce86fc",
   "metadata": {},
   "outputs": [],
   "source": [
    "all_documents = os.listdir('../data')"
   ]
  },
  {
   "cell_type": "code",
   "execution_count": 5,
   "id": "34e70fc0",
   "metadata": {},
   "outputs": [
    {
     "data": {
      "text/plain": [
       "['17. Приказ РТН № 567.pdf',\n",
       " 'ГОСТ Р 55990-2014.pdf',\n",
       " '14. Приказ МЧС России № 302.pdf',\n",
       " 'ГОСТ Р 2.601-2019.docx',\n",
       " 'ГОСТ 31294-2005.docx',\n",
       " 'ГОСТ Р 58329-2018.docx',\n",
       " '5. ФЗ 184 О техническом регулировании.pdf',\n",
       " '3. ТР ТС 012-2011.pdf',\n",
       " '4. ТР ТС 032-2013 О безопасности оборудования, работающего под избыточным давлением.docx',\n",
       " 'Постановление Правительства РФ от 17.08.2020 N 1243.pdf',\n",
       " '9. ФЗ 384 О безопасности зданий и сооружений.docx',\n",
       " '17. Приказ РТН № 533 ФНИП.docx',\n",
       " '10. Постановление Правительства № 1437 Об утверждении Положения о разработке ПМЛЛПА на ОПО.docx',\n",
       " 'ГОСТ 31385-2016 Резервуары вертикальные цилиндрические стальные.docx',\n",
       " '4.0. ФЗ 7 Об охране окружающей среды.pdf',\n",
       " 'СТО 9.3-011-2011 Ингибиторная защита от коррозии.pdf',\n",
       " '16. Приказ РТН № 528 ФНИП Правила безопасного ведения газоопасных, огневых и ремонтных работ.docx',\n",
       " 'СТО Газпром НТП 1.8-001-2004.pdf',\n",
       " '8.1. ФЗ 190 Градостроительный кодекс РФ.docx',\n",
       " '17. Приказ РТН № 420 ФНИП Правила проведения экспертизы промышленной безопасности.pdf',\n",
       " '1. ТР ЕАЭС 049-2020 О требованиях к магистральным трубопроводам для транспортирования жидких и газообразных углеводородов.docx',\n",
       " '18. Приказ РТН № 534 ФНИП Правила безопасности в нефтяной и газовой промышленности.docx',\n",
       " 'ГОСТ 12.2.063-2015. Арматура трубопроводная. Общие требования безопасности.pdf',\n",
       " '15. Приказ РТН № 519 ФНИП Требования к производству сварочных работ на опасных производственных объектах.docx',\n",
       " '25. Приказ РТН № 784 Рекомендации по устройству и безопасной эксплуатации технологических трубопроводов.docx',\n",
       " '19.1 Приказ РТН № 444 ФНИП Правила промышленной безопасности при эксплуатации технологических трубопроводов.docx',\n",
       " '11. Постановление Правительства № 1466  Об утверждении Правил подготовки, рассмотрения и согласования планов и схем развития горных работ .pdf',\n",
       " 'Федеральный закон от 31.07.2020 N 248-ФЗ О государственном контроле (надзоре) и муниципальном.rtf',\n",
       " '19. Приказ РТН № 536 ФНИП Правила промышленной безопасности при использовании оборудования, работающего под избыточным давлением.rtf',\n",
       " '7. ФЗ 116 О промышленной безопасности ОПО.docx',\n",
       " '5. ФЗ 69 О пожарной безопасности.docx',\n",
       " 'СП 343.1325800.2017 Сооружения промышленных предприятий. Правила эксплуатации.pdf',\n",
       " '17. Приказ РТН № 387 Методические основы анализа опасностей и оценки риска аварий на опасных производственных объектах.pdf',\n",
       " '17. Приказ РТН № 478 ФНИП.pdf',\n",
       " 'СП 83.13330.2016 Промышленные печи и кирпичные трубы.docx',\n",
       " '17. Приказ РТН № 136.pdf',\n",
       " '9.1. ФЗ 7 Об охране окружающей среды.rtf',\n",
       " 'СП 68.13330.2017 Приемка в эксплуатацию законченных строительство объектов.docx',\n",
       " '17. Приказ РТН № 450 Об утверждении Руководства по безопасности факельных систем.pdf',\n",
       " 'ГОСТ Р 58972-2020 Общие правила отбора образцов для испытаний продукции при подтверждении соответствия.docx',\n",
       " 'ГОСТ Р 59652-2021 Футеровки теплового оборудования. Основные требования.docx',\n",
       " '21. Приказ РТН № 330.docx',\n",
       " '7. ФЗ 116 О промышленной безопасности ОПО Тихомирова.pdf',\n",
       " '2. ТР ТС 010-2011 О безопасности машин и оборудования.docx',\n",
       " 'ГОСТ Р 57955-2017 Здания и сооружения газонефтедобывающих производств. Нормы проектирования.docx']"
      ]
     },
     "execution_count": 5,
     "metadata": {},
     "output_type": "execute_result"
    }
   ],
   "source": [
    "all_documents"
   ]
  },
  {
   "cell_type": "code",
   "execution_count": 50,
   "id": "27c231d7",
   "metadata": {},
   "outputs": [
    {
     "name": "stderr",
     "output_type": "stream",
     "text": [
      "Enumerating:   0%|          | 0/45 [00:00<?, ?it/s]"
     ]
    },
    {
     "name": "stdout",
     "output_type": "stream",
     "text": [
      "Файл № 1\n",
      "Trying to load file: 19. Приказ РТН № 536 ФНИП Правила промышленной безопасности при использовании оборудования, работающего под избыточным давлением.docx\n"
     ]
    },
    {
     "name": "stderr",
     "output_type": "stream",
     "text": [
      "Enumerating:   2%|▏         | 1/45 [00:00<00:10,  4.14it/s]"
     ]
    },
    {
     "name": "stdout",
     "output_type": "stream",
     "text": [
      "The download was successful: 19. Приказ РТН № 536 ФНИП Правила промышленной безопасности при использовании оборудования, работающего под избыточным давлением.docx\n",
      "--------------------------------------------------\n",
      "Файл № 2\n",
      "Trying to load file: 17. Приказ РТН № 567.pdf\n"
     ]
    },
    {
     "name": "stderr",
     "output_type": "stream",
     "text": [
      "Enumerating:   7%|▋         | 3/45 [00:01<00:13,  3.19it/s]"
     ]
    },
    {
     "name": "stdout",
     "output_type": "stream",
     "text": [
      "The download was successful: 17. Приказ РТН № 567.pdf\n",
      "--------------------------------------------------\n",
      "Файл № 3\n",
      "Trying to load file: Федеральный закон от 31.07.2020 N 248-ФЗ О государственном контроле (надзоре) и муниципальном.docx\n",
      "The download was successful: Федеральный закон от 31.07.2020 N 248-ФЗ О государственном контроле (надзоре) и муниципальном.docx\n",
      "--------------------------------------------------\n",
      "Файл № 4\n",
      "Trying to load file: ГОСТ Р 55990-2014.pdf\n"
     ]
    },
    {
     "name": "stderr",
     "output_type": "stream",
     "text": [
      "Enumerating:   9%|▉         | 4/45 [00:16<04:15,  6.22s/it]"
     ]
    },
    {
     "name": "stdout",
     "output_type": "stream",
     "text": [
      "The download was successful: ГОСТ Р 55990-2014.pdf\n",
      "--------------------------------------------------\n",
      "Файл № 5\n",
      "Trying to load file: 14. Приказ МЧС России № 302.pdf\n"
     ]
    },
    {
     "name": "stderr",
     "output_type": "stream",
     "text": [
      "Enumerating:  16%|█▌        | 7/45 [00:19<01:38,  2.60s/it]"
     ]
    },
    {
     "name": "stdout",
     "output_type": "stream",
     "text": [
      "The download was successful: 14. Приказ МЧС России № 302.pdf\n",
      "--------------------------------------------------\n",
      "Файл № 6\n",
      "Trying to load file: ГОСТ Р 2.601-2019.docx\n",
      "The download was successful: ГОСТ Р 2.601-2019.docx\n",
      "--------------------------------------------------\n",
      "Файл № 7\n",
      "Trying to load file: ГОСТ 31294-2005.docx\n",
      "The download was successful: ГОСТ 31294-2005.docx\n",
      "--------------------------------------------------\n",
      "Файл № 8\n",
      "Trying to load file: ГОСТ Р 58329-2018.docx\n"
     ]
    },
    {
     "name": "stderr",
     "output_type": "stream",
     "text": [
      "Enumerating:  18%|█▊        | 8/45 [00:20<01:13,  1.99s/it]"
     ]
    },
    {
     "name": "stdout",
     "output_type": "stream",
     "text": [
      "The download was successful: ГОСТ Р 58329-2018.docx\n",
      "--------------------------------------------------\n",
      "Файл № 9\n",
      "Trying to load file: 5. ФЗ 184 О техническом регулировании.pdf\n"
     ]
    },
    {
     "name": "stderr",
     "output_type": "stream",
     "text": [
      "Enumerating:  20%|██        | 9/45 [00:26<02:00,  3.33s/it]"
     ]
    },
    {
     "name": "stdout",
     "output_type": "stream",
     "text": [
      "The download was successful: 5. ФЗ 184 О техническом регулировании.pdf\n",
      "--------------------------------------------------\n",
      "Файл № 10\n",
      "Trying to load file: 3. ТР ТС 012-2011.pdf\n"
     ]
    },
    {
     "name": "stderr",
     "output_type": "stream",
     "text": [
      "Enumerating:  22%|██▏       | 10/45 [00:30<01:54,  3.26s/it]"
     ]
    },
    {
     "name": "stdout",
     "output_type": "stream",
     "text": [
      "The download was successful: 3. ТР ТС 012-2011.pdf\n",
      "--------------------------------------------------\n",
      "Файл № 11\n",
      "Trying to load file: 4. ТР ТС 032-2013 О безопасности оборудования, работающего под избыточным давлением.docx\n",
      "The download was successful: 4. ТР ТС 032-2013 О безопасности оборудования, работающего под избыточным давлением.docx\n",
      "--------------------------------------------------\n",
      "Файл № 12\n",
      "Trying to load file: Постановление Правительства РФ от 17.08.2020 N 1243.pdf\n"
     ]
    },
    {
     "name": "stderr",
     "output_type": "stream",
     "text": [
      "Enumerating:  31%|███       | 14/45 [00:30<00:36,  1.18s/it]"
     ]
    },
    {
     "name": "stdout",
     "output_type": "stream",
     "text": [
      "The download was successful: Постановление Правительства РФ от 17.08.2020 N 1243.pdf\n",
      "--------------------------------------------------\n",
      "Файл № 13\n",
      "Trying to load file: 9. ФЗ 384 О безопасности зданий и сооружений.docx\n",
      "The download was successful: 9. ФЗ 384 О безопасности зданий и сооружений.docx\n",
      "--------------------------------------------------\n",
      "Файл № 14\n",
      "Trying to load file: 17. Приказ РТН № 533 ФНИП.docx\n",
      "The download was successful: 17. Приказ РТН № 533 ФНИП.docx\n",
      "--------------------------------------------------\n",
      "Файл № 15\n",
      "Trying to load file: 10. Постановление Правительства № 1437 Об утверждении Положения о разработке ПМЛЛПА на ОПО.docx\n",
      "The download was successful: 10. Постановление Правительства № 1437 Об утверждении Положения о разработке ПМЛЛПА на ОПО.docx\n",
      "--------------------------------------------------\n",
      "Файл № 16\n",
      "Trying to load file: ГОСТ 31385-2016 Резервуары вертикальные цилиндрические стальные.docx\n"
     ]
    },
    {
     "name": "stderr",
     "output_type": "stream",
     "text": [
      "Enumerating:  36%|███▌      | 16/45 [00:30<00:23,  1.25it/s]"
     ]
    },
    {
     "name": "stdout",
     "output_type": "stream",
     "text": [
      "The download was successful: ГОСТ 31385-2016 Резервуары вертикальные цилиндрические стальные.docx\n",
      "--------------------------------------------------\n",
      "Файл № 17\n",
      "Trying to load file: 4.0. ФЗ 7 Об охране окружающей среды.pdf\n"
     ]
    },
    {
     "name": "stderr",
     "output_type": "stream",
     "text": [
      "Enumerating:  38%|███▊      | 17/45 [01:07<03:44,  8.03s/it]"
     ]
    },
    {
     "name": "stdout",
     "output_type": "stream",
     "text": [
      "The download was successful: 4.0. ФЗ 7 Об охране окружающей среды.pdf\n",
      "--------------------------------------------------\n",
      "Файл № 18\n",
      "Trying to load file: СТО 9.3-011-2011 Ингибиторная защита от коррозии.pdf\n"
     ]
    },
    {
     "name": "stderr",
     "output_type": "stream",
     "text": [
      "Enumerating:  40%|████      | 18/45 [01:09<03:03,  6.81s/it]"
     ]
    },
    {
     "name": "stdout",
     "output_type": "stream",
     "text": [
      "The download was successful: СТО 9.3-011-2011 Ингибиторная защита от коррозии.pdf\n",
      "--------------------------------------------------\n",
      "Файл № 19\n",
      "Trying to load file: 16. Приказ РТН № 528 ФНИП Правила безопасного ведения газоопасных, огневых и ремонтных работ.docx\n",
      "The download was successful: 16. Приказ РТН № 528 ФНИП Правила безопасного ведения газоопасных, огневых и ремонтных работ.docx\n",
      "--------------------------------------------------\n",
      "Файл № 20\n",
      "Trying to load file: СТО Газпром НТП 1.8-001-2004.pdf\n"
     ]
    },
    {
     "name": "stderr",
     "output_type": "stream",
     "text": [
      "Enumerating:  44%|████▍     | 20/45 [01:30<03:27,  8.30s/it]"
     ]
    },
    {
     "name": "stdout",
     "output_type": "stream",
     "text": [
      "The download was successful: СТО Газпром НТП 1.8-001-2004.pdf\n",
      "--------------------------------------------------\n",
      "Файл № 21\n",
      "Trying to load file: 8.1. ФЗ 190 Градостроительный кодекс РФ.docx\n"
     ]
    },
    {
     "name": "stderr",
     "output_type": "stream",
     "text": [
      "Enumerating:  47%|████▋     | 21/45 [01:31<02:37,  6.56s/it]"
     ]
    },
    {
     "name": "stdout",
     "output_type": "stream",
     "text": [
      "The download was successful: 8.1. ФЗ 190 Градостроительный кодекс РФ.docx\n",
      "--------------------------------------------------\n",
      "Файл № 22\n",
      "Trying to load file: 17. Приказ РТН № 420 ФНИП Правила проведения экспертизы промышленной безопасности.pdf\n"
     ]
    },
    {
     "name": "stderr",
     "output_type": "stream",
     "text": [
      "Enumerating:  49%|████▉     | 22/45 [01:32<01:59,  5.21s/it]"
     ]
    },
    {
     "name": "stdout",
     "output_type": "stream",
     "text": [
      "The download was successful: 17. Приказ РТН № 420 ФНИП Правила проведения экспертизы промышленной безопасности.pdf\n",
      "--------------------------------------------------\n",
      "Файл № 23\n",
      "Trying to load file: 1. ТР ЕАЭС 049-2020 О требованиях к магистральным трубопроводам для транспортирования жидких и газообразных углеводородов.docx\n",
      "The download was successful: 1. ТР ЕАЭС 049-2020 О требованиях к магистральным трубопроводам для транспортирования жидких и газообразных углеводородов.docx\n",
      "--------------------------------------------------\n",
      "Файл № 24\n",
      "Trying to load file: 9.1. ФЗ 7 Об охране окружающей среды.docx\n"
     ]
    },
    {
     "name": "stderr",
     "output_type": "stream",
     "text": [
      "Enumerating:  53%|█████▎    | 24/45 [01:32<01:06,  3.14s/it]"
     ]
    },
    {
     "name": "stdout",
     "output_type": "stream",
     "text": [
      "The download was successful: 9.1. ФЗ 7 Об охране окружающей среды.docx\n",
      "--------------------------------------------------\n",
      "Файл № 25\n",
      "Trying to load file: 18. Приказ РТН № 534 ФНИП Правила безопасности в нефтяной и газовой промышленности.docx\n"
     ]
    },
    {
     "name": "stderr",
     "output_type": "stream",
     "text": [
      "Enumerating:  56%|█████▌    | 25/45 [01:32<00:50,  2.51s/it]"
     ]
    },
    {
     "name": "stdout",
     "output_type": "stream",
     "text": [
      "The download was successful: 18. Приказ РТН № 534 ФНИП Правила безопасности в нефтяной и газовой промышленности.docx\n",
      "--------------------------------------------------\n",
      "Файл № 26\n",
      "Trying to load file: ГОСТ 12.2.063-2015. Арматура трубопроводная. Общие требования безопасности.pdf\n"
     ]
    },
    {
     "name": "stderr",
     "output_type": "stream",
     "text": [
      "Enumerating:  58%|█████▊    | 26/45 [01:38<01:01,  3.23s/it]"
     ]
    },
    {
     "name": "stdout",
     "output_type": "stream",
     "text": [
      "The download was successful: ГОСТ 12.2.063-2015. Арматура трубопроводная. Общие требования безопасности.pdf\n",
      "--------------------------------------------------\n",
      "Файл № 27\n",
      "Trying to load file: 15. Приказ РТН № 519 ФНИП Требования к производству сварочных работ на опасных производственных объектах.docx\n",
      "The download was successful: 15. Приказ РТН № 519 ФНИП Требования к производству сварочных работ на опасных производственных объектах.docx\n",
      "--------------------------------------------------\n",
      "Файл № 28\n",
      "Trying to load file: 25. Приказ РТН № 784 Рекомендации по устройству и безопасной эксплуатации технологических трубопроводов.docx\n"
     ]
    },
    {
     "name": "stderr",
     "output_type": "stream",
     "text": [
      "Enumerating:  62%|██████▏   | 28/45 [01:38<00:33,  1.98s/it]"
     ]
    },
    {
     "name": "stdout",
     "output_type": "stream",
     "text": [
      "The download was successful: 25. Приказ РТН № 784 Рекомендации по устройству и безопасной эксплуатации технологических трубопроводов.docx\n",
      "--------------------------------------------------\n",
      "Файл № 29\n",
      "Trying to load file: 19.1 Приказ РТН № 444 ФНИП Правила промышленной безопасности при эксплуатации технологических трубопроводов.docx\n",
      "The download was successful: 19.1 Приказ РТН № 444 ФНИП Правила промышленной безопасности при эксплуатации технологических трубопроводов.docx\n",
      "--------------------------------------------------\n",
      "Файл № 30\n",
      "Trying to load file: 11. Постановление Правительства № 1466  Об утверждении Правил подготовки, рассмотрения и согласования планов и схем развития горных работ .pdf\n"
     ]
    },
    {
     "name": "stderr",
     "output_type": "stream",
     "text": [
      "Enumerating:  67%|██████▋   | 30/45 [01:39<00:20,  1.34s/it]"
     ]
    },
    {
     "name": "stdout",
     "output_type": "stream",
     "text": [
      "The download was successful: 11. Постановление Правительства № 1466  Об утверждении Правил подготовки, рассмотрения и согласования планов и схем развития горных работ .pdf\n",
      "--------------------------------------------------\n",
      "Файл № 31\n",
      "Trying to load file: 7. ФЗ 116 О промышленной безопасности ОПО.docx\n",
      "The download was successful: 7. ФЗ 116 О промышленной безопасности ОПО.docx\n",
      "--------------------------------------------------\n",
      "Файл № 32\n",
      "Trying to load file: 5. ФЗ 69 О пожарной безопасности.docx\n",
      "The download was successful: 5. ФЗ 69 О пожарной безопасности.docx\n",
      "--------------------------------------------------\n",
      "Файл № 33\n",
      "Trying to load file: СП 343.1325800.2017 Сооружения промышленных предприятий. Правила эксплуатации.pdf\n"
     ]
    },
    {
     "name": "stderr",
     "output_type": "stream",
     "text": [
      "Enumerating:  73%|███████▎  | 33/45 [01:47<00:23,  1.99s/it]"
     ]
    },
    {
     "name": "stdout",
     "output_type": "stream",
     "text": [
      "The download was successful: СП 343.1325800.2017 Сооружения промышленных предприятий. Правила эксплуатации.pdf\n",
      "--------------------------------------------------\n",
      "Файл № 34\n",
      "Trying to load file: 17. Приказ РТН № 387 Методические основы анализа опасностей и оценки риска аварий на опасных производственных объектах.pdf\n"
     ]
    },
    {
     "name": "stderr",
     "output_type": "stream",
     "text": [
      "Enumerating:  76%|███████▌  | 34/45 [01:53<00:30,  2.75s/it]"
     ]
    },
    {
     "name": "stdout",
     "output_type": "stream",
     "text": [
      "The download was successful: 17. Приказ РТН № 387 Методические основы анализа опасностей и оценки риска аварий на опасных производственных объектах.pdf\n",
      "--------------------------------------------------\n",
      "Файл № 35\n",
      "Trying to load file: 17. Приказ РТН № 478 ФНИП.pdf\n"
     ]
    },
    {
     "name": "stderr",
     "output_type": "stream",
     "text": [
      "Enumerating:  78%|███████▊  | 35/45 [01:54<00:24,  2.42s/it]"
     ]
    },
    {
     "name": "stdout",
     "output_type": "stream",
     "text": [
      "The download was successful: 17. Приказ РТН № 478 ФНИП.pdf\n",
      "--------------------------------------------------\n",
      "Файл № 36\n",
      "Trying to load file: СП 83.13330.2016 Промышленные печи и кирпичные трубы.docx\n"
     ]
    },
    {
     "name": "stderr",
     "output_type": "stream",
     "text": [
      "Enumerating:  80%|████████  | 36/45 [01:55<00:17,  1.93s/it]"
     ]
    },
    {
     "name": "stdout",
     "output_type": "stream",
     "text": [
      "The download was successful: СП 83.13330.2016 Промышленные печи и кирпичные трубы.docx\n",
      "--------------------------------------------------\n",
      "Файл № 37\n",
      "Trying to load file: 17. Приказ РТН № 136.pdf\n"
     ]
    },
    {
     "name": "stderr",
     "output_type": "stream",
     "text": [
      "Enumerating:  82%|████████▏ | 37/45 [02:02<00:26,  3.31s/it]"
     ]
    },
    {
     "name": "stdout",
     "output_type": "stream",
     "text": [
      "The download was successful: 17. Приказ РТН № 136.pdf\n",
      "--------------------------------------------------\n",
      "Файл № 38\n",
      "Trying to load file: СП 68.13330.2017 Приемка в эксплуатацию законченных строительство объектов.docx\n",
      "The download was successful: СП 68.13330.2017 Приемка в эксплуатацию законченных строительство объектов.docx\n",
      "--------------------------------------------------\n",
      "Файл № 39\n",
      "Trying to load file: 17. Приказ РТН № 450 Об утверждении Руководства по безопасности факельных систем.pdf\n"
     ]
    },
    {
     "name": "stderr",
     "output_type": "stream",
     "text": [
      "Enumerating:  93%|█████████▎| 42/45 [02:07<00:04,  1.57s/it]"
     ]
    },
    {
     "name": "stdout",
     "output_type": "stream",
     "text": [
      "The download was successful: 17. Приказ РТН № 450 Об утверждении Руководства по безопасности факельных систем.pdf\n",
      "--------------------------------------------------\n",
      "Файл № 40\n",
      "Trying to load file: ГОСТ Р 58972-2020 Общие правила отбора образцов для испытаний продукции при подтверждении соответствия.docx\n",
      "The download was successful: ГОСТ Р 58972-2020 Общие правила отбора образцов для испытаний продукции при подтверждении соответствия.docx\n",
      "--------------------------------------------------\n",
      "Файл № 41\n",
      "Trying to load file: ГОСТ Р 59652-2021 Футеровки теплового оборудования. Основные требования.docx\n",
      "The download was successful: ГОСТ Р 59652-2021 Футеровки теплового оборудования. Основные требования.docx\n",
      "--------------------------------------------------\n",
      "Файл № 42\n",
      "Trying to load file: 21. Приказ РТН № 330.docx\n",
      "The download was successful: 21. Приказ РТН № 330.docx\n",
      "--------------------------------------------------\n",
      "Файл № 43\n",
      "Trying to load file: 7. ФЗ 116 О промышленной безопасности ОПО Тихомирова.pdf\n"
     ]
    },
    {
     "name": "stderr",
     "output_type": "stream",
     "text": [
      "Enumerating: 100%|██████████| 45/45 [02:33<00:00,  3.41s/it]"
     ]
    },
    {
     "name": "stdout",
     "output_type": "stream",
     "text": [
      "The download was successful: 7. ФЗ 116 О промышленной безопасности ОПО Тихомирова.pdf\n",
      "--------------------------------------------------\n",
      "Файл № 44\n",
      "Trying to load file: 2. ТР ТС 010-2011 О безопасности машин и оборудования.docx\n",
      "The download was successful: 2. ТР ТС 010-2011 О безопасности машин и оборудования.docx\n",
      "--------------------------------------------------\n",
      "Файл № 45\n",
      "Trying to load file: ГОСТ Р 57955-2017 Здания и сооружения газонефтедобывающих производств. Нормы проектирования.docx\n",
      "The download was successful: ГОСТ Р 57955-2017 Здания и сооружения газонефтедобывающих производств. Нормы проектирования.docx\n",
      "--------------------------------------------------\n"
     ]
    },
    {
     "name": "stderr",
     "output_type": "stream",
     "text": [
      "\n"
     ]
    }
   ],
   "source": [
    "all_documents = os.listdir('../data')\n",
    "paths = '/srv/norma_ai/norma_ai_project/data/'\n",
    "\n",
    "loaded_docs = []\n",
    "broken_files = []\n",
    "\n",
    "def repack_pdf(input_path, output_path):\n",
    "    with pikepdf.open(input_path) as pdf:\n",
    "        pdf.save(output_path)\n",
    "\n",
    "for i, p in enumerate(tqdm(all_documents, desc=\"Enumerating\")):\n",
    "    print(f'Файл № {i+1}')\n",
    "    current_path = paths + p\n",
    "    print(f\"Trying to load file: {p}\")\n",
    "    if current_path.lower().endswith(\".docx\"):\n",
    "        try:\n",
    "            loaded_docs.extend(Docx2txtLoader(current_path).load())\n",
    "            print(f\"The download was successful: {p}\")\n",
    "            print('-'*50)\n",
    "        except Exception as e:\n",
    "            print(f'Нерабочий файл: {p}')\n",
    "            broken_files.append(p)\n",
    "            print('-'*50)\n",
    "            continue\n",
    "    elif current_path.lower().endswith(\".pdf\"):\n",
    "        path = Path(current_path)\n",
    "        try:\n",
    "            loaded_docs.extend(PDFPlumberLoader(str(path)).load())\n",
    "            print(f\"The download was successful: {p}\")\n",
    "            print('-'*50)\n",
    "        except Exception as e:\n",
    "            print(f'Нерабочий файл: {p}')\n",
    "            broken_files.append(p)\n",
    "            print('-'*50)\n",
    "            continue\n",
    "    else:\n",
    "        broken_files.append(p)\n",
    "            "
   ]
  },
  {
   "cell_type": "code",
   "execution_count": 51,
   "id": "278e32c7",
   "metadata": {},
   "outputs": [
    {
     "data": {
      "text/plain": [
       "[]"
      ]
     },
     "execution_count": 51,
     "metadata": {},
     "output_type": "execute_result"
    }
   ],
   "source": [
    "broken_files"
   ]
  },
  {
   "cell_type": "code",
   "execution_count": null,
   "id": "e17c9d02",
   "metadata": {},
   "outputs": [
    {
     "name": "stdout",
     "output_type": "stream",
     "text": [
      "Удалён: /srv/norma_ai/norma_ai_project/data_copy/19.1 Приказ РТН № 444 ФНИП Правила промышленной безопасности при эксплуатации технологических трубопроводов.docx\n",
      "Удалён: /srv/norma_ai/norma_ai_project/data_copy/11. Постановление Правительства № 1466  Об утверждении Правил подготовки, рассмотрения и согласования планов и схем развития горных работ .pdf\n",
      "Удалён: /srv/norma_ai/norma_ai_project/data_copy/Федеральный закон от 31.07.2020 N 248-ФЗ О государственном контроле (надзоре) и муниципальном.rtf\n",
      "Удалён: /srv/norma_ai/norma_ai_project/data_copy/19. Приказ РТН № 536 ФНИП Правила промышленной безопасности при использовании оборудования, работающего под избыточным давлением.rtf\n",
      "Удалён: /srv/norma_ai/norma_ai_project/data_copy/7. ФЗ 116 О промышленной безопасности ОПО.docx\n",
      "Удалён: /srv/norma_ai/norma_ai_project/data_copy/5. ФЗ 69 О пожарной безопасности.docx\n",
      "Удалён: /srv/norma_ai/norma_ai_project/data_copy/СП 343.1325800.2017 Сооружения промышленных предприятий. Правила эксплуатации.pdf\n",
      "Удалён: /srv/norma_ai/norma_ai_project/data_copy/17. Приказ РТН № 387 Методические основы анализа опасностей и оценки риска аварий на опасных производственных объектах.pdf\n",
      "Удалён: /srv/norma_ai/norma_ai_project/data_copy/СП 83.13330.2016 Промышленные печи и кирпичные трубы.docx\n",
      "Удалён: /srv/norma_ai/norma_ai_project/data_copy/9.1. ФЗ 7 Об охране окружающей среды.rtf\n",
      "Удалён: /srv/norma_ai/norma_ai_project/data_copy/СП 68.13330.2017 Приемка в эксплуатацию законченных строительство объектов.docx\n",
      "Удалён: /srv/norma_ai/norma_ai_project/data_copy/17. Приказ РТН № 450 Об утверждении Руководства по безопасности факельных систем.pdf\n",
      "Удалён: /srv/norma_ai/norma_ai_project/data_copy/ГОСТ Р 58972-2020 Общие правила отбора образцов для испытаний продукции при подтверждении соответствия.docx\n",
      "Удалён: /srv/norma_ai/norma_ai_project/data_copy/ГОСТ Р 59652-2021 Футеровки теплового оборудования. Основные требования.docx\n",
      "Удалён: /srv/norma_ai/norma_ai_project/data_copy/2. ТР ТС 010-2011 О безопасности машин и оборудования.docx\n",
      "Удалён: /srv/norma_ai/norma_ai_project/data_copy/ГОСТ Р 57955-2017 Здания и сооружения газонефтедобывающих производств. Нормы проектирования.docx\n"
     ]
    }
   ],
   "source": [
    "# folder = '/srv/norma_ai/norma_ai_project/data_copy'\n",
    "\n",
    "# for filename in broken_files:\n",
    "#     file_path = os.path.join(folder, filename)\n",
    "#     try:\n",
    "#         if os.path.isfile(file_path):   # проверяем, что это файл, а не папка\n",
    "#             os.remove(file_path)        # удаляем файл\n",
    "#             print(f\"Удалён: {file_path}\")\n",
    "#     except Exception as e:\n",
    "#         print(f\"Не удалось удалить {file_path}: {e}\")"
   ]
  },
  {
   "cell_type": "code",
   "execution_count": 49,
   "id": "a13a38ed",
   "metadata": {},
   "outputs": [
    {
     "data": {
      "text/plain": [
       "0"
      ]
     },
     "execution_count": 49,
     "metadata": {},
     "output_type": "execute_result"
    }
   ],
   "source": [
    "len(loaded_docs)"
   ]
  },
  {
   "cell_type": "code",
   "execution_count": 44,
   "id": "0c99d211",
   "metadata": {},
   "outputs": [],
   "source": [
    "# Проверочный блок для PDF\n",
    "\n",
    "current_path = '/srv/norma_ai/norma_ai_project/data/3. ТР ТС 012-2011.pdf'\n",
    "path = Path(current_path)\n",
    "loaded_docs_test = PDFPlumberLoader(str(path)).load()"
   ]
  },
  {
   "cell_type": "code",
   "execution_count": 45,
   "id": "536e47c4",
   "metadata": {},
   "outputs": [
    {
     "data": {
      "text/plain": [
       "[Document(metadata={'source': '/srv/norma_ai/norma_ai_project/data/3. ТР ТС 012-2011.pdf', 'file_path': '/srv/norma_ai/norma_ai_project/data/3. ТР ТС 012-2011.pdf', 'page': 0, 'total_pages': 21, 'Title': 'Решение Комиссии Таможенного союза от 18.10.2011 N 825(ред. от 01.12.2020)\"О принятии технического регламента Таможенного союза \"О безопасности оборудования для работы во взрывоопасных средах\"(вместе с \"ТР ТС 012/2011. Технический регламент Таможенного со', 'Author': 'Evgeniy Ostromecky', 'Creator': 'Microsoft® Word 2016', 'CreationDate': \"D:20250826143355+03'00'\", 'ModDate': \"D:20250826143355+03'00'\", 'Producer': 'Microsoft® Word 2016'}, page_content='Решение Комиссии Таможенного союза от\\n18.10.2011 N 825\\n(ред. от 01.12.2020)\\n\"О принятии технического регламента\\nТаможенного союза \"О безопасности\\nоборудования для работы во взрывоопасных\\nсредах\"\\n(вместе с \"ТР ТС 012/2011. Технический\\nрегламент Таможенного союза. О\\nбезопасности оборудования для работы во\\nвзрывоопасных средах\")\\nДокумент предоставлен КонсультантПлюс\\nwww.consultant.ru\\nДата сохранения: 14.02.2022\\n'),\n",
       " Document(metadata={'source': '/srv/norma_ai/norma_ai_project/data/3. ТР ТС 012-2011.pdf', 'file_path': '/srv/norma_ai/norma_ai_project/data/3. ТР ТС 012-2011.pdf', 'page': 1, 'total_pages': 21, 'Title': 'Решение Комиссии Таможенного союза от 18.10.2011 N 825(ред. от 01.12.2020)\"О принятии технического регламента Таможенного союза \"О безопасности оборудования для работы во взрывоопасных средах\"(вместе с \"ТР ТС 012/2011. Технический регламент Таможенного со', 'Author': 'Evgeniy Ostromecky', 'Creator': 'Microsoft® Word 2016', 'CreationDate': \"D:20250826143355+03'00'\", 'ModDate': \"D:20250826143355+03'00'\", 'Producer': 'Microsoft® Word 2016'}, page_content='Решение Комиссии Таможенного союза от 18.10.2011 N 825\\nДокумент предоставлен КонсультантПлюс\\n(ред. от 01.12.2020)\\nДата сохранения: 14.02.2022\\n\"О принятии технического регламента Таможенн...\\nЕВРАЗИЙСКОЕ ЭКОНОМИЧЕСКОЕ СООБЩЕСТВО\\nКОМИССИЯ ТАМОЖЕННОГО СОЮЗА\\nРЕШЕНИЕ\\nот 18 октября 2011 г. N 825\\nО ПРИНЯТИИ ТЕХНИЧЕСКОГО РЕГЛАМЕНТА\\nТАМОЖЕННОГО СОЮЗА \"О БЕЗОПАСНОСТИ ОБОРУДОВАНИЯ ДЛЯ РАБОТЫ\\nВО ВЗРЫВООПАСНЫХ СРЕДАХ\"\\nСписок изменяющих документов\\n(в ред. решений Коллегии Евразийской экономической комиссии\\nот 04.12.2012 N 250, от 13.05.2014 N 73, от 25.10.2016 N 119,\\nот 01.12.2020 N 158)\\nВ соответствии со статьей 13 Соглашения о единых принципах и правилах технического регулирования\\nв Республике Беларусь, Республике Казахстан и Российской Федерации от 18 ноября 2010 года Комиссия\\nТаможенного союза (далее - Комиссия) решила:\\n1. Принять технический регламент Таможенного союза \"О безопасности оборудования для работы во\\nвзрывоопасных средах\" (ТР ТС 012/2011) (прилагается).\\n2. Утратил силу. - Решение Коллегии Евразийской экономической комиссии от 01.12.2020 N 158.\\n3. Установить:\\n3.1. Технический регламент Таможенного союза \"О безопасности оборудования для работы во\\nвзрывоопасных средах\" (далее - Технический регламент) вступает в силу с 15 февраля 2013 года;\\n3.2. Документы об оценке (подтверждении) соответствия обязательным требованиям, установленным\\nнормативными правовыми актами Таможенного союза или законодательством государства - члена\\nТаможенного союза, выданные или принятые в отношении продукции, являющейся объектом технического\\nрегулирования Технического регламента (далее - продукция) до дня вступления в силу Технического\\nрегламента, действительны до окончания срока их действия, но не позднее 15 марта 2015 года. Указанные\\nдокументы, выданные или принятые до дня официального опубликования настоящего Решения,\\nдействительны до окончания срока их действия.\\nСо дня вступления в силу Технического регламента выдача или принятие документов об оценке\\n(подтверждении) соответствия продукции обязательным требованиям, ранее установленным нормативными\\nправовыми актами Таможенного союза или законодательством государства - члена Таможенного союза, не\\nдопускается;\\n3.3. До 15 марта 2015 года допускается производство и выпуск в обращение продукции в соответствии\\nс обязательными требованиями, ранее установленными нормативными правовыми актами Таможенного\\nсоюза или законодательством государства - члена Таможенного союза, при наличии документов об оценке\\n(подтверждении) соответствия продукции указанным обязательным требованиям, выданных или принятых\\nдо дня вступления в силу Технического регламента.\\nУказанная продукция маркируется национальным знаком соответствия (знаком обращения на рынке) в\\nсоответствии с законодательством государства - члена Таможенного союза.\\nМаркировка такой продукции единым знаком обращения продукции на рынке государств - членов\\nТаможенного союза не допускается;\\n3.3.1. До 15 ноября 2013 года допускается производство и выпуск в обращение на таможенной\\nКонсультантПлюс\\nwww.consultant.ru Страница 2 из 21\\nнадежная правовая поддержка\\n'),\n",
       " Document(metadata={'source': '/srv/norma_ai/norma_ai_project/data/3. ТР ТС 012-2011.pdf', 'file_path': '/srv/norma_ai/norma_ai_project/data/3. ТР ТС 012-2011.pdf', 'page': 2, 'total_pages': 21, 'Title': 'Решение Комиссии Таможенного союза от 18.10.2011 N 825(ред. от 01.12.2020)\"О принятии технического регламента Таможенного союза \"О безопасности оборудования для работы во взрывоопасных средах\"(вместе с \"ТР ТС 012/2011. Технический регламент Таможенного со', 'Author': 'Evgeniy Ostromecky', 'Creator': 'Microsoft® Word 2016', 'CreationDate': \"D:20250826143355+03'00'\", 'ModDate': \"D:20250826143355+03'00'\", 'Producer': 'Microsoft® Word 2016'}, page_content='Решение Комиссии Таможенного союза от 18.10.2011 N 825\\nДокумент предоставлен КонсультантПлюс\\n(ред. от 01.12.2020)\\nДата сохранения: 14.02.2022\\n\"О принятии технического регламента Таможенн...\\nтерритории Таможенного союза продукции, не подлежавшей до дня вступления в силу Технического\\nрегламента обязательной оценке (подтверждению) соответствия обязательным требованиям,\\nустановленным нормативными правовыми актами Таможенного союза или законодательством государства -\\nчлена Таможенного союза, без документов об обязательной оценке (подтверждении) соответствия и без\\nмаркировки национальным знаком соответствия (знаком обращения на рынке);\\n(пп. 3.3.1 введен решением Коллегии Евразийской экономической комиссии от 04.12.2012 N 250)\\n3.4. Обращение продукции, выпущенной в обращение в период действия документов об оценке\\n(подтверждении) соответствия, указанных в подпункте 3.2 настоящего Решения, а также продукции,\\nуказанной в подпункте 3.3.1 настоящего Решения, допускается в течение срока службы продукции,\\nустановленного в соответствии с законодательством государства - члена Таможенного союза.\\n(в ред. решения Коллегии Евразийской экономической комиссии от 04.12.2012 N 250)\\n4. Секретариату Комиссии совместно со Сторонами подготовить проект Плана мероприятий,\\nнеобходимых для реализации Технического регламента, и в трехмесячный срок со дня вступления в силу\\nнастоящего Решения обеспечить представление его на утверждение Комиссии в установленном порядке.\\n5. Российской Стороне с участием Сторон на основании мониторинга результатов применения\\nстандартов обеспечить подготовку предложений по актуализации перечней стандартов, указанных в пункте\\n2 настоящего Решения, и представление не реже одного раза в год со дня вступления в силу Технического\\nрегламента в Секретариат Комиссии для утверждения Комиссией в установленном порядке.\\n6. Сторонам:\\n6.1. к дате вступления Технического регламента в силу определить органы государственного контроля\\n(надзора), ответственные за осуществление государственного контроля (надзора) за соблюдением\\nтребований Технического регламента, и информировать об этом Комиссию;\\n6.2. обеспечить проведение государственного контроля (надзора) за соблюдением требований\\nТехнического регламента с даты вступления его в силу.\\nЧлены Комиссии Таможенного союза:\\nОт Республики От Республики От Российской\\nБеларусь Казахстан Федерации\\n(Подпись) (Подпись) (Подпись)\\nС.РУМАС У.ШУКЕЕВ И.ШУВАЛОВ\\nУтвержден\\nРешением Комиссии Таможенного Союза\\nот 18 октября 2011 г. N 825\\nТЕХНИЧЕСКИЙ РЕГЛАМЕНТ ТАМОЖЕННОГО СОЮЗА\\nТР ТС 012/2011\\n\"О БЕЗОПАСНОСТИ\\nОБОРУДОВАНИЯ ДЛЯ РАБОТЫ ВО ВЗРЫВООПАСНЫХ СРЕДАХ\"\\nПредисловие\\n1. Настоящий технический регламент Таможенного союза разработан в соответствии с Соглашением о\\nединых принципах и правилах технического регулирования в Республике Беларусь, Республике Казахстан и\\nКонсультантПлюс\\nwww.consultant.ru Страница 3 из 21\\nнадежная правовая поддержка\\n'),\n",
       " Document(metadata={'source': '/srv/norma_ai/norma_ai_project/data/3. ТР ТС 012-2011.pdf', 'file_path': '/srv/norma_ai/norma_ai_project/data/3. ТР ТС 012-2011.pdf', 'page': 3, 'total_pages': 21, 'Title': 'Решение Комиссии Таможенного союза от 18.10.2011 N 825(ред. от 01.12.2020)\"О принятии технического регламента Таможенного союза \"О безопасности оборудования для работы во взрывоопасных средах\"(вместе с \"ТР ТС 012/2011. Технический регламент Таможенного со', 'Author': 'Evgeniy Ostromecky', 'Creator': 'Microsoft® Word 2016', 'CreationDate': \"D:20250826143355+03'00'\", 'ModDate': \"D:20250826143355+03'00'\", 'Producer': 'Microsoft® Word 2016'}, page_content='Решение Комиссии Таможенного союза от 18.10.2011 N 825\\nДокумент предоставлен КонсультантПлюс\\n(ред. от 01.12.2020)\\nДата сохранения: 14.02.2022\\n\"О принятии технического регламента Таможенн...\\nРоссийской Федерации от 18 ноября 2010 г.\\n2. Настоящий технический регламент Таможенного союза устанавливает на единой таможенной\\nтерритории Таможенного союза единые обязательные для применения и исполнения требования к\\nоборудованию для работы во взрывоопасных средах в целях обеспечения свободного перемещения\\nуказанного оборудования, выпускаемого в обращение на единой таможенной территории Таможенного\\nсоюза.\\n3. Если в отношении оборудования для работы во взрывоопасных средах будут приняты иные\\nтехнические регламенты Таможенного союза и (или) технические регламенты Евразийского экономического\\nсообщества (далее - ЕврАзЭС), устанавливающие требования к указанному оборудованию, отличные от\\nтребований взрывобезопасности, то оно должно соответствовать требованиям этих технических\\nрегламентов Таможенного союза и (или) технических регламентов ЕврАзЭС, действие которых на них\\nраспространяется.\\nСтатья 1. Область применения\\n1. Настоящий технический регламент Таможенного союза устанавливает требования к оборудованию\\nдля работы во взрывоопасных средах, выполнение которых обеспечивает безопасность его применения во\\nвзрывоопасных средах.\\n2. Настоящий технический регламент Таможенного союза принят в целях защиты жизни и здоровья\\nчеловека, имущества, предупреждения действий, вводящих в заблуждение потребителей.\\n3. Настоящий технический регламент Таможенного союза распространяется на электрическое\\n(электрооборудование), включая Ex-компоненты, и неэлектрическое оборудование для работы во\\nвзрывоопасных средах.\\nИдентификационным признаком оборудования для работы во взрывоопасных средах и Ex-компонентов\\nявляется наличие средств обеспечения взрывозащиты, указанных в технической документации\\nизготовителя, и маркировки взрывозащиты, нанесенной на оборудование и Ex-компонент.\\n4. Действие настоящего технического регламента Таможенного союза не распространяется на:\\n- изделия медицинского назначения;\\n- оборудование, при эксплуатации которого опасность взрыва возникает только из-за наличия\\nвзрывоопасных веществ и нестойких химических соединений;\\n- оборудование для бытового и непроизводственного применения в условиях, когда взрывоопасная\\nсреда образуется вследствие непредвиденной утечки горючего газа;\\n- средства индивидуальной защиты;\\n- морские суда, суда внутреннего и смешанного (река-море) плавания, передвижные морские\\nплатформы и буровые платформы для работы в морских и внутренних водах, иные плавучие средства, а\\nтакже используемые на них машины и оборудование;\\n- транспортные средства общего пользования, предназначенные для перевозки пассажиров и грузов\\nвоздушным, наземным, железнодорожным или водным транспортом;\\n- ядерное оружие, исследовательские установки организаций ядерно-оборонного комплекса, кроме\\nвходящего в их состав оборудования, находящегося во взрывоопасных зонах.\\nСтатья 2. Определения\\nВ настоящем техническом регламенте Таможенного союза применяются следующие термины и их\\nопределения:\\nКонсультантПлюс\\nwww.consultant.ru Страница 4 из 21\\nнадежная правовая поддержка\\n'),\n",
       " Document(metadata={'source': '/srv/norma_ai/norma_ai_project/data/3. ТР ТС 012-2011.pdf', 'file_path': '/srv/norma_ai/norma_ai_project/data/3. ТР ТС 012-2011.pdf', 'page': 4, 'total_pages': 21, 'Title': 'Решение Комиссии Таможенного союза от 18.10.2011 N 825(ред. от 01.12.2020)\"О принятии технического регламента Таможенного союза \"О безопасности оборудования для работы во взрывоопасных средах\"(вместе с \"ТР ТС 012/2011. Технический регламент Таможенного со', 'Author': 'Evgeniy Ostromecky', 'Creator': 'Microsoft® Word 2016', 'CreationDate': \"D:20250826143355+03'00'\", 'ModDate': \"D:20250826143355+03'00'\", 'Producer': 'Microsoft® Word 2016'}, page_content='Решение Комиссии Таможенного союза от 18.10.2011 N 825\\nДокумент предоставлен КонсультантПлюс\\n(ред. от 01.12.2020)\\nДата сохранения: 14.02.2022\\n\"О принятии технического регламента Таможенн...\\n\"аварийный режим\" - режим, при котором характеристики оборудования для работы во взрывоопасных\\nсредах выходят за пределы ограничений, указанных изготовителем в технической документации;\\n\"анализ состояния производства изготовителя\" - оценка наличия у изготовителя необходимых условий\\nдля обеспечения соответствия выпускаемого оборудования требованиям настоящего технического\\nрегламента Таможенного союза;\\n\"ввод в эксплуатацию\" - документально оформленное событие, фиксирующее готовность оборудования\\nк применению по назначению;\\n\"вид взрывозащиты\" - специальные меры, предусмотренные в оборудовании для работы во\\nвзрывоопасных средах с целью предотвращения воспламенения окружающей взрывоопасной среды;\\n\"взрывобезопасность\" - отсутствие недопустимого риска воспламенения окружающей взрывоопасной\\nсреды, связанного с возможностью причинения вреда и (или) нанесения ущерба;\\n\"взрывозащита\" - меры, обеспечивающие взрывобезопасность оборудования для работы во\\nвзрывоопасных средах;\\n\"взрывоопасная зона\" - часть замкнутого или открытого пространства, в которой присутствует или\\nможет образоваться взрывоопасная среда в объеме, требующем специальных мер защиты при\\nконструировании, изготовлении, монтаже и эксплуатации оборудования;\\n\"взрывоопасная среда\" - смесь с воздухом при атмосферных условиях горючих веществ в виде газа,\\nпара, тумана, пыли, волокон или летучих частиц, в которой после воспламенения происходит\\nсамоподдерживающееся распространение пламени;\\n\"идентификация оборудования\" - установление тождественности характеристик оборудования его\\nсущественным признакам;\\n\"изготовитель\" - юридическое лицо или физическое лицо в качестве индивидуального\\nпредпринимателя, осуществляющие от своего имени производство и (или) реализацию оборудования для\\nработы во взрывоопасных средах и ответственные за его соответствие требованиям настоящего\\nтехнического регламента Таможенного союза;\\n\"импортер\" - резидент государства - члена Таможенного союза, который заключил с нерезидентом\\nгосударств - членов Таможенного союза внешнеторговый договор на передачу оборудования для работы во\\nвзрывоопасных средах, осуществляет реализацию этого оборудования и несет ответственность за его\\nсоответствие требованиям безопасности настоящего технического регламента Таможенного союза;\\n\"Ex-компонент\" - устанавливаемое на (в) оборудование взрывозащищенное техническое устройство,\\nнеобходимое для безопасного функционирования оборудования во взрывоопасных средах, но не\\nпредназначенное для самостоятельного применения;\\n\"максимальная температура поверхности\" - наибольшая температура, возникающая в процессе\\nэксплуатации на одной из частей или поверхности оборудования при нарушении установленных режимов его\\nработы, предусмотренных в технической документации изготовителя, или повреждения, но в пределах\\nотклонений, установленных для взрывозащиты конкретного вида;\\n\"маркировка взрывозащиты\" - наносимые на оборудование и Ex-компоненты для работы во\\nвзрывоопасных средах и указанные в технической документации изготовителя специальный знак\\nвзрывобезопасности и идентификационные условные обозначения показателей, определяющих\\nвзрывобезопасность оборудования и Ex-компонентов для работы во взрывоопасных средах;\\n\"нормальный режим эксплуатации\" - режим работы оборудования, при котором его электрические и\\nмеханические характеристики не выходят за пределы ограничений, указанных изготовителем в технической\\nдокументации;\\n\"оборудование для работы во взрывоопасных средах\" - техническое устройство (машина, аппарат,\\nКонсультантПлюс\\nwww.consultant.ru Страница 5 из 21\\nнадежная правовая поддержка\\n'),\n",
       " Document(metadata={'source': '/srv/norma_ai/norma_ai_project/data/3. ТР ТС 012-2011.pdf', 'file_path': '/srv/norma_ai/norma_ai_project/data/3. ТР ТС 012-2011.pdf', 'page': 5, 'total_pages': 21, 'Title': 'Решение Комиссии Таможенного союза от 18.10.2011 N 825(ред. от 01.12.2020)\"О принятии технического регламента Таможенного союза \"О безопасности оборудования для работы во взрывоопасных средах\"(вместе с \"ТР ТС 012/2011. Технический регламент Таможенного со', 'Author': 'Evgeniy Ostromecky', 'Creator': 'Microsoft® Word 2016', 'CreationDate': \"D:20250826143355+03'00'\", 'ModDate': \"D:20250826143355+03'00'\", 'Producer': 'Microsoft® Word 2016'}, page_content='Решение Комиссии Таможенного союза от 18.10.2011 N 825\\nДокумент предоставлен КонсультантПлюс\\n(ред. от 01.12.2020)\\nДата сохранения: 14.02.2022\\n\"О принятии технического регламента Таможенн...\\nстационарная или передвижная установка, элемент их систем управления, защиты, устройство,\\nобеспечивающее защиту, контрольно-измерительный прибор), которое предназначено для работы во\\nвзрывоопасных средах и может содержать собственные потенциальные источники воспламенения\\nокружающей взрывоопасной среды, но его конструкцией предусмотрены меры по исключению недопустимого\\nриска воспламенения этой среды;\\n\"отказ\" - событие, заключающееся в нарушении работоспособного состояния оборудования;\\n\"сертификат соответствия менеджмента качества\" - документ, которым орган по сертификации систем\\nменеджмента качества удостоверяет соответствие качества работ и услуг изготовителя требованиям\\nстандартов ИСО 9000;\\n\"специальный знак взрывобезопасности\" - знак, наносимый на оборудование и Ex-компоненты и\\nсвидетельствующий, что оборудование и Ex-компоненты выполнены во взрывозащищенном исполнении;\\n\"температура самовоспламенения взрывоопасной газовой среды\" - наименьшая температура нагретой\\nповерхности, которая в заданных условиях воспламеняет горючие вещества в виде газо- или паровоздушной\\nсмеси;\\n\"температура самовоспламенения слоя пыли\" - наименьшая температура нагретой поверхности, при\\nкоторой происходит самовоспламенение слоя пыли заданной толщины на этой поверхности;\\n\"техническая документация изготовителя\" - система графических и текстовых документов,\\nиспользуемых при конструировании, изготовлении и эксплуатации оборудования для работы во\\nвзрывоопасных средах (деталей, сборочных единиц, комплексов и комплектов), а также при проектировании,\\nвозведении и эксплуатации систем защиты;\\n\"уровень взрывозащиты\" - уровень защиты от взрыва, присваиваемый оборудованию в зависимости от\\nопасности стать источником воспламенения и условий применения во взрывоопасных средах.\\nСтатья 3. Правила обращения на рынке\\n1. Оборудование для работы во взрывоопасных средах выпускается в обращение на единой\\nтаможенной территории Таможенного союза при условии, что оно прошло необходимые процедуры оценки\\n(подтверждения) соответствия, установленные настоящим техническим регламентом Таможенного союза, а\\nтакже другими техническими регламентами Таможенного союза и техническими регламентами Евразийского\\nэкономического сообщества (далее - ЕврАзЭС), действие которых распространяется на данное\\nоборудование.\\n2. Оборудование для работы во взрывоопасных средах, соответствие которого требованиям\\nнастоящего технического регламента Таможенного союза не подтверждено, не должно быть маркировано\\nединым знаком обращения продукции на рынке государств - членов Таможенного союза и не допускается к\\nвыпуску в обращение на рынке.\\nСтатья 4. Требования взрывобезопасности\\n1. Оборудование для работы во взрывоопасных средах (далее - оборудование) должно\\nсоответствовать требованиям, необходимым для безопасного функционирования и эксплуатации в\\nотношении риска взрыва:\\nпо предупреждению образования взрывоопасной среды, которая может создаваться за счет выделения\\nоборудованием горючих веществ;\\nпо предупреждению воспламенения взрывоопасной среды с учетом характера каждого источника\\nинициирования взрыва;\\nв соответствии с областью применения оборудования, уровнями и видами взрывозащиты согласно\\nприложению 1.\\nКонсультантПлюс\\nwww.consultant.ru Страница 6 из 21\\nнадежная правовая поддержка\\n'),\n",
       " Document(metadata={'source': '/srv/norma_ai/norma_ai_project/data/3. ТР ТС 012-2011.pdf', 'file_path': '/srv/norma_ai/norma_ai_project/data/3. ТР ТС 012-2011.pdf', 'page': 6, 'total_pages': 21, 'Title': 'Решение Комиссии Таможенного союза от 18.10.2011 N 825(ред. от 01.12.2020)\"О принятии технического регламента Таможенного союза \"О безопасности оборудования для работы во взрывоопасных средах\"(вместе с \"ТР ТС 012/2011. Технический регламент Таможенного со', 'Author': 'Evgeniy Ostromecky', 'Creator': 'Microsoft® Word 2016', 'CreationDate': \"D:20250826143355+03'00'\", 'ModDate': \"D:20250826143355+03'00'\", 'Producer': 'Microsoft® Word 2016'}, page_content='Решение Комиссии Таможенного союза от 18.10.2011 N 825\\nДокумент предоставлен КонсультантПлюс\\n(ред. от 01.12.2020)\\nДата сохранения: 14.02.2022\\n\"О принятии технического регламента Таможенн...\\n2. Взрывобезопасность оборудования должна обеспечиваться в нормальных режимах работы и в\\nпределах отклонений, установленных технической документацией изготовителя, с учетом условий его\\nприменения.\\n3. Оборудование для работы во взрывоопасных средах должно быть разработано и изготовлено таким\\nобразом, чтобы при применении его по назначению и выполнении требований к монтажу, эксплуатации\\n(использованию), перевозке (транспортированию), техническому обслуживанию и ремонту обеспечивалось\\nвыполнение следующих требований безопасности:\\n1) оборудование должно обеспечивать взрывобезопасность при эксплуатации в течение всего\\nпредполагаемого (расчетного) срока службы;\\n2) оборудование должно функционировать в фактических или прогнозируемых условиях окружающей\\nсреды;\\n3) оборудование должно сохранять взрывобезопасность в изменяющихся условиях окружающей среды\\nи при наличии внешних воздействий (влажность, вибрация, загрязнения, грозовые и коммутационные\\nперенапряжения и др.) с учетом ограничений рабочих условий, установленных изготовителем.\\nЧасти оборудования должны быть рассчитаны на соответствующее механическое и тепловое\\nвоздействие и должны выдерживать воздействие существующих или предполагаемых агрессивных веществ;\\n4) если оборудование содержит части, которые могут быть источниками воспламенения, оно должно\\nоткрываться в выключенном состоянии или содержать только искробезопасные цепи, или иметь защиту от\\nприкасания персонала и предупредительные надписи;\\n5) при наличии в оболочках накопителей электрического заряда (конденсаторов) и нагретых элементов,\\nкоторые могут быть источниками воспламенения, оболочки должны открываться с выдержкой времени,\\nдостаточной для разрядки встроенных конденсаторов до значения безопасной остаточной энергии или для\\nснижения температуры нагретых элементов ниже максимальной температуры поверхности либо\\nтемпературного класса, указанных на оборудовании.\\nЕсли при взрывозащите оборудования путем продувки защитным газом после отключения\\nэлектропитания предусмотрено продолжение продувки защитным газом до разрядки встроенных\\nконденсаторов или снижения температуры нагретых элементов до указанных выше значений, изготовитель\\nдолжен нанести на открывающиеся части оборудования предупредительную надпись;\\n6) температура поверхности оборудования с уровнем взрывозащиты \"особовзрывобезопасный\" (\"очень\\nвысокий\") и \"взрывобезопасный\" (\"высокий\") и (или) его частей должна быть ниже температуры\\nсамовоспламенения окружающей взрывоопасной газовой среды и температуры самовоспламенения слоя\\nпыли при эксплуатации (в пределах отклонений, установленных в технической документации изготовителя)\\nв указанных аварийных режимах и при изменении условий окружающей среды.\\nТемпература выше температуры самовоспламенения окружающей взрывоопасной среды при\\nэксплуатации (в пределах отклонений, установленных в технической документации изготовителя)\\nдопускается только в случае, если изготовитель принимает дополнительные меры по защите указанного\\nоборудования.\\nНеобходимо учитывать повышение температуры, вызванное внешними источниками нагревания и\\nхимическими реакциями;\\n7) температура поверхности оборудования с уровнем взрывозащиты \"повышенная надежность против\\nвзрыва\" (\"повышенный\") не должна быть выше максимальной температуры поверхности в нормальном\\nрежиме эксплуатации.\\nКонструкция такого оборудования не должна иметь частей, способных к искрообразованию,\\nвоспламеняющему окружающую взрывоопасную среду;\\nКонсультантПлюс\\nwww.consultant.ru Страница 7 из 21\\nнадежная правовая поддержка\\n'),\n",
       " Document(metadata={'source': '/srv/norma_ai/norma_ai_project/data/3. ТР ТС 012-2011.pdf', 'file_path': '/srv/norma_ai/norma_ai_project/data/3. ТР ТС 012-2011.pdf', 'page': 7, 'total_pages': 21, 'Title': 'Решение Комиссии Таможенного союза от 18.10.2011 N 825(ред. от 01.12.2020)\"О принятии технического регламента Таможенного союза \"О безопасности оборудования для работы во взрывоопасных средах\"(вместе с \"ТР ТС 012/2011. Технический регламент Таможенного со', 'Author': 'Evgeniy Ostromecky', 'Creator': 'Microsoft® Word 2016', 'CreationDate': \"D:20250826143355+03'00'\", 'ModDate': \"D:20250826143355+03'00'\", 'Producer': 'Microsoft® Word 2016'}, page_content='Решение Комиссии Таможенного союза от 18.10.2011 N 825\\nДокумент предоставлен КонсультантПлюс\\n(ред. от 01.12.2020)\\nДата сохранения: 14.02.2022\\n\"О принятии технического регламента Таможенн...\\n8) оборудование группы I должно быть пылезащищенным и предотвращать опасность воспламенения\\nугольной пыли;\\n9) в оборудовании группы III, включая кабельные вводы и соединения, пыль (с учетом размера ее\\nчастиц) не должна образовывать взрывоопасные смеси с воздухом или опасные скопления внутри\\nоборудования;\\n10) оборудование, которое может выделять горючие газы или пыль, должно иметь закрытые\\nконструкции. Имеющиеся в оборудовании отверстия или негерметичные соединения должны быть\\nспроектированы так, чтобы образующиеся газы или пыль не привели к возникновению взрывоопасной среды\\nс внешней стороны оборудования. Отверстия, через которые материалы вводятся или выводятся, должны\\nпроектироваться и оборудоваться так, чтобы ограничить выход горючих материалов во время заполнения\\nили слива;\\n11) оборудование, предназначенное для применения на объектах и (или) их участках с присутствием\\nпыли, должно проектироваться так, чтобы пыль, осевшая на его поверхности, не воспламенялась. Отложения\\nпыли должны ограничиваться путем очистки поверхностей, периодичность которой указывается в\\nруководстве (инструкции) по эксплуатации (применению). Температура поверхности частей оборудования\\nдолжна быть ниже температуры самовоспламенения слоя пыли. При этом должны предусматриваться\\nсредства ограничения температуры поверхности частей оборудования с целью предупреждения опасного\\nтепловыделения в зависимости от толщины слоя осевшей пыли;\\n12) должно быть предусмотрено безопасное ручное отключение оборудования, включенного в\\nавтоматические процессы, при нарушении установленных режимов его работы, предусмотренных в\\nтехнической документации изготовителя, если это не скажется отрицательно на безопасности;\\n13) при аварийном отключении оборудования аккумулированная энергия должна рассеиваться до\\nбезопасного значения за время, указанное на предупредительных табличках, размещенных на открываемых\\nкрышках;\\n14) оборудование должно оснащаться соответствующими вводными устройствами, причем, если\\nоборудование предполагается использовать в сочетании с другим оборудованием, их соединение должно\\nбыть безопасным;\\n15) если оборудование имеет устройства обнаружения или предупредительной сигнализации для\\nконтроля взрывоопасной среды, места и условия их размещения должны предусматриваться в технической\\nдокументации изготовителя;\\n16) оборудование не должно содержать материалы, способные выделять горючие вещества,\\nсоздающие взрывоопасную среду;\\n17) в пределах рабочих условий, установленных в технической документации изготовителя,\\nнеобходимо исключить возможность химической реакции между используемыми материалами и\\nвеществами, составляющими потенциально взрывоопасную среду, которая может отрицательно повлиять на\\nвзрывозащиту;\\n18) оборудование не должно содержать материалы, которые при изменении своих характеристик под\\nвлиянием температуры окружающей среды и условий эксплуатации, а также в сочетании с другими\\nматериалами снижают уровень взрывозащиты оборудования;\\n19) Ex-компоненты, устанавливаемые в оборудовании или используемые для замены деталей\\nоборудования и систем защиты, должны безопасно функционировать в соответствии с требованиями\\nобеспечения взрывобезопасности при их установке в соответствии с руководствами (инструкциями) по\\nэксплуатации (применению) изготовителя;\\n20) оборудование, которое может подвергаться внешним воздействиям, должно обеспечиваться\\nдополнительными средствами защиты. Оборудование должно выдерживать внешние воздействия без\\nнарушения его взрывозащиты;\\nКонсультантПлюс\\nwww.consultant.ru Страница 8 из 21\\nнадежная правовая поддержка\\n'),\n",
       " Document(metadata={'source': '/srv/norma_ai/norma_ai_project/data/3. ТР ТС 012-2011.pdf', 'file_path': '/srv/norma_ai/norma_ai_project/data/3. ТР ТС 012-2011.pdf', 'page': 8, 'total_pages': 21, 'Title': 'Решение Комиссии Таможенного союза от 18.10.2011 N 825(ред. от 01.12.2020)\"О принятии технического регламента Таможенного союза \"О безопасности оборудования для работы во взрывоопасных средах\"(вместе с \"ТР ТС 012/2011. Технический регламент Таможенного со', 'Author': 'Evgeniy Ostromecky', 'Creator': 'Microsoft® Word 2016', 'CreationDate': \"D:20250826143355+03'00'\", 'ModDate': \"D:20250826143355+03'00'\", 'Producer': 'Microsoft® Word 2016'}, page_content='Решение Комиссии Таможенного союза от 18.10.2011 N 825\\nДокумент предоставлен КонсультантПлюс\\n(ред. от 01.12.2020)\\nДата сохранения: 14.02.2022\\n\"О принятии технического регламента Таможенн...\\n21) если оборудование находится в корпусе или закрытом контейнере, которые являются частью вида\\nвзрывозащиты, такой корпус или контейнер должны открываться только с помощью специального\\nинструмента или с применением соответствующих мер защиты;\\n22) для предотвращения опасной перегрузки оборудования должно быть предусмотрено\\nиспользование измерительных, регулирующих и контрольных устройств (максимальных выключателей,\\nограничителей температуры, дифференциальных реле давления, расходомеров, реле с выдержкой времени,\\nиндикаторов превышения скорости и (или) аналогичных типов устройств).\\n4. Конструкция оборудования должна обеспечивать защиту от следующих потенциальных источников\\nвоспламенения:\\n1) искры (электрические и фрикционные), пламя, высокие температуры нагретых поверхностей,\\nэлектромагнитные, ультразвуковые, оптические и ионизирующие излучения;\\n2) статическое электричество (электростатические заряды, способные вызвать опасные разряды);\\n3) блуждающие токи и токи утечки, которые могут привести к появлению опасной коррозии, искр или\\nперегреву поверхностей и создавать, таким образом, возможность воспламенения;\\n4) перегрев в результате трения или ударов, который может возникнуть между материалами и частями,\\nсоприкасающимися друг с другом при вращении или проникновении посторонних предметов;\\n5) компенсация давления, которая осуществляется регулирующими устройствами и может вызывать\\nударные волны или сжатия, приводящие к воспламенению;\\n6) удары молнии;\\n7) экзотермические реакции, включая самовоспламенение пыли.\\nПри этом должны быть приняты во внимание все факторы опасности возникновения взрыва и выявлены\\nисточники инициирования воспламенения взрывоопасных сред. С учетом проведенной оценки факторов\\nопасности должны быть выбраны способы обеспечения взрывозащиты (виды взрывозащиты) оборудования\\nдля его применения во взрывоопасных средах.\\n5. Устройства, обеспечивающие защиту оборудования при аварийных режимах, должны\\nсоответствовать следующим требованиям:\\n1) защитные устройства должны функционировать независимо от любого необходимого для работы\\nизмерительного или контрольного устройства. Отказ защитного устройства должен обнаруживаться с\\nпомощью технических средств, предусмотренных технической документацией;\\n2) аварийное выключение должно непосредственно приводить в действие соответствующие устройства\\nуправления без промежуточной команды программного обеспечения;\\n3) аварийные средства управления защитных устройств должны оборудоваться механизмами или\\nиными устройствами блокировки повторного запуска. Новая команда запуска может выполняться и\\nнормальная работа возобновляться только после специального сброса блокировок повторного запуска;\\n4) применяемые устройства управления и индикаторы должны проектироваться с целью обеспечения\\nмаксимально возможного уровня эксплуатационной безопасности в отношении риска взрыва;\\n5) устройства с измерительной функцией должны проектироваться и изготавливаться с учетом\\nэксплуатационных требований и условий их применения во взрывоопасной среде и удовлетворять\\nтребованиям по обеспечению единства измерений;\\n6) должна обеспечиваться возможность проверки точности показаний и функционирования устройств с\\nизмерительной функцией;\\nКонсультантПлюс\\nwww.consultant.ru Страница 9 из 21\\nнадежная правовая поддержка\\n'),\n",
       " Document(metadata={'source': '/srv/norma_ai/norma_ai_project/data/3. ТР ТС 012-2011.pdf', 'file_path': '/srv/norma_ai/norma_ai_project/data/3. ТР ТС 012-2011.pdf', 'page': 9, 'total_pages': 21, 'Title': 'Решение Комиссии Таможенного союза от 18.10.2011 N 825(ред. от 01.12.2020)\"О принятии технического регламента Таможенного союза \"О безопасности оборудования для работы во взрывоопасных средах\"(вместе с \"ТР ТС 012/2011. Технический регламент Таможенного со', 'Author': 'Evgeniy Ostromecky', 'Creator': 'Microsoft® Word 2016', 'CreationDate': \"D:20250826143355+03'00'\", 'ModDate': \"D:20250826143355+03'00'\", 'Producer': 'Microsoft® Word 2016'}, page_content='Решение Комиссии Таможенного союза от 18.10.2011 N 825\\nДокумент предоставлен КонсультантПлюс\\n(ред. от 01.12.2020)\\nДата сохранения: 14.02.2022\\n\"О принятии технического регламента Таможенн...\\n7) аварийный порог потенциального источника воспламенения устройств с измерительной функцией\\nдолжен находиться ниже предельных условий возникновения взрыва и (или) воспламенения регистрируемых\\nвзрывоопасных сред, с учетом установленного в технической документации коэффициента безопасности,\\nрабочих условий и погрешностей измерительной системы;\\n8) программное обеспечение управляемого им оборудования должно учитывать риски, связанные с\\nошибками в программе.\\n6. При поставке оборудования потребителю к нему должна прилагаться техническая документация\\nизготовителя, которая должна включать:\\n1) наименование и (или) обозначение оборудования (тип, марка, модель), его параметры и\\nхарактеристики, влияющие на безопасность, наименование и (или) товарный знак изготовителя;\\n2) информацию о его назначении;\\n3) указания по монтажу, сборке, наладке или регулировке;\\n4) указания по использованию оборудования и мерам по обеспечению безопасности, которые\\nнеобходимо соблюдать при эксплуатации (включая ввод в эксплуатацию, использование по прямому\\nназначению, техническое обслуживание, все виды ремонта и технических освидетельствований, средства\\nзащиты, направленные на уменьшение интенсивности и локализацию вредных производственных факторов,\\nтранспортировку и условия хранения);\\n5) назначенные показатели срока службы и (или) назначенный ресурс;\\n6) перечень критических отказов, возможных ошибок персонала (пользователя), приводящих к\\nаварийным режимам оборудования, и действий, предотвращающих указанные ошибки;\\n7) параметры предельных состояний;\\n8) информацию о мерах, которые следует предпринять при обнаружении неисправности этого\\nоборудования;\\n9) информацию о необходимости доукомплектования дополнительными элементами (кабельными\\nвводами и т.д.);\\n10) требования к обеспечению сохранения технических характеристик оборудования,\\nобуславливающих его взрывобезопасность;\\n11) требования к упаковке, консервации, условиям транспортирования и хранения, назначенные сроки\\nхранения, указания по регламентным срокам переосвидетельствования состояния, замены отдельных\\nэлементов, деталей, узлов с истекшим сроком хранения;\\n12) требования к утилизации оборудования;\\n13) правила и условия хранения, перевозки и утилизации (при необходимости - установление\\nтребований к ним);\\n14) требования к персоналу;\\n15) местонахождение изготовителя, информацию для связи с ним;\\n16) наименование и местонахождение уполномоченного изготовителем лица, импортера, информацию\\nдля связи с ним;\\n17) дату изготовления.\\nТехническая документация изготавливается на бумажных носителях. К ней может быть приложен\\nКонсультантПлюс\\nwww.consultant.ru Страница 10 из 21\\nнадежная правовая поддержка\\n'),\n",
       " Document(metadata={'source': '/srv/norma_ai/norma_ai_project/data/3. ТР ТС 012-2011.pdf', 'file_path': '/srv/norma_ai/norma_ai_project/data/3. ТР ТС 012-2011.pdf', 'page': 10, 'total_pages': 21, 'Title': 'Решение Комиссии Таможенного союза от 18.10.2011 N 825(ред. от 01.12.2020)\"О принятии технического регламента Таможенного союза \"О безопасности оборудования для работы во взрывоопасных средах\"(вместе с \"ТР ТС 012/2011. Технический регламент Таможенного со', 'Author': 'Evgeniy Ostromecky', 'Creator': 'Microsoft® Word 2016', 'CreationDate': \"D:20250826143355+03'00'\", 'ModDate': \"D:20250826143355+03'00'\", 'Producer': 'Microsoft® Word 2016'}, page_content='Решение Комиссии Таможенного союза от 18.10.2011 N 825\\nДокумент предоставлен КонсультантПлюс\\n(ред. от 01.12.2020)\\nДата сохранения: 14.02.2022\\n\"О принятии технического регламента Таможенн...\\nкомплект технической документации на электронных носителях.\\n7. На оборудование должна быть нанесена маркировка, которая включает:\\n1) наименование изготовителя или его зарегистрированный товарный знак;\\n2) обозначение типа оборудования;\\n3) заводской номер;\\n4) номер сертификата соответствия;\\n5) маркировку взрывозащиты. Изображение специального знака взрывобезопасности установлено в\\nприложении 2.\\n8. Маркировка и техническая документация изготовителя выполняются на русском языке и на\\nгосударственном(ых) языке(ах) государства - члена Таможенного союза, при наличии соответствующих\\nтребований в законодательстве(ах) государства - члена Таможенного союза.\\n9. Маркировка должна быть нанесена на поверхность этого оборудования или табличку, доступные для\\nосмотра без разборки или применения инструмента, и сохраняться в течение всего срока службы\\nоборудования.\\n10. По решению изготовителя или в соответствии с контрактом (договором) поставки маркировка\\nоборудования может включать дополнительную информацию, которая имеет значение для его безопасного\\nприменения, в том числе:\\n1) номинальное напряжение или диапазон номинальных напряжений;\\n2) длительно допустимое рабочее напряжение;\\n3) условное обозначение рода тока (если не указана номинальная частота);\\n4) условное обозначение класса защиты от поражения человека электрическим током;\\n5) степень защиты, обеспечиваемая оболочкой;\\n6) номинальную потребляемую или полезную мощность либо номинальный ток;\\n7) массу;\\n8) габаритные размеры;\\n9) дату изготовления.\\nСтатья 5. Обеспечение соответствия требованиям безопасности\\n1. Соответствие оборудования настоящему техническому регламенту Таможенного союза\\nобеспечивается выполнением его требований безопасности непосредственно либо выполнением на\\nдобровольной основе требований межгосударственных стандартов, а в случае их отсутствия - национальных\\n(государственных) стандартов государств - членов Таможенного союза, в результате применения которых на\\nдобровольной основе обеспечивается соблюдение требований настоящего технического регламента\\nТаможенного союза, и стандартов, содержащих правила и методы исследований (испытаний) и измерений,\\nв том числе правила отбора образцов, необходимые для применения и исполнения требований настоящего\\nтехнического регламента Таможенного союза и осуществления оценки (подтверждения) соответствия\\nоборудования для работы во взрывоопасных средах (далее - стандарты).\\n2. Перечни стандартов, указанных в пункте 1 настоящей статьи, утверждает Комиссия Таможенного\\nсоюза (далее - Комиссия).\\nКонсультантПлюс\\nwww.consultant.ru Страница 11 из 21\\nнадежная правовая поддержка\\n'),\n",
       " Document(metadata={'source': '/srv/norma_ai/norma_ai_project/data/3. ТР ТС 012-2011.pdf', 'file_path': '/srv/norma_ai/norma_ai_project/data/3. ТР ТС 012-2011.pdf', 'page': 11, 'total_pages': 21, 'Title': 'Решение Комиссии Таможенного союза от 18.10.2011 N 825(ред. от 01.12.2020)\"О принятии технического регламента Таможенного союза \"О безопасности оборудования для работы во взрывоопасных средах\"(вместе с \"ТР ТС 012/2011. Технический регламент Таможенного со', 'Author': 'Evgeniy Ostromecky', 'Creator': 'Microsoft® Word 2016', 'CreationDate': \"D:20250826143355+03'00'\", 'ModDate': \"D:20250826143355+03'00'\", 'Producer': 'Microsoft® Word 2016'}, page_content='Решение Комиссии Таможенного союза от 18.10.2011 N 825\\nДокумент предоставлен КонсультантПлюс\\n(ред. от 01.12.2020)\\nДата сохранения: 14.02.2022\\n\"О принятии технического регламента Таможенн...\\nСтатья 6. Подтверждение соответствия\\n1. Перед выпуском в обращение на единой таможенной территории Таможенного союза оборудование\\nдолжно быть подвергнуто процедуре подтверждения соответствия требованиям настоящего технического\\nрегламента Таможенного союза.\\nПодтверждение соответствия оборудования носит обязательный характер и осуществляется в форме\\nсертификации.\\n2. Процедуры подтверждения соответствия оборудования установленным в настоящем техническом\\nрегламенте Таможенного союза требованиям осуществляются аккредитованными органами по\\nсертификации (оценке (подтверждению) соответствия) и аккредитованными испытательными\\nлабораториями (центрами), включенными в Единый реестр органов по сертификации и испытательных\\nлабораторий (центров) Таможенного союза.\\n3. Подтверждение соответствия оборудования осуществляется по схемам в соответствии с\\nПоложением о порядке применения типовых схем оценки (подтверждения) соответствия в технических\\nрегламентах Таможенного союза, утвержденным Комиссией Таможенного союза:\\n1) в отношении серийно выпускаемого оборудования:\\nсертификация оборудования на основе испытаний типового образца в аккредитованной испытательной\\nлаборатории (центре) и анализа состояния производства с последующим инспекционным контролем (схема\\n1с);\\n2) в отношении ограниченной партии оборудования:\\nсертификация партии оборудования на основе испытаний образцов оборудования из этой партии\\n(схема 3с) в аккредитованной испытательной лаборатории (центре);\\nсертификация единиц оборудования на основе испытаний единицы оборудования в аккредитованной\\nиспытательной лаборатории (схема 4с).\\n4. Заявителем при сертификации по схеме 1с может быть зарегистрированное в соответствии с\\nзаконодательством государства - члена Таможенного союза на его территории юридическое лицо или\\nфизическое лицо в качестве индивидуального предпринимателя, либо являющееся изготовителем, либо\\nвыполняющее функции иностранного изготовителя на основании договора с ним, в части обеспечения\\nсоответствия поставляемой продукции требованиям настоящего технического регламента и в части\\nответственности за несоответствие поставляемой продукции требованиям настоящего технического\\nрегламента Таможенного союза (лицо, выполняющее функции иностранного изготовителя).\\n5. Заявителем при сертификации по схеме 3с, 4с может быть зарегистрированное в соответствии с\\nзаконодательством государства - члена Таможенного союза на его территории юридическое лицо или\\nфизическое лицо в качестве индивидуального предпринимателя, либо являющееся изготовителем или\\nпродавцом, либо выполняющее функции иностранного изготовителя на основании договора с ним, в части\\nобеспечения соответствия поставляемой продукции требованиям настоящего технического регламента и в\\nчасти ответственности за несоответствие поставляемой продукции требованиям настоящего технического\\nрегламента Таможенного союза (лицо, выполняющее функции иностранного изготовителя).\\n6. При проведении сертификации оборудования:\\n1) изготовитель (уполномоченное изготовителем лицо), импортер предоставляет органу по\\nсертификации (оценке (подтверждению) соответствия) комплект документов на оборудование,\\nподтверждающий соответствие оборудования требованиям взрывобезопасности настоящего технического\\nрегламента Таможенного союза, который включает:\\nтехнические условия (при наличии);\\nКонсультантПлюс\\nwww.consultant.ru Страница 12 из 21\\nнадежная правовая поддержка\\n'),\n",
       " Document(metadata={'source': '/srv/norma_ai/norma_ai_project/data/3. ТР ТС 012-2011.pdf', 'file_path': '/srv/norma_ai/norma_ai_project/data/3. ТР ТС 012-2011.pdf', 'page': 12, 'total_pages': 21, 'Title': 'Решение Комиссии Таможенного союза от 18.10.2011 N 825(ред. от 01.12.2020)\"О принятии технического регламента Таможенного союза \"О безопасности оборудования для работы во взрывоопасных средах\"(вместе с \"ТР ТС 012/2011. Технический регламент Таможенного со', 'Author': 'Evgeniy Ostromecky', 'Creator': 'Microsoft® Word 2016', 'CreationDate': \"D:20250826143355+03'00'\", 'ModDate': \"D:20250826143355+03'00'\", 'Producer': 'Microsoft® Word 2016'}, page_content='Решение Комиссии Таможенного союза от 18.10.2011 N 825\\nДокумент предоставлен КонсультантПлюс\\n(ред. от 01.12.2020)\\nДата сохранения: 14.02.2022\\n\"О принятии технического регламента Таможенн...\\nэксплуатационные документы;\\nперечень стандартов, требованиям которых соответствует данное оборудование, из Перечня\\nстандартов, указанных в пункте 1 статьи 5 настоящего технического регламента Таможенного союза (при их\\nприменении изготовителем);\\nпояснительную записку, содержащую описание принятых технических решений и оценку рисков,\\nподтверждающих выполнение требований взрывобезопасности настоящего технического регламента\\nТаможенного союза, если стандарты отсутствуют или не применялись;\\nсертификат соответствия на систему менеджмента качества изготовителя (при наличии);\\nконтракт (договор на поставку) или товаросопроводительную документацию (для партии\\nоборудования);\\n2) орган по сертификации (оценке (подтверждению) соответствия):\\nпроводит идентификацию предъявленного оборудования путем установления тождественности его\\nхарактеристик признакам, установленным в статье 1 настоящего технического регламента Таможенного\\nсоюза, а также положениям, установленным пунктами 8 и 9 статьи 4 настоящего технического регламента\\nТаможенного союза;\\nорганизует проведение испытаний образца (образцов) оборудования в аккредитованной\\nиспытательной лаборатории (центре) на соответствие требованиям стандартов из Перечня стандартов,\\nуказанных в пункте 1 статьи 5 настоящего технического регламента Таможенного союза, и проводит анализ\\nпротокола (протоколов) испытаний. В протоколе испытаний указывается перечень технической документации\\n(чертежей средств обеспечения взрывозащиты), подтверждающий соответствие оборудования и Ex-\\nкомпонента требованиям настоящего технического регламента Таможенного союза.\\nПри необходимости, вызванной спецификой изготовления и монтажа, указываемой изготовителем\\nтехнической документации на изготовление или монтаж, допускается проведение испытаний оборудования\\nна месте его изготовления и (или) монтажа.\\nЕсли стандарты изготовителем не применялись или отсутствуют, то орган по сертификации (оценке\\n(подтверждению) соответствия) проводит подтверждение соответствия оборудования непосредственно\\nтребованиям взрывобезопасности настоящего технического регламента Таможенного союза. С этой целью\\nорган по сертификации:\\n- с использованием технической документации и описания принятых технических решений и оценки\\nрисков, подтверждающих выполнение требований взрывобезопасности настоящего технического регламента\\nТаможенного союза, содержащихся в пояснительной записке изготовителя, определяет конкретные\\nтребования безопасности для сертифицируемого оборудования;\\n- определяет стандарты, устанавливающие методы измерений и испытаний, из Перечня стандартов,\\nуказанных в пункте 1 статьи 5 настоящего технического регламента Таможенного союза, или при их\\nотсутствии определяет методики контроля, измерений и испытаний оборудования для подтверждения его\\nсоответствия установленным конкретным требованиям;\\n- организует проведение испытаний оборудования в аккредитованной испытательной лаборатории\\n(центре);\\n- проводит анализ состояния производства изготовителя. При наличии у изготовителя\\nсертифицированной системы менеджмента качества производства или разработки и производства\\nоборудования оценивает возможность данной системы обеспечивать стабильный выпуск сертифицируемого\\nоборудования, соответствующего требованиям настоящего технического регламента;\\nПри подтверждении соответствия партии оборудования (единичного оборудования) анализ состояния\\nпроизводства не проводится;\\nКонсультантПлюс\\nwww.consultant.ru Страница 13 из 21\\nнадежная правовая поддержка\\n'),\n",
       " Document(metadata={'source': '/srv/norma_ai/norma_ai_project/data/3. ТР ТС 012-2011.pdf', 'file_path': '/srv/norma_ai/norma_ai_project/data/3. ТР ТС 012-2011.pdf', 'page': 13, 'total_pages': 21, 'Title': 'Решение Комиссии Таможенного союза от 18.10.2011 N 825(ред. от 01.12.2020)\"О принятии технического регламента Таможенного союза \"О безопасности оборудования для работы во взрывоопасных средах\"(вместе с \"ТР ТС 012/2011. Технический регламент Таможенного со', 'Author': 'Evgeniy Ostromecky', 'Creator': 'Microsoft® Word 2016', 'CreationDate': \"D:20250826143355+03'00'\", 'ModDate': \"D:20250826143355+03'00'\", 'Producer': 'Microsoft® Word 2016'}, page_content='Решение Комиссии Таможенного союза от 18.10.2011 N 825\\nДокумент предоставлен КонсультантПлюс\\n(ред. от 01.12.2020)\\nДата сохранения: 14.02.2022\\n\"О принятии технического регламента Таможенн...\\n- проводит инспекционный контроль (если это предусмотрено схемой сертификации) за\\nсертифицированным оборудованием в течение всего срока действия сертификата соответствия посредством\\nиспытаний образцов в аккредитованной испытательной лаборатории (центре) и (или) анализа состояния\\nпроизводства (схема 1с);\\n- выдает сертификат соответствия по единой форме, утвержденной решением Комиссии:\\nна серийно выпускаемое оборудование со сроком действия не более 5 лет;\\nна партию оборудования (единичное оборудование) срок не устанавливается.\\nСертификат соответствия компонентов (Ex-компонентов) требованиям настоящего технического\\nрегламента Таможенного союза выдается по выполнению процедур, указанных в настоящем подпункте, по\\nтой же форме.\\nСертификат соответствия должен содержать в приложении, в том числе, следующую информацию:\\nописание конструкции и средств обеспечения взрывозащиты;\\nспециальные условия применения (если в маркировке взрывозащиты указан знак \"X\");\\n3) изготовитель (уполномоченное изготовителем лицо), импортер:\\nпри получении сертификата соответствия наносит единый знак обращения продукции на рынке\\nгосударств - членов Таможенного союза и регистрационный номер органа по сертификации (оценке\\n(подтверждению) соответствия);\\nформирует комплект документов на оборудование, в который включает:\\nдокументы на оборудование, приведенные подпункте 1 настоящего пункта;\\nпротокол (протоколы) испытаний;\\nсертификат соответствия;\\nпредпринимает все необходимые меры, чтобы процесс производства был стабильным и обеспечивал\\nсоответствие изготавливаемого оборудования требованиям настоящего технического регламента\\nТаможенного союза (схема 1с).\\n7. В случае внесения изготовителем в конструкцию и (или) техническую документацию,\\nподтверждающую соответствие оборудования и (или) Ex-компонента требованиям настоящего технического\\nрегламента Таможенного союза, изменений, влияющих на показатели взрывобезопасности оборудования, он\\nпредставляет в орган по сертификации (оценке (подтверждению) соответствия), выдавший сертификат\\nсоответствия, описание изменений, техническую документацию (чертежи средств обеспечения\\nвзрывозащиты) с внесенными изменениями и образец для проведения дополнительных испытаний, если\\nорган по сертификации (оценке (подтверждению) соответствия) посчитает недостаточным проведение\\nтолько экспертизы технической документации с внесенными изменениями для принятия решения о\\nсоответствии оборудования и (или) Ex-компонента настоящему техническому регламенту Таможенного\\nсоюза с внесенными изменениями.\\nВ этом случае орган по сертификации (оценке (подтверждению) соответствия) проводит экспертизу\\nтехнической документации (чертежей средств обеспечения взрывозащиты) с внесенными изменениями, а\\nесли посчитает это недостаточным, и дополнительные испытания образца. При положительных результатах\\nпроведенной работы орган по сертификации (оценке (подтверждению) соответствия) оформляет решение о\\nподтверждении действия сертификата соответствия с учетом внесенных изменений или оформляет новый\\nсертификат соответствия техническому регламенту Таможенного союза, если внесенные изменения требуют\\nрассмотрения оборудования и (или) Ex-компонента как нового изделия.\\n8. На территории государств - членов Таможенного союза комплект документов, включая документы,\\nКонсультантПлюс\\nwww.consultant.ru Страница 14 из 21\\nнадежная правовая поддержка\\n'),\n",
       " Document(metadata={'source': '/srv/norma_ai/norma_ai_project/data/3. ТР ТС 012-2011.pdf', 'file_path': '/srv/norma_ai/norma_ai_project/data/3. ТР ТС 012-2011.pdf', 'page': 14, 'total_pages': 21, 'Title': 'Решение Комиссии Таможенного союза от 18.10.2011 N 825(ред. от 01.12.2020)\"О принятии технического регламента Таможенного союза \"О безопасности оборудования для работы во взрывоопасных средах\"(вместе с \"ТР ТС 012/2011. Технический регламент Таможенного со', 'Author': 'Evgeniy Ostromecky', 'Creator': 'Microsoft® Word 2016', 'CreationDate': \"D:20250826143355+03'00'\", 'ModDate': \"D:20250826143355+03'00'\", 'Producer': 'Microsoft® Word 2016'}, page_content='Решение Комиссии Таможенного союза от 18.10.2011 N 825\\nДокумент предоставлен КонсультантПлюс\\n(ред. от 01.12.2020)\\nДата сохранения: 14.02.2022\\n\"О принятии технического регламента Таможенн...\\nподтверждающие соответствие, должен храниться:\\nна оборудование - у изготовителя (уполномоченного изготовителем лица) в течение не менее 10 лет со\\nдня снятия (прекращения) с производства этого оборудования;\\nна партию оборудования (единичное изделие) - у импортера, изготовителя или уполномоченного\\nизготовителем лица в течение не менее 10 лет со дня реализации последнего изделия из партии.\\nДокументы и материалы, подтверждающие результаты сертификации, хранятся в органе по\\nсертификации, выдавшем сертификат соответствия, в течение не менее 5 лет после окончания срока\\nдействия сертификата соответствия.\\nКомплект документов должен предоставляться органам государственного надзора по их требованию.\\nСтатья 7. Маркировка единым знаком обращения продукции на рынке государств - членов\\nТаможенного союза\\n1. Оборудование, соответствующее требованиям настоящего технического регламента Таможенного\\nсоюза и прошедшее процедуру подтверждения соответствия согласно статье 6 настоящего технического\\nрегламента Таможенного союза, должно иметь маркировку единым знаком обращения продукции на рынке\\nгосударств - членов Таможенного союза.\\nОборудование маркируется единым знаком обращения продукции на рынке государств - членов\\nТаможенного союза при его соответствии требованиям всех технических регламентов Таможенного союза и\\nтехнических регламентов ЕврАзЭС, распространяющихся на него и предусматривающих нанесение единого\\nзнака обращения продукции на рынке государств - членов Таможенного союза.\\n2. Маркировка единым знаком обращения продукции на рынке государств - членов Таможенного союза\\nосуществляется перед выпуском оборудования в обращение на рынке.\\n3. Единый знак обращения продукции на рынке государств - членов Таможенного союза наносится на\\nкаждую единицу оборудования (изделия) любым способом, обеспечивающим четкое и ясное изображение в\\nтечение всего срока службы оборудования.\\nЕдиный знак обращения продукции на рынке государств - членов Таможенного союза наносится на\\nсамо изделие, а также приводится в прилагаемой к нему технической документации изготовителя.\\n4. Допускается нанесение единого знака обращения продукции на рынке государств - членов\\nТаможенного союза только на упаковку и указание в прилагаемой к нему технической документации\\nизготовителя, если этот знак невозможно нанести непосредственно на оборудование ввиду особенностей\\nконструкции.\\nСтатья 8. Защитительная оговорка\\n1. Государства - члены Таможенного союза обязаны предпринять все меры для ограничения, запрета\\nвыпуска в обращение оборудования для работы во взрывоопасных средах на единой таможенной территории\\nТаможенного союза, а также изъятия с рынка такого оборудования, не соответствующего требованиям\\nбезопасности настоящего технического регламента Таможенного союза.\\nПриложение 1\\nк техническому регламенту\\nТаможенного союза \"О безопасности\\nоборудования для работы во\\nвзрывоопасных средах\"\\nКонсультантПлюс\\nwww.consultant.ru Страница 15 из 21\\nнадежная правовая поддержка\\n'),\n",
       " Document(metadata={'source': '/srv/norma_ai/norma_ai_project/data/3. ТР ТС 012-2011.pdf', 'file_path': '/srv/norma_ai/norma_ai_project/data/3. ТР ТС 012-2011.pdf', 'page': 15, 'total_pages': 21, 'Title': 'Решение Комиссии Таможенного союза от 18.10.2011 N 825(ред. от 01.12.2020)\"О принятии технического регламента Таможенного союза \"О безопасности оборудования для работы во взрывоопасных средах\"(вместе с \"ТР ТС 012/2011. Технический регламент Таможенного со', 'Author': 'Evgeniy Ostromecky', 'Creator': 'Microsoft® Word 2016', 'CreationDate': \"D:20250826143355+03'00'\", 'ModDate': \"D:20250826143355+03'00'\", 'Producer': 'Microsoft® Word 2016'}, page_content='Решение Комиссии Таможенного союза от 18.10.2011 N 825\\nДокумент предоставлен КонсультантПлюс\\n(ред. от 01.12.2020)\\nДата сохранения: 14.02.2022\\n\"О принятии технического регламента Таможенн...\\n(ТР ТС 012/2011)\\nКЛАССИФИКАЦИЯ\\nПОКАЗАТЕЛЕЙ, ОПРЕДЕЛЯЮЩИХ ВЗРЫВОБЕЗОПАСНОСТЬ ОБОРУДОВАНИЯ\\nI. Классификация взрывоопасных зон\\n1. Классификация взрывоопасных зон применяется в целях выбора оборудования, по его уровню\\nвзрывозащиты, обеспечивающему безопасную эксплуатацию такого оборудования в соответствующей\\nвзрывоопасной зоне.\\n2. В зависимости от частоты и длительности присутствия взрывоопасной газовой или пылевой среды\\nвзрывоопасные зоны подразделяются на следующие классы:\\n1) для взрывоопасных газовых сред - классы 0, 1 и 2;\\n2) для взрывоопасных пылевых сред - классы 20, 21 и 22.\\nII. Классификация оборудования по группам\\nВ зависимости от области применения оборудование подразделяется на следующие группы:\\n1) оборудование группы I - оборудование, предназначенное для применения в подземных выработках\\nшахт и их наземных строениях, опасных по рудничному газу и (или) горючей пыли. В зависимости от\\nконструкции оборудование группы I может иметь один из трех уровней взрывозащиты;\\n2) оборудование группы II - оборудование, предназначенное для применения в местах (кроме\\nподземных выработок шахт и их наземных строений), опасных по взрывоопасным газовым средам. В\\nзависимости от конструкции оборудование группы II может иметь один из трех уровней взрывозащиты.\\nОборудование группы II может подразделяться на подгруппы IIA, IIB, IIC в зависимости от категории\\nвзрывоопасной смеси, для которой оно предназначено;\\n3) оборудование группы III - оборудование, предназначенное для применения в местах (кроме\\nподземных выработок шахт и их наземных строений), опасных по взрывоопасным пылевым средам. В\\nзависимости от конструкции может иметь один из трех уровней взрывозащиты. Оборудование группы III\\nможет подразделяться на подгруппы IIIA, IIIB, IIIC в зависимости от характеристики взрывоопасной среды,\\nдля которой оно предназначено.\\nIII. Классификация оборудования по уровням взрывозащиты\\n1. Оборудование в зависимости от опасности стать источником воспламенения и условий его\\nприменения во взрывоопасных средах классифицируется по уровням взрывозащиты:\\n1) \"особовзрывобезопасный\" (\"очень высокий\");\\n2) \"взрывобезопасный\" (\"высокий\");\\n3) \"повышенная надежность против взрыва\" (\"повышенный\").\\n2. Уровень взрывозащиты \"особовзрывобезопасный\" (\"очень высокий\") распространяется на\\nоборудование, которое предназначено для функционирования в соответствии с установленными\\nизготовителем эксплуатационными параметрами, обеспечивает необходимый уровень взрывозащиты даже\\nпри маловероятных отказах, остается функционирующим при наличии взрывоопасной среды и в котором при\\nотказе одного средства защиты необходимый уровень взрывозащиты обеспечивается вторым независимым\\nсредством защиты или необходимый уровень взрывозащиты обеспечивается при двух отказах средств\\nзащиты, происходящих независимо друг от друга.\\nОборудование данного уровня взрывозащиты предназначено для применения в подземных выработках\\nКонсультантПлюс\\nwww.consultant.ru Страница 16 из 21\\nнадежная правовая поддержка\\n'),\n",
       " Document(metadata={'source': '/srv/norma_ai/norma_ai_project/data/3. ТР ТС 012-2011.pdf', 'file_path': '/srv/norma_ai/norma_ai_project/data/3. ТР ТС 012-2011.pdf', 'page': 16, 'total_pages': 21, 'Title': 'Решение Комиссии Таможенного союза от 18.10.2011 N 825(ред. от 01.12.2020)\"О принятии технического регламента Таможенного союза \"О безопасности оборудования для работы во взрывоопасных средах\"(вместе с \"ТР ТС 012/2011. Технический регламент Таможенного со', 'Author': 'Evgeniy Ostromecky', 'Creator': 'Microsoft® Word 2016', 'CreationDate': \"D:20250826143355+03'00'\", 'ModDate': \"D:20250826143355+03'00'\", 'Producer': 'Microsoft® Word 2016'}, page_content='Решение Комиссии Таможенного союза от 18.10.2011 N 825\\nДокумент предоставлен КонсультантПлюс\\n(ред. от 01.12.2020)\\nДата сохранения: 14.02.2022\\n\"О принятии технического регламента Таможенн...\\nшахт и их наземных строениях, в которых существует опасность присутствия рудничного газа и (или) горючей\\nпыли (оборудование группы I), либо на объектах и (или) их участках (оборудование групп II и III), на которых\\nвзрывоопасная среда, создаваемая смесями с воздухом горючих веществ в виде газа, пара, тумана или пыли,\\nволокон, летучих веществ присутствует постоянно в течение продолжительных периодов или часто.\\n3. Уровень взрывозащиты \"взрывобезопасный\" (\"высокий\") распространяется на оборудование,\\nпредназначенное для функционирования в соответствии с установленными изготовителем\\nэксплуатационными параметрами и обеспечивающее необходимый уровень взрывозащиты и\\nфункционирование в нормальном режиме работы при одном признанном вероятном повреждении.\\nОборудование группы I данного уровня взрывозащиты должно иметь возможность безопасного\\nотключения при достижении регламентируемой концентрации рудничного газа в окружающей среде.\\nОборудование данного уровня взрывозащиты предназначено для применения в подземных выработках\\nшахт и их наземных строениях, в которых существует вероятность присутствия рудничного газа и (или)\\nгорючей пыли (оборудование группы I), либо на объектах и (или) их участках (оборудование групп II и III), на\\nкоторых вероятно возникновение взрывоопасной среды в виде газа, пара, тумана, пыли, волокон или летучих\\nчастиц.\\n4. Уровень взрывозащиты \"повышенная надежность против взрыва\" (\"повышенный\") распространяется\\nна оборудование, предназначенное для функционирования в соответствии с установленными изготовителем\\nэксплуатационными параметрами и обеспечивающее функционирование только в оговоренном\\nизготовителем нормальном режиме работы.\\nОборудование группы I данного уровня взрывозащиты иметь возможность безопасного отключения при\\nдостижении регламентируемой концентрации рудничного газа в окружающей среде.\\nОборудование данного уровня взрывозащиты предназначено для применения в подземных выработках\\nшахт и их наземных строениях (оборудование группы I) либо на объектах и (или) их участках (оборудование\\nгрупп II и III), на которых при нормальных условиях эксплуатации присутствие рудничного газа и (или) горючей\\nпыли или взрывоопасной среды, создаваемой смесями с воздухом горючих веществ в виде газа, пара, тумана\\nили пыли, волокон, летучих веществ, маловероятно, а если взрывоопасная среда существует, то только в\\nтечение короткого промежутка времени.\\nIV. Виды взрывозащиты оборудования\\n1. В зависимости от предусмотренных специальных мер по предотвращению воспламенения\\nокружающей взрывоопасной среды оборудование может иметь один вид или сочетание нескольких видов\\nвзрывозащиты:\\n1) в отношении электрического оборудования, предназначенного для работы во взрывоопасных\\nгазовых средах:\\n\"d\" - взрывонепроницаемая оболочка;\\n\"e\" - повышенная защита;\\n\"i\" (\"ia\", \"ib\", \"ic\") - искробезопасность (искробезопасная электрическая цепь);\\n\"m\" (\"ma\", \"mb\", \"mc\") - герметизация компаундом;\\n\"nA\" - неискрящее оборудование;\\n\"nC\" - контактное устройство во взрывонепроницаемой оболочке, или герметично запаянное\\nустройство, или неподжигающий компонент, или герметичное устройство;\\n\"nR\" - оболочка с ограниченным пропуском газов;\\n\"nL\" - оборудование, содержащее электрические цепи с ограниченной энергией;\\nКонсультантПлюс\\nwww.consultant.ru Страница 17 из 21\\nнадежная правовая поддержка\\n'),\n",
       " Document(metadata={'source': '/srv/norma_ai/norma_ai_project/data/3. ТР ТС 012-2011.pdf', 'file_path': '/srv/norma_ai/norma_ai_project/data/3. ТР ТС 012-2011.pdf', 'page': 17, 'total_pages': 21, 'Title': 'Решение Комиссии Таможенного союза от 18.10.2011 N 825(ред. от 01.12.2020)\"О принятии технического регламента Таможенного союза \"О безопасности оборудования для работы во взрывоопасных средах\"(вместе с \"ТР ТС 012/2011. Технический регламент Таможенного со', 'Author': 'Evgeniy Ostromecky', 'Creator': 'Microsoft® Word 2016', 'CreationDate': \"D:20250826143355+03'00'\", 'ModDate': \"D:20250826143355+03'00'\", 'Producer': 'Microsoft® Word 2016'}, page_content='Решение Комиссии Таможенного союза от 18.10.2011 N 825\\nДокумент предоставлен КонсультантПлюс\\n(ред. от 01.12.2020)\\nДата сохранения: 14.02.2022\\n\"О принятии технического регламента Таможенн...\\n\"nZ\" - оболочка под избыточным давлением;\\n\"o\" - масляное заполнение оболочки;\\n\"p\" (\"px\", \"py\", \"pz\") - заполнение или продувка оболочки под избыточным давлением;\\n\"q\" - кварцевое заполнение оболочки;\\n\"s\" - специальный вид взрывозащиты;\\n2) в отношении электрического оборудования, предназначенного для работы во взрывоопасных\\nпылевых средах:\\n\"t\" (\"ta\", \"tb\", \"tc\") - защита оболочкой;\\n\"i\" (\"ia\", \"ib\") - искробезопасность (искробезопасная электрическая цепь);\\n\"m\" (\"ma\", \"mb\", \"mc\") - герметизация компаундом;\\n\"p\" - заполнение или продувка оболочки под избыточным давлением;\\n\"s\" - специальный вид взрывозащиты;\\n3) в отношении неэлектрического оборудования, предназначенного для работы во взрывоопасных\\nсредах:\\n\"c\" - конструкционная безопасность;\\n\"b\" - контроль источника воспламенения;\\n\"k\" - защита жидкостным погружением;\\n\"d\" - защита взрывонепроницаемой оболочкой;\\n\"fr\" - защита оболочкой с ограниченным пропуском газов;\\n\"p\" - защита повышенным давлением;\\n4) иные признанные виды взрывозащиты.\\n2. Виды взрывозащиты оборудования определяются следующими специальными мерами,\\nпредусмотренными в оборудовании различных уровней взрывозащиты с целью предотвращения\\nвоспламенения окружающей взрывоопасной среды:\\n1) взрывонепроницаемая оболочка \"d\" - вид взрывозащиты оборудования, при котором его части,\\nспособные воспламенить взрывоопасную газовую среду, заключены в оболочку, способную выдерживать\\nдавление взрыва взрывоопасной смеси внутри нее и предотвращать распространение взрыва в окружающую\\nвзрывоопасную среду;\\n2) защита оболочкой \"t\" - вид взрывозащиты, при котором оборудование защищено оболочкой,\\nобеспечивающей защиту от проникновения пыли, и средствами по ограничению температуры поверхности;\\n3) повышенная защита вида \"e\" - вид взрывозащиты, при котором используются дополнительные меры\\nпротив возможного превышения допустимой температуры, а также возникновения искрения в нормальном\\nили в указанном (аварийном) режиме работы;\\n4) искробезопасность (искробезопасная электрическая цепь) \"i\" - вид взрывозащиты, основанный на\\nограничении электрической энергии (мощности) в электрическом разряде и температуры элементов\\nэлектрооборудования до значения ниже уровня, вызывающего воспламенение от искрения или теплового\\nвоздействия;\\nКонсультантПлюс\\nwww.consultant.ru Страница 18 из 21\\nнадежная правовая поддержка\\n'),\n",
       " Document(metadata={'source': '/srv/norma_ai/norma_ai_project/data/3. ТР ТС 012-2011.pdf', 'file_path': '/srv/norma_ai/norma_ai_project/data/3. ТР ТС 012-2011.pdf', 'page': 18, 'total_pages': 21, 'Title': 'Решение Комиссии Таможенного союза от 18.10.2011 N 825(ред. от 01.12.2020)\"О принятии технического регламента Таможенного союза \"О безопасности оборудования для работы во взрывоопасных средах\"(вместе с \"ТР ТС 012/2011. Технический регламент Таможенного со', 'Author': 'Evgeniy Ostromecky', 'Creator': 'Microsoft® Word 2016', 'CreationDate': \"D:20250826143355+03'00'\", 'ModDate': \"D:20250826143355+03'00'\", 'Producer': 'Microsoft® Word 2016'}, page_content='Решение Комиссии Таможенного союза от 18.10.2011 N 825\\nДокумент предоставлен КонсультантПлюс\\n(ред. от 01.12.2020)\\nДата сохранения: 14.02.2022\\n\"О принятии технического регламента Таможенн...\\n5) герметизация компаундом \"m\" - вид взрывозащиты, при котором части оборудования, способные\\nвоспламенять взрывоопасную среду за счет искрения или нагрева, заключаются в компаунд для исключения\\nвоспламенения взрывоопасной среды при эксплуатации или монтаже;\\n6) защита вида \"n\" - вид взрывозащиты, при котором принимаются дополнительные меры защиты,\\nисключающие воспламенение окружающей взрывоопасной газовой среды в нормальном и указанном\\n(аварийном) режимах работы электрооборудования;\\n7) масляное заполнение оболочки \"o\" - вид взрывозащиты, при котором оборудование или части\\nоборудования погружаются в защитную жидкость, исключающую возможность воспламенения\\nвзрывоопасной газовой среды, которая может присутствовать над жидкостью или снаружи оболочки;\\n8) заполнение или продувка оболочки под избыточным давлением \"p\" - вид взрывозащиты,\\nисключающий попадание внешней среды в оболочку или помещение за счет наличия в них защитного газа\\nпод давлением, превышающим давление внешней среды;\\n9) кварцевое заполнение оболочки \"q\" - вид взрывозащиты, при котором части, способные\\nвоспламенять взрывоопасную среду, фиксируются в определенном положении и полностью окружены\\nзаполнителем, предотвращающим воспламенение внешней окружающей взрывоопасной среды;\\n10) специальный вид взрывозащиты \"s\" - вид взрывозащиты, основанный на мерах защиты, отличных\\nот мер защиты, предусмотренных подпунктами 1 - 9 настоящего пункта, но признанных достаточными для\\nобеспечения взрывозащиты во время оценки или испытаний;\\n11) конструкционная безопасность \"c\" - вид взрывозащиты, при котором принимаются дополнительные\\nмеры защиты, исключающие возможность воспламенения окружающей взрывоопасной среды от нагретых\\nповерхностей, искр и адиабатического сжатия, создаваемых подвижными частями оборудования;\\n12) контроль источника воспламенения \"b\" - вид взрывозащиты, предусматривающий установку в\\nнеэлектрическом оборудовании устройства, которое исключает образование источника воспламенения и\\nпосредством которого внутренние встроенные датчики контролируют параметры элементов оборудования и\\nвызывают срабатывание автоматических защитных устройств или сигнализаторов;\\n13) защита жидкостным погружением \"k\" - вид взрывозащиты, при котором потенциальные источники\\nвоспламенения являются безопасными или отделены от взрывоопасной среды путем полного или частичного\\nпогружения в защитную жидкость, когда опасные поверхности постоянно покрыты защитной жидкостью таким\\nобразом, чтобы взрывоопасная среда, которая может находиться выше уровня жидкости или снаружи\\nоболочки оборудования, не могла быть воспламенена;\\n14) защита оболочкой с ограниченным пропуском газов \"fr\" - вид взрывозащиты, при котором\\nпосредством оболочки ограничено поступление окружающей взрывоопасной среды в оболочку до\\nприемлемого низкого уровня, при котором концентрация взрывоопасной среды в оболочке ниже нижнего\\nконцентрационного предела распространения пламени.\\nV. Классификация оборудования по температурным классам\\nВ зависимости от наибольшей допустимой температуры поверхности оборудование группы II\\nподразделяется на следующие температурные классы:\\n1) Т1 - 450 градусов Цельсия;\\n2) Т2 - 300 градусов Цельсия;\\n3) Т3 - 200 градусов Цельсия;\\n4) Т4 - 135 градусов Цельсия;\\n5) Т5 - 100 градусов Цельсия;\\nКонсультантПлюс\\nwww.consultant.ru Страница 19 из 21\\nнадежная правовая поддержка\\n'),\n",
       " Document(metadata={'source': '/srv/norma_ai/norma_ai_project/data/3. ТР ТС 012-2011.pdf', 'file_path': '/srv/norma_ai/norma_ai_project/data/3. ТР ТС 012-2011.pdf', 'page': 19, 'total_pages': 21, 'Title': 'Решение Комиссии Таможенного союза от 18.10.2011 N 825(ред. от 01.12.2020)\"О принятии технического регламента Таможенного союза \"О безопасности оборудования для работы во взрывоопасных средах\"(вместе с \"ТР ТС 012/2011. Технический регламент Таможенного со', 'Author': 'Evgeniy Ostromecky', 'Creator': 'Microsoft® Word 2016', 'CreationDate': \"D:20250826143355+03'00'\", 'ModDate': \"D:20250826143355+03'00'\", 'Producer': 'Microsoft® Word 2016'}, page_content='Решение Комиссии Таможенного союза от 18.10.2011 N 825\\nДокумент предоставлен КонсультантПлюс\\n(ред. от 01.12.2020)\\nДата сохранения: 14.02.2022\\n\"О принятии технического регламента Таможенн...\\n6) Т6 - 85 градусов Цельсия.\\nПриложение 2\\nк техническому регламенту\\nТаможенного союза \"О безопасности\\nоборудования для работы во\\nвзрывоопасных средах\"\\n(ТР ТС 012/2011)\\nИЗОБРАЖЕНИЕ СПЕЦИАЛЬНОГО ЗНАКА ВЗРЫВОБЕЗОПАСНОСТИ\\nрис. 1 рис. 2\\nОписание изображения специального знака взрывобезопасности\\nИзображение специального знака взрывобезопасности представляет собой сочетание двух\\nстилизованных букв латинского алфавита \"E\" и \"x\", высота буквы \"x\" составляет 5/9 высоты буквы \"E\",\\nвписанных в прямоугольник на светлом (рис. 1) или на контрастном фоне (рис. 2), с соотношением высоты к\\nширине 11/8.\\nEx расшифровывается как взрывозащита (Explosion-proof).\\nРазмеры специального знака взрывобезопасности определяет изготовитель оборудования для работы\\nво взрывоопасных средах. Базовый размер высоты прямоугольника должен быть не менее 10 мм. Размеры\\nспециального знака взрывобезопасности должны гарантировать четкость его элементов и их различимость\\nневооруженным глазом на общем цветном фоне оборудования или Ex-компонента.\\nУтвержден\\nРешением Комиссии\\nТаможенного союза\\nот 18 октября 2011 г. N 825\\nКонсультантПлюс: примечание.\\nРешением Коллегии ЕЭК от 01.12.2020 N 158 утвержден новый перечень.\\nКонсультантПлюс\\nwww.consultant.ru Страница 20 из 21\\nнадежная правовая поддержка\\n'),\n",
       " Document(metadata={'source': '/srv/norma_ai/norma_ai_project/data/3. ТР ТС 012-2011.pdf', 'file_path': '/srv/norma_ai/norma_ai_project/data/3. ТР ТС 012-2011.pdf', 'page': 20, 'total_pages': 21, 'Title': 'Решение Комиссии Таможенного союза от 18.10.2011 N 825(ред. от 01.12.2020)\"О принятии технического регламента Таможенного союза \"О безопасности оборудования для работы во взрывоопасных средах\"(вместе с \"ТР ТС 012/2011. Технический регламент Таможенного со', 'Author': 'Evgeniy Ostromecky', 'Creator': 'Microsoft® Word 2016', 'CreationDate': \"D:20250826143355+03'00'\", 'ModDate': \"D:20250826143355+03'00'\", 'Producer': 'Microsoft® Word 2016'}, page_content='Решение Комиссии Таможенного союза от 18.10.2011 N 825\\nДокумент предоставлен КонсультантПлюс\\n(ред. от 01.12.2020)\\nДата сохранения: 14.02.2022\\n\"О принятии технического регламента Таможенн...\\nПЕРЕЧЕНЬ\\nСТАНДАРТОВ, В РЕЗУЛЬТАТЕ ПРИМЕНЕНИЯ КОТОРЫХ НА ДОБРОВОЛЬНОЙ\\nОСНОВЕ ОБЕСПЕЧИВАЕТСЯ СОБЛЮДЕНИЕ ТРЕБОВАНИЙ ТЕХНИЧЕСКОГО\\nРЕГЛАМЕНТА ТАМОЖЕННОГО СОЮЗА \"О БЕЗОПАСНОСТИ ОБОРУДОВАНИЯ\\nДЛЯ РАБОТЫ ВО ВЗРЫВООПАСНЫХ СРЕДАХ\" (ТР ТС 012/2011)\\nУтратил силу. - Решение Коллегии Евразийской экономической комиссии от 01.12.2020 N 158.\\nУтвержден\\nРешением Комиссии\\nТаможенного союза\\nот 18 октября 2011 г. N 825\\nКонс ультантПлюс: примечание.\\nРешением Коллегии ЕЭК от 01.12.2020 N 158 утвержден новый перечень.\\nПЕРЕЧЕНЬ\\nСТАНДАРТОВ, СОДЕРЖАЩИХ ПРАВИЛА И МЕТОДЫ ИССЛЕДОВАНИЙ\\n(ИСПЫТАНИЙ) И ИЗМЕРЕНИЙ, В ТОМ ЧИСЛЕ ПРАВИЛА ОТБОРА\\nОБРАЗЦОВ, НЕОБХОДИМЫЕ ДЛЯ ПРИМЕНЕНИЯ И ИСПОЛНЕНИЯ\\nТРЕБОВАНИЙ ТЕХНИЧЕСКОГО РЕГЛАМЕНТА ТАМОЖЕННОГО СОЮЗА\\n\"О БЕЗОПАСНОСТИ ОБОРУДОВАНИЯ ДЛЯ РАБОТЫ ВО ВЗРЫВООПАСНЫХ\\nСРЕДАХ\" (ТР ТС 012/2011) И ОСУЩЕСТВЛЕНИЯ ОЦЕНКИ\\nСООТВЕТСТВИЯ ОБЪЕКТОВ ТЕХНИЧЕСКОГО РЕГУЛИРОВАНИЯ\\nУтратил силу. - Решение Коллегии Евразийской экономической комиссии от 01.12.2020 N 158.\\nКонсультантПлюс\\nwww.consultant.ru Страница 21 из 21\\nнадежная правовая поддержка\\n')]"
      ]
     },
     "execution_count": 45,
     "metadata": {},
     "output_type": "execute_result"
    }
   ],
   "source": [
    "loaded_docs_test"
   ]
  },
  {
   "cell_type": "code",
   "execution_count": null,
   "id": "162eff53",
   "metadata": {},
   "outputs": [
    {
     "data": {
      "text/plain": [
       "[Document(metadata={'source': '/srv/norma_ai/norma_ai_project/data/9. ФЗ 384 О безопасности зданий и сооружений.docx'}, page_content='Федеральный закон от 30.12.2009 N 384-ФЗ\\n(ред. от 02.07.2013)\\n\"Технический регламент о безопасности зданий и сооружений\"\\n\\nДокумент предоставлен КонсультантПлюс\\nДата сохранения: 14.02.2022\\n\\n\\n\\n \\n\\n\\n\\nФедеральный закон от 30.12.2009 N 384-ФЗ\\n(ред. от 02.07.2013)\\n\"Технический регламент о безопасности зданий и сооружений\"\\n\\nДокумент предоставлен КонсультантПлюс\\n\\nwww.consultant.ru\\n\\nДата сохранения: 14.02.2022\\n\\xa0\\n\\n\\n\\n\\n\\n30\\xa0декабря\\xa02009\\xa0года\\n\\nN\\xa0384-ФЗ\\n\\n\\n\\n\\n\\nРОССИЙСКАЯ ФЕДЕРАЦИЯ\\n\\n\\n\\nФЕДЕРАЛЬНЫЙ ЗАКОН\\n\\n\\n\\nТЕХНИЧЕСКИЙ РЕГЛАМЕНТ О БЕЗОПАСНОСТИ ЗДАНИЙ И СООРУЖЕНИЙ\\n\\n\\n\\nПринят\\n\\nГосударственной Думой\\n\\n23 декабря 2009 года\\n\\n\\n\\nОдобрен\\n\\nСоветом Федерации\\n\\n25 декабря 2009 года\\n\\n\\n\\n\\n\\n\\n\\nСписок изменяющих документов\\n\\n(в ред. Федерального закона от 02.07.2013 N 185-ФЗ)\\n\\n\\n\\n\\n\\nГлава 1. ОБЩИЕ ПОЛОЖЕНИЯ\\n\\n\\n\\nСтатья 1. Цели принятия настоящего Федерального закона\\n\\n\\n\\nНастоящий Федеральный закон принимается в целях:\\n\\n1) защиты жизни и здоровья граждан, имущества физических или юридических лиц, государственного или муниципального имущества;\\n\\n2) охраны окружающей среды, жизни и здоровья животных и растений;\\n\\n3) предупреждения действий, вводящих в заблуждение приобретателей;\\n\\n4) обеспечения энергетической эффективности зданий и сооружений.\\n\\n\\n\\nСтатья 2. Основные понятия\\n\\n\\n\\n1. Для целей настоящего Федерального закона используются основные понятия, установленные законодательством Российской Федерации о техническом регулировании, законодательством Российской Федерации о градостроительной деятельности и законодательством Российской Федерации о пожарной безопасности.\\n\\n2. Для целей настоящего Федерального закона используются также следующие основные понятия:\\n\\n1) аварийное освещение - освещение на путях эвакуации, имеющее электропитание от автономных источников, функционирующих при пожаре, аварии и других чрезвычайных ситуациях, включаемое автоматически при срабатывании соответствующей сигнализации или вручную, если сигнализации нет или она не сработала;\\n\\n2) авария - опасное техногенное происшествие, создающее на объекте, определенной территории или акватории угрозу жизни и здоровью людей и приводящее к разрушению или повреждению зданий, сооружений, оборудования и транспортных средств, нарушению производственного или транспортного процесса, нанесению ущерба окружающей среде;\\n\\n3) авторский надзор - контроль лица, осуществившего подготовку проектной документации, за соблюдением в процессе строительства требований проектной документации;\\n\\n4) воздействие - явление, вызывающее изменение напряженно-деформированного состояния строительных конструкций и (или) основания здания или сооружения;\\n\\n5) жизненный цикл здания или сооружения - период, в течение которого осуществляются инженерные изыскания, проектирование, строительство (в том числе консервация), эксплуатация (в том числе текущие ремонты), реконструкция, капитальный ремонт, снос здания или сооружения;\\n\\n6) здание - результат строительства, представляющий собой объемную строительную систему, имеющую надземную и (или) подземную части, включающую в себя помещения, сети инженерно-технического обеспечения и системы инженерно-технического обеспечения и предназначенную для проживания и (или) деятельности людей, размещения производства, хранения продукции или содержания животных;\\n\\n7) инженерная защита - комплекс сооружений, направленных на защиту людей, здания или сооружения, территории, на которой будут осуществляться строительство, реконструкция и эксплуатация здания или сооружения, от воздействия опасных природных процессов и явлений и (или) техногенного воздействия, угроз террористического характера, а также на предупреждение и (или) уменьшение последствий воздействия опасных природных процессов и явлений и (или) техногенного воздействия, угроз террористического характера;\\n\\n8) механическая безопасность - состояние строительных конструкций и основания здания или сооружения, при котором отсутствует недопустимый риск, связанный с причинением вреда жизни или здоровью граждан, имуществу физических или юридических лиц, государственному или муниципальному имуществу, окружающей среде, жизни и здоровью животных и растений вследствие разрушения или потери устойчивости здания, сооружения или их части;\\n\\n9) микроклимат помещения - климатические условия внутренней среды помещения, которые определяются действующими на организм человека сочетаниями температуры, влажности и скорости движения воздуха;\\n\\n10) нагрузка - механическая сила, прилагаемая к строительным конструкциям и (или) основанию здания или сооружения и определяющая их напряженно-деформированное состояние;\\n\\n11) нормальные условия эксплуатации - учтенное при проектировании состояние здания или сооружения, при котором отсутствуют какие-либо факторы, препятствующие осуществлению функциональных или технологических процессов;\\n\\n12) опасные природные процессы и явления - землетрясения, сели, оползни, лавины, подтопление территории, ураганы, смерчи, эрозия почвы и иные подобные процессы и явления, оказывающие негативные или разрушительные воздействия на здания и сооружения;\\n\\n13) основание здания или сооружения (далее также - основание) - массив грунта, воспринимающий нагрузки и воздействия от здания или сооружения и передающий на здание или сооружение воздействия от природных и техногенных процессов, происходящих в массиве грунта;\\n\\n14) помещение - часть объема здания или сооружения, имеющая определенное назначение и ограниченная строительными конструкциями;\\n\\n15) помещение с постоянным пребыванием людей - помещение, в котором предусмотрено пребывание людей непрерывно в течение более двух часов;\\n\\n16) предельное состояние строительных конструкций - состояние строительных конструкций здания или сооружения, за пределами которого дальнейшая эксплуатация здания или сооружения опасна, недопустима, затруднена или нецелесообразна либо восстановление работоспособного состояния здания или сооружения невозможно или нецелесообразно;\\n\\n17) противоаварийная защита систем инженерно-технического обеспечения - комплекс устройств, обеспечивающих защиту, предупреждение и (или) уменьшение опасных последствий аварийных ситуаций при эксплуатации систем инженерно-технического обеспечения и увеличение ресурса работы (срока службы) указанных систем;\\n\\n18) расчетная ситуация - учитываемый в расчете комплекс возможных условий, определяющих расчетные требования к строительным конструкциям, системам инженерно-технического обеспечения и частям указанных конструкций и систем;\\n\\n19) реологическое свойство материалов - проявление необратимых остаточных деформаций и текучести или ползучести под влиянием нагрузки и (или) воздействия;\\n\\n20) сеть инженерно-технического обеспечения - совокупность трубопроводов, коммуникаций и других сооружений, предназначенных для инженерно-технического обеспечения зданий и сооружений;\\n\\n21) система инженерно-технического обеспечения - одна из систем здания или сооружения, предназначенная для выполнения функций водоснабжения, канализации, отопления, вентиляции, кондиционирования воздуха, газоснабжения, электроснабжения, связи, информатизации, диспетчеризации, мусороудаления, вертикального транспорта (лифты, эскалаторы) или функций обеспечения безопасности;\\n\\n22) сложные природные условия - наличие специфических по составу и состоянию грунтов и (или) риска возникновения (развития) опасных природных процессов и явлений и (или) техногенных воздействий на территории, на которой будут осуществляться строительство, реконструкция и эксплуатация здания или сооружения;\\n\\n23) сооружение - результат строительства, представляющий собой объемную, плоскостную или линейную строительную систему, имеющую наземную, надземную и (или) подземную части, состоящую из несущих, а в отдельных случаях и ограждающих строительных конструкций и предназначенную для выполнения производственных процессов различного вида, хранения продукции, временного пребывания людей, перемещения людей и грузов;\\n\\n24) строительная конструкция - часть здания или сооружения, выполняющая определенные несущие, ограждающие и (или) эстетические функции;\\n\\n25) техногенные воздействия - опасные воздействия, являющиеся следствием аварий в зданиях, сооружениях или на транспорте, пожаров, взрывов или высвобождения различных видов энергии, а также воздействия, являющиеся следствием строительной деятельности на прилегающей территории;\\n\\n26) уровень ответственности - характеристика здания или сооружения, определяемая в соответствии с объемом экономических, социальных и экологических последствий его разрушения;\\n\\n27) усталостные явления в материале - изменение механических и физических свойств материала под длительным действием циклически изменяющихся во времени напряжений и деформаций;\\n\\n28) характеристики безопасности здания или сооружения - количественные и качественные показатели свойств строительных конструкций, основания, материалов, элементов сетей инженерно-технического обеспечения и систем инженерно-технического обеспечения, посредством соблюдения которых обеспечивается соответствие здания или сооружения требованиям безопасности.\\n\\n\\n\\nСтатья 3. Сфера применения настоящего Федерального закона\\n\\n\\n\\n1. Объектом технического регулирования в настоящем Федеральном законе являются здания и сооружения любого назначения (в том числе входящие в их состав сети инженерно-технического обеспечения и системы инженерно-технического обеспечения), а также связанные со зданиями и с сооружениями процессы проектирования (включая изыскания), строительства, монтажа, наладки, эксплуатации и утилизации (сноса).\\n\\n2. Настоящий Федеральный закон распространяется на все этапы жизненного цикла здания или сооружения.\\n\\n3. Настоящий Федеральный закон не распространяется на безопасность технологических процессов, соответствующих функциональному назначению зданий и сооружений. Учету подлежат лишь возможные опасные воздействия этих процессов на состояние здания, сооружения или их частей.\\n\\n4. В отношении объектов военной инфраструктуры Вооруженных Сил Российской Федерации, объектов, сведения о которых составляют государственную тайну, объектов производства, переработки, хранения радиоактивных и взрывчатых веществ и материалов, объектов по хранению и уничтожению химического оружия и средств взрывания, иных объектов, для которых устанавливаются требования, связанные с обеспечением ядерной и радиационной безопасности в области использования атомной энергии, а также в отношении связанных с указанными объектами процессов проектирования (включая изыскания), строительства, монтажа, наладки, эксплуатации и утилизации (сноса) наряду с соблюдением требований настоящего Федерального закона должны соблюдаться требования, установленные государственными заказчиками, федеральными органами исполнительной власти, уполномоченными в области обеспечения безопасности, обороны, внешней разведки, противодействия техническим разведкам и технической защиты информации, государственного управления использованием атомной энергии, государственного регулирования безопасности при использовании атомной энергии, и (или) государственными контрактами (договорами).\\n\\n5. Дополнительные требования безопасности к зданиям и сооружениям (в том числе к входящим в их состав сетям инженерно-технического обеспечения и системам инженерно-технического обеспечения), а также к связанным со зданиями и с сооружениями процессам проектирования (включая изыскания), строительства, монтажа, наладки, эксплуатации и утилизации (сноса) могут устанавливаться иными техническими регламентами. При этом указанные требования не могут противоречить требованиям настоящего Федерального закона.\\n\\n6. Настоящий Федеральный закон устанавливает минимально необходимые требования к зданиям и сооружениям (в том числе к входящим в их состав сетям инженерно-технического обеспечения и системам инженерно-технического обеспечения), а также к связанным со зданиями и с сооружениями процессам проектирования (включая изыскания), строительства, монтажа, наладки, эксплуатации и утилизации (сноса), в том числе требования:\\n\\n1) механической безопасности;\\n\\n2) пожарной безопасности;\\n\\n3) безопасности при опасных природных процессах и явлениях и (или) техногенных воздействиях;\\n\\n4) безопасных для здоровья человека условий проживания и пребывания в зданиях и сооружениях;\\n\\n5) безопасности для пользователей зданиями и сооружениями;\\n\\n6) доступности зданий и сооружений для инвалидов и других групп населения с ограниченными возможностями передвижения;\\n\\n7) энергетической эффективности зданий и сооружений;\\n\\n8) безопасного уровня воздействия зданий и сооружений на окружающую среду.\\n\\n\\n\\nСтатья 4. Идентификация зданий и сооружений\\n\\n\\n\\n1. Для применения настоящего Федерального закона здания и сооружения идентифицируются в порядке, установленном настоящей статьей, по следующим признакам:\\n\\n1) назначение;\\n\\n2) принадлежность к объектам транспортной инфраструктуры и к другим объектам, функционально-технологические особенности которых влияют на их безопасность;\\n\\n3) возможность опасных природных процессов и явлений и техногенных воздействий на территории, на которой будут осуществляться строительство, реконструкция и эксплуатация здания или сооружения;\\n\\n4) принадлежность к опасным производственным объектам;\\n\\n5) пожарная и взрывопожарная опасность;\\n\\n6) наличие помещений с постоянным пребыванием людей;\\n\\n7) уровень ответственности.\\n\\n2. Идентификация здания или сооружения по признакам, предусмотренным пунктами 1 и 2 части 1 настоящей статьи, должна проводиться в соответствии с законодательством Российской Федерации. В случае отсутствия предусмотренных законодательством Российской Федерации общероссийских классификаторов технико-экономической и социальной информации застройщик (заказчик) вправе для идентификации здания или сооружения по указанным признакам использовать классификаторы, включенные в нормативные правовые акты, утвержденные федеральными органами исполнительной власти.\\n\\n3. Идентификация здания или сооружения по признакам, предусмотренным пунктом 3 части 1 настоящей статьи, должна проводиться в соответствии с районированием территории Российской Федерации по уровню опасности природных процессов и явлений, утвержденным уполномоченным федеральным органом исполнительной власти, данными многолетних наблюдений за природными процессами и явлениями, проводимых в соответствии с законодательством Российской Федерации, а также результатами инженерных изысканий на территории, на которой будут осуществляться строительство, реконструкция и эксплуатация здания или сооружения.\\n\\n4. Идентификация здания или сооружения по признакам, предусмотренным пунктом 4 части 1 настоящей статьи, должна проводиться в соответствии с законодательством Российской Федерации в области промышленной безопасности.\\n\\n5. Идентификация здания или сооружения по признакам, предусмотренным пунктом 5 части 1 настоящей статьи, должна проводиться в соответствии с законодательством Российской Федерации в области пожарной безопасности.\\n\\n6. Идентификация здания или сооружения по признакам, предусмотренным пунктом 6 части 1 настоящей статьи, должна проводиться в соответствии с требованиями застройщика (заказчика).\\n\\n7. В результате идентификации здания или сооружения по признаку, предусмотренному пунктом 7 части 1 настоящей статьи, здание или сооружение должно быть отнесено к одному из следующих уровней ответственности:\\n\\n1) повышенный;\\n\\n2) нормальный;\\n\\n3) пониженный.\\n\\n8. К зданиям и сооружениям повышенного уровня ответственности относятся здания и сооружения, отнесенные в соответствии с Градостроительным кодексом Российской Федерации к особо опасным, технически сложным или уникальным объектам.\\n\\n9. К зданиям и сооружениям нормального уровня ответственности относятся все здания и сооружения, за исключением зданий и сооружений повышенного и пониженного уровней ответственности.\\n\\n10. К зданиям и сооружениям пониженного уровня ответственности относятся здания и сооружения временного (сезонного) назначения, а также здания и сооружения вспомогательного использования, связанные с осуществлением строительства или реконструкции здания или сооружения либо расположенные на земельных участках, предоставленных для индивидуального жилищного строительства.\\n\\n11. Идентификационные признаки, предусмотренные частью 1 настоящей статьи, указываются:\\n\\n1) застройщиком (заказчиком) - в задании на выполнение инженерных изысканий для строительства здания или сооружения и в задании на проектирование;\\n\\n2) лицом, осуществляющим подготовку проектной документации, - в текстовых материалах в составе проектной документации, передаваемой по окончании строительства на хранение собственнику здания или сооружения.\\n\\n\\n\\nСтатья 5. Обеспечение соответствия безопасности зданий и сооружений, а также связанных со зданиями и с сооружениями процессов проектирования (включая изыскания), строительства, монтажа, наладки, эксплуатации и утилизации (сноса) требованиям настоящего Федерального закона\\n\\n\\n\\n1. Безопасность зданий и сооружений, а также связанных со зданиями и сооружениями процессов проектирования (включая изыскания), строительства, монтажа, наладки, эксплуатации и утилизации (сноса) обеспечивается посредством установления соответствующих требованиям безопасности проектных значений параметров зданий и сооружений и качественных характеристик в течение всего жизненного цикла здания или сооружения, реализации указанных значений и характеристик в процессе строительства, реконструкции, капитального ремонта (далее также - строительство) и поддержания состояния таких параметров и характеристик на требуемом уровне в процессе эксплуатации, консервации и сноса.\\n\\n2. Безопасность зданий и сооружений, а также связанных со зданиями и с сооружениями процессов проектирования (включая изыскания), строительства, монтажа, наладки, эксплуатации и утилизации (сноса) обеспечивается посредством соблюдения требований настоящего Федерального закона и требований стандартов и сводов правил, включенных в указанные в частях 1 и 7 статьи 6 настоящего Федерального закона перечни, или требований специальных технических условий.\\n\\n\\n\\nСтатья 6. Документы в области стандартизации, в результате применения которых обеспечивается соблюдение требований настоящего Федерального закона\\n\\n\\n\\n1. Правительство Российской Федерации утверждает перечень национальных стандартов и сводов правил (частей таких стандартов и сводов правил), в результате применения которых на обязательной основе обеспечивается соблюдение требований настоящего Федерального закона.\\n\\n2. В перечень национальных стандартов и сводов правил, указанный в части 1 настоящей статьи, могут включаться национальные стандарты и своды правил (части таких стандартов и сводов правил), содержащие минимально необходимые требования для обеспечения безопасности зданий и сооружений (в том числе входящих в их состав сетей инженерно-технического обеспечения и систем инженерно-технического обеспечения), а также связанных со зданиями и с сооружениями процессов проектирования (включая изыскания), строительства, монтажа, наладки, эксплуатации и утилизации (сноса).\\n\\n3. В перечень национальных стандартов и сводов правил, указанный в части 1 настоящей статьи, могут включаться национальные стандарты и своды правил, содержащие различные требования к зданиям и сооружениям, а также к связанным со зданиями и с сооружениями процессам проектирования (включая изыскания), строительства, монтажа, наладки, эксплуатации и утилизации (сноса) по одному предмету, к одному разделу проектной документации, различные подходы к обеспечению безопасности зданий и сооружений. При этом в указанном перечне национальных стандартов и сводов правил должно содержаться указание о возможности соблюдения таких требований, подходов на альтернативной основе. В этом случае застройщик (заказчик) вправе самостоятельно определить, в соответствии с каким из указанных требований, подходов будет осуществляться проектирование (включая инженерные изыскания), строительство, реконструкция, капитальный ремонт и снос (демонтаж) здания или сооружения.\\n\\n4. Национальные стандарты и своды правил, включенные в указанный в части 1 настоящей статьи перечень, являются обязательными для применения, за исключением случаев осуществления проектирования и строительства в соответствии со специальными техническими условиями.\\n\\n5. Национальный орган Российской Федерации по стандартизации обеспечивает в информационной системе общего пользования доступ на безвозмездной основе к национальным стандартам и сводам правил, включенным в указанный в части 1 настоящей статьи перечень.\\n\\n6. Национальные стандарты и своды правил, включенные в указанный в части 1 настоящей статьи перечень, подлежат ревизии и в необходимых случаях пересмотру и (или) актуализации не реже чем каждые пять лет.\\n\\n7. Национальным органом Российской Федерации по стандартизации в соответствии с законодательством Российской Федерации о техническом регулировании утверждается, опубликовывается в печатном издании федерального органа исполнительной власти по техническому регулированию и размещается в информационной системе общего пользования в электронно-цифровой форме перечень документов в области стандартизации, в результате применения которых на добровольной основе обеспечивается соблюдение требований настоящего Федерального закона.\\n\\n8. В случае, если для подготовки проектной документации требуется отступление от требований, установленных включенными в указанный в части 1 настоящей статьи перечень национальными стандартами и сводами правил, недостаточно требований к надежности и безопасности, установленных указанными стандартами и сводами правил, или такие требования не установлены, подготовка проектной документации и строительство здания или сооружения осуществляются в соответствии со специальными техническими условиями, разрабатываемыми и согласовываемыми в порядке, установленном уполномоченным федеральным органом исполнительной власти.\\n\\n9. Согласованные в установленном порядке специальные технические условия могут являться основанием для включения содержащихся в таких специальных технических условиях требований к зданиям и сооружениям, а также к связанным со зданиями и с сооружениями процессам проектирования (включая изыскания), строительства, монтажа, наладки в национальные стандарты и своды правил, применение которых обеспечивает соблюдение требований настоящего Федерального закона.\\n\\n\\n\\nГлава 2. ОБЩИЕ ТРЕБОВАНИЯ БЕЗОПАСНОСТИ\\n\\nЗДАНИЙ И СООРУЖЕНИЙ, А ТАКЖЕ СВЯЗАННЫХ СО ЗДАНИЯМИ\\n\\nИ С СООРУЖЕНИЯМИ ПРОЦЕССОВ ПРОЕКТИРОВАНИЯ (ВКЛЮЧАЯ\\n\\nИЗЫСКАНИЯ), СТРОИТЕЛЬСТВА, МОНТАЖА, НАЛАДКИ,\\n\\nЭКСПЛУАТАЦИИ И УТИЛИЗАЦИИ (СНОСА)\\n\\n\\n\\nСтатья 7. Требования механической безопасности\\n\\n\\n\\nСтроительные конструкции и основание здания или сооружения должны обладать такой прочностью и устойчивостью, чтобы в процессе строительства и эксплуатации не возникало угрозы причинения вреда жизни или здоровью людей, имуществу физических или юридических лиц, государственному или муниципальному имуществу, окружающей среде, жизни и здоровью животных и растений в результате:\\n\\n1) разрушения отдельных несущих строительных конструкций или их частей;\\n\\n2) разрушения всего здания, сооружения или их части;\\n\\n3) деформации недопустимой величины строительных конструкций, основания здания или сооружения и геологических массивов прилегающей территории;\\n\\n4) повреждения части здания или сооружения, сетей инженерно-технического обеспечения или систем инженерно-технического обеспечения в результате деформации, перемещений либо потери устойчивости несущих строительных конструкций, в том числе отклонений от вертикальности.\\n\\n\\n\\nСтатья 8. Требования пожарной безопасности\\n\\n\\n\\nЗдание или сооружение должно быть спроектировано и построено таким образом, чтобы в процессе эксплуатации здания или сооружения исключалась возможность возникновения пожара, обеспечивалось предотвращение или ограничение опасности задымления здания или сооружения при пожаре и воздействия опасных факторов пожара на людей и имущество, обеспечивались защита людей и имущества от воздействия опасных факторов пожара и (или) ограничение последствий воздействия опасных факторов пожара на здание или сооружение, а также чтобы в случае возникновения пожара соблюдались следующие требования:\\n\\n1) сохранение устойчивости здания или сооружения, а также прочности несущих строительных конструкций в течение времени, необходимого для эвакуации людей и выполнения других действий, направленных на сокращение ущерба от пожара;\\n\\n2) ограничение образования и распространения опасных факторов пожара в пределах очага пожара;\\n\\n3) нераспространение пожара на соседние здания и сооружения;\\n\\n4) эвакуация людей (с учетом особенностей инвалидов и других групп населения с ограниченными возможностями передвижения) в безопасную зону до нанесения вреда их жизни и здоровью вследствие воздействия опасных факторов пожара;\\n\\n5) возможность доступа личного состава подразделений пожарной охраны и доставки средств пожаротушения в любое помещение здания или сооружения;\\n\\n6) возможность подачи огнетушащих веществ в очаг пожара;\\n\\n7) возможность проведения мероприятий по спасению людей и сокращению наносимого пожаром ущерба имуществу физических или юридических лиц, государственному или муниципальному имуществу, окружающей среде, жизни и здоровью животных и растений.\\n\\n\\n\\nСтатья 9. Требования безопасности при опасных природных процессах и явлениях и (или) техногенных воздействиях\\n\\n\\n\\nЗдание или сооружение на территории, на которой возможно проявление опасных природных процессов и явлений и (или) техногенных воздействий, должно быть спроектировано и построено таким образом, чтобы в процессе эксплуатации здания или сооружения опасные природные процессы и явления и (или) техногенные воздействия не вызывали последствий, указанных в статье 7 настоящего Федерального закона, и (или) иных событий, создающих угрозу причинения вреда жизни или здоровью людей, имуществу физических или юридических лиц, государственному или муниципальному имуществу, окружающей среде, жизни и здоровью животных и растений.\\n\\n\\n\\nСтатья 10. Требования безопасных для здоровья человека условий проживания и пребывания в зданиях и сооружениях\\n\\n\\n\\n1. Здание или сооружение должно быть спроектировано и построено таким образом, чтобы при проживании и пребывании человека в здании или сооружении не возникало вредного воздействия на человека в результате физических, биологических, химических, радиационных и иных воздействий.\\n\\n2. Здание или сооружение должно быть спроектировано и построено таким образом, чтобы в процессе эксплуатации здания или сооружения обеспечивались безопасные условия для проживания и пребывания человека в зданиях и сооружениях по следующим показателям:\\n\\n1) качество воздуха в производственных, жилых и иных помещениях зданий и сооружений и в рабочих зонах производственных зданий и сооружений;\\n\\n2) качество воды, используемой в качестве питьевой и для хозяйственно-бытовых нужд;\\n\\n3) инсоляция и солнцезащита помещений жилых, общественных и производственных зданий;\\n\\n4) естественное и искусственное освещение помещений;\\n\\n5) защита от шума в помещениях жилых и общественных зданий и в рабочих зонах производственных зданий и сооружений;\\n\\n6) микроклимат помещений;\\n\\n7) регулирование влажности на поверхности и внутри строительных конструкций;\\n\\n8) уровень вибрации в помещениях жилых и общественных зданий и уровень технологической вибрации в рабочих зонах производственных зданий и сооружений;\\n\\n9) уровень напряженности электромагнитного поля в помещениях жилых и общественных зданий и в рабочих зонах производственных зданий и сооружений, а также на прилегающих территориях;\\n\\n10) уровень ионизирующего излучения в помещениях жилых и общественных зданий и в рабочих зонах производственных зданий и сооружений, а также на прилегающих территориях.\\n\\n\\n\\nСтатья 11. Требования безопасности для пользователей зданиями и сооружениями\\n\\n\\n\\nЗдание или сооружение должно быть спроектировано и построено, а территория, необходимая для использования здания или сооружения, должна быть благоустроена таким образом, чтобы в процессе эксплуатации здания или сооружения не возникало угрозы наступления несчастных случаев и нанесения травм людям - пользователям зданиями и сооружениями в результате скольжения, падения, столкновения, ожога, поражения электрическим током, а также вследствие взрыва.\\n\\n\\n\\nСтатья 12. Требования доступности зданий и сооружений для инвалидов и других групп населения с ограниченными возможностями передвижения\\n\\n\\n\\n1. Жилые здания, объекты инженерной, транспортной и социальной инфраструктур должны быть спроектированы и построены таким образом, чтобы обеспечивалась их доступность для инвалидов и других групп населения с ограниченными возможностями передвижения.\\n\\n2. Объекты транспортной инфраструктуры должны быть оборудованы специальными приспособлениями, позволяющими инвалидам и другим группам населения с ограниченными возможностями передвижения беспрепятственно пользоваться услугами, предоставляемыми на объектах транспортной инфраструктуры.\\n\\n\\n\\nСтатья 13. Требования энергетической эффективности зданий и сооружений\\n\\n\\n\\nЗдания и сооружения должны быть спроектированы и построены таким образом, чтобы в процессе их эксплуатации обеспечивалось эффективное использование энергетических ресурсов и исключался нерациональный расход таких ресурсов.\\n\\n\\n\\nСтатья 14. Требования безопасного уровня воздействия зданий и сооружений на окружающую среду\\n\\n\\n\\nЗдания и сооружения должны быть спроектированы таким образом, чтобы в процессе их строительства и эксплуатации не возникало угрозы оказания негативного воздействия на окружающую среду.\\n\\n\\n\\nГлава 3. ТРЕБОВАНИЯ К РЕЗУЛЬТАТАМ ИНЖЕНЕРНЫХ ИЗЫСКАНИЙ\\n\\nИ ПРОЕКТНОЙ ДОКУМЕНТАЦИИ В ЦЕЛЯХ ОБЕСПЕЧЕНИЯ БЕЗОПАСНОСТИ\\n\\nЗДАНИЙ И СООРУЖЕНИЙ\\n\\n\\n\\nСтатья 15. Общие требования к результатам инженерных изысканий и проектной документации\\n\\n\\n\\n1. Результаты инженерных изысканий должны быть достоверными и достаточными для установления проектных значений параметров и других проектных характеристик здания или сооружения, а также проектируемых мероприятий по обеспечению его безопасности. Расчетные данные в составе результатов инженерных изысканий должны быть обоснованы лицом, выполняющим инженерные изыскания, и содержать прогноз изменения их значений в процессе строительства и эксплуатации здания или сооружения.\\n\\n2. В проектной документации здания или сооружения лицом, осуществляющим подготовку проектной документации, должны быть учтены исходные данные, передаваемые застройщиком (заказчиком) в соответствии с законодательством о градостроительной деятельности. В составе исходных данных для проектирования должен быть указан уровень ответственности проектируемого здания или сооружения, устанавливаемый в соответствии с частями 7 - 10 статьи 4 настоящего Федерального закона.\\n\\n3. Задание на выполнение инженерных изысканий для строительства, реконструкции зданий и сооружений повышенного уровня ответственности и задание на проектирование таких зданий и сооружений могут предусматривать необходимость научного сопровождения инженерных изысканий и (или) проектирования и строительства здания или сооружения. В проектной документации опасных производственных объектов, относящихся в соответствии с частью 8 статьи 4 настоящего Федерального закона к зданиям или сооружениям повышенного уровня ответственности, должны быть предусмотрены конструктивные и организационно-технические меры по защите жизни и здоровья людей и окружающей среды от опасных последствий аварий в процессе строительства, эксплуатации, консервации и сноса (демонтажа) таких объектов.\\n\\n4. В проектной документации здания или сооружения может быть предусмотрена необходимость проведения мониторинга компонентов окружающей среды, состояния основания, строительных конструкций и систем инженерно-технического обеспечения в процессе строительства и (или) эксплуатации здания или сооружения.\\n\\n5. В проектной документации проектные значения параметров и другие проектные характеристики здания или сооружения, а также проектируемые мероприятия по обеспечению его безопасности должны быть установлены таким образом, чтобы в процессе строительства и эксплуатации здание или сооружение было безопасным для жизни и здоровья граждан (включая инвалидов и другие группы населения с ограниченными возможностями передвижения), имущества физических или юридических лиц, государственного или муниципального имущества, окружающей среды, жизни и здоровья животных и растений.\\n\\n6. Соответствие проектных значений параметров и других проектных характеристик здания или сооружения требованиям безопасности, а также проектируемые мероприятия по обеспечению его безопасности должны быть обоснованы ссылками на требования настоящего Федерального закона и ссылками на требования стандартов и сводов правил, включенных в указанные в частях 1 и 7 статьи 6 настоящего Федерального закона перечни, или на требования специальных технических условий. В случае отсутствия указанных требований соответствие проектных значений и характеристик здания или сооружения требованиям безопасности, а также проектируемые мероприятия по обеспечению его безопасности должны быть обоснованы одним или несколькими способами из следующих способов:\\n\\n1) результаты исследований;\\n\\n2) расчеты и (или) испытания, выполненные по сертифицированным или апробированным иным способом методикам;\\n\\n3) моделирование сценариев возникновения опасных природных процессов и явлений и (или) техногенных воздействий, в том числе при неблагоприятном сочетании опасных природных процессов и явлений и (или) техногенных воздействий;\\n\\n4) оценка риска возникновения опасных природных процессов и явлений и (или) техногенных воздействий.\\n\\n7. При обосновании, предусмотренном частью 6 настоящей статьи, должны быть учтены исходные данные для проектирования, в том числе результаты инженерных изысканий.\\n\\n8. В проектной документации должна быть предусмотрена в объеме, необходимом для обеспечения безопасности здания или сооружения, доступность элементов строительных конструкций, сетей инженерно-технического обеспечения и систем инженерно-технического обеспечения для определения фактических значений их параметров и других характеристик, а также параметров материалов, изделий и устройств, влияющих на безопасность здания или сооружения, в процессе его строительства и эксплуатации.\\n\\n9. В проектной документации лицом, осуществляющим подготовку проектной документации, должны быть предусмотрены:\\n\\n1) возможность безопасной эксплуатации проектируемого здания или сооружения и требования к способам проведения мероприятий по техническому обслуживанию, при проведении которых отсутствует угроза нарушения безопасности строительных конструкций, сетей инженерно-технического обеспечения и систем инженерно-технического обеспечения или недопустимого ухудшения параметров среды обитания людей;\\n\\n2) минимальная периодичность осуществления проверок, осмотров и освидетельствований состояния строительных конструкций, основания, сетей инженерно-технического обеспечения и систем инженерно-технического обеспечения здания или сооружения и (или) необходимость проведения мониторинга компонентов окружающей среды, состояния основания, строительных конструкций и систем инженерно-технического обеспечения в процессе эксплуатации здания или сооружения;\\n\\n3) сведения для пользователей и эксплуатационных служб о значениях эксплуатационных нагрузок на строительные конструкции, сети инженерно-технического обеспечения и системы инженерно-технического обеспечения, которые недопустимо превышать в процессе эксплуатации здания или сооружения;\\n\\n4) сведения о размещении скрытых электрических проводок, трубопроводов и иных устройств, повреждение которых может привести к угрозе причинения вреда жизни и здоровью людей, имуществу физических или юридических лиц, государственному или муниципальному имуществу, окружающей среде, жизни и здоровью животных и растений.\\n\\n10. Проектная документация здания или сооружения должна использоваться в качестве основного документа при принятии решений об обеспечении безопасности здания или сооружения на всех последующих этапах жизненного цикла здания или сооружения.\\n\\n\\n\\nСтатья 16. Требования к обеспечению механической безопасности здания или сооружения\\n\\n\\n\\n1. Выполнение требований механической безопасности в проектной документации здания или сооружения должно быть обосновано расчетами и иными способами, указанными в части 6 статьи 15 настоящего Федерального закона, подтверждающими, что в процессе строительства и эксплуатации здания или сооружения его строительные конструкции и основание не достигнут предельного состояния по прочности и устойчивости при учитываемых в соответствии с частями 5 и 6 настоящей статьи вариантах одновременного действия нагрузок и воздействий.\\n\\n2. За предельное состояние строительных конструкций и основания по прочности и устойчивости должно быть принято состояние, характеризующееся:\\n\\n1) разрушением любого характера;\\n\\n2) потерей устойчивости формы;\\n\\n3) потерей устойчивости положения;\\n\\n4) нарушением эксплуатационной пригодности и иными явлениями, связанными с угрозой причинения вреда жизни и здоровью людей, имуществу физических или юридических лиц, государственному или муниципальному имуществу, окружающей среде, жизни и здоровью животных и растений.\\n\\n3. В расчетах строительных конструкций и основания должны быть учтены все виды нагрузок, соответствующих функциональному назначению и конструктивному решению здания или сооружения, климатические, а в необходимых случаях технологические воздействия, а также усилия, вызываемые деформацией строительных конструкций и основания. Для элементов строительных конструкций, характеристики которых, учтенные в расчетах прочности и устойчивости здания или сооружения, могут изменяться в процессе эксплуатации под воздействием климатических факторов или агрессивных факторов наружной и внутренней среды, в том числе под воздействием технологических процессов, которые могут вызывать усталостные явления в материале строительных конструкций, в проектной документации должны быть дополнительно указаны параметры, характеризующие сопротивление таким воздействиям, или мероприятия по защите от них.\\n\\n4. Расчетные модели (в том числе расчетные схемы, основные предпосылки расчета) строительных конструкций и основания должны отражать действительные условия работы здания или сооружения, отвечающие рассматриваемой расчетной ситуации. При этом должны быть учтены:\\n\\n1) факторы, определяющие напряженно-деформированное состояние;\\n\\n2) особенности взаимодействия элементов строительных конструкций между собой и с основанием;\\n\\n3) пространственная работа строительных конструкций;\\n\\n4) геометрическая и физическая нелинейность;\\n\\n5) пластические и реологические свойства материалов и грунтов;\\n\\n6) возможность образования трещин;\\n\\n7) возможные отклонения геометрических параметров от их номинальных значений.\\n\\n5. В процессе обоснования выполнения требований механической безопасности должны быть учтены следующие расчетные ситуации:\\n\\n1) установившаяся ситуация, имеющая продолжительность того же порядка, что и срок эксплуатации здания или сооружения, в том числе эксплуатация между двумя капитальными ремонтами или изменениями технологического процесса;\\n\\n2) переходная ситуация, имеющая небольшую по сравнению со сроком эксплуатации здания или сооружения продолжительность, в том числе строительство, реконструкция, капитальный ремонт здания или сооружения.\\n\\n6. При проектировании здания или сооружения повышенного уровня ответственности должна быть учтена также аварийная расчетная ситуация, имеющая малую вероятность возникновения и небольшую продолжительность, но являющаяся важной с точки зрения последствий достижения предельных состояний, которые могут возникнуть при этой ситуации (в том числе предельных состояний при ситуации, возникающей в связи со взрывом, столкновением, с аварией, пожаром, а также непосредственно после отказа одной из несущих строительных конструкций).\\n\\n7. Расчеты, обосновывающие безопасность принятых конструктивных решений здания или сооружения, должны быть проведены с учетом уровня ответственности проектируемого здания или сооружения. С этой целью расчетные значения усилий в элементах строительных конструкций и основании здания или сооружения должны быть определены с учетом коэффициента надежности по ответственности, принятое значение которого не должно быть ниже:\\n\\n1) 1,1 - в отношении здания и сооружения повышенного уровня ответственности;\\n\\n2) 1,0 - в отношении здания и сооружения нормального уровня ответственности;\\n\\n3) 0,8 - в отношении здания и сооружения пониженного уровня ответственности.\\n\\n\\n\\nСтатья 17. Требования к обеспечению пожарной безопасности здания или сооружения\\n\\n\\n\\nДля обеспечения пожарной безопасности здания или сооружения в проектной документации одним из способов, указанных в части 6 статьи 15 настоящего Федерального закона, должны быть обоснованы:\\n\\n1) противопожарный разрыв или расстояние от проектируемого здания или сооружения до ближайшего здания, сооружения или наружной установки (для линейных сооружений - расстояние от оси трассы до населенных пунктов, промышленных и сельскохозяйственных объектов, лесных массивов, расстояние между прокладываемыми параллельно друг другу трассами линейных сооружений, размеры охранных зон);\\n\\n2) принимаемые значения характеристик огнестойкости и пожарной опасности элементов строительных конструкций и систем инженерно-технического обеспечения;\\n\\n3) принятое разделение здания или сооружения на пожарные отсеки;\\n\\n4) расположение, габариты и протяженность путей эвакуации людей (в том числе инвалидов и других групп населения с ограниченными возможностями передвижения) при возникновении пожара, обеспечение противодымной защиты путей эвакуации, характеристики пожарной опасности материалов отделки стен, полов и потолков на путях эвакуации, число, расположение и габариты эвакуационных выходов;\\n\\n5) характеристики или параметры систем обнаружения пожара, оповещения и управления эвакуацией людей при пожаре (с учетом особенностей инвалидов и других групп населения с ограниченными возможностями передвижения), а также автоматического пожаротушения и систем противодымной защиты;\\n\\n6) меры по обеспечению возможности проезда и подъезда пожарной техники, безопасности доступа личного состава подразделений пожарной охраны и подачи средств пожаротушения к очагу пожара, параметры систем пожаротушения, в том числе наружного и внутреннего противопожарного водоснабжения;\\n\\n7) организационно-технические мероприятия по обеспечению пожарной безопасности здания или сооружения в процессе их строительства и эксплуатации.\\n\\n\\n\\nСтатья 18. Требования к обеспечению безопасности зданий и сооружений при опасных природных процессах и явлениях и техногенных воздействиях\\n\\n\\n\\n1. Для обеспечения безопасности зданий и сооружений, строительство и эксплуатация которых планируются в сложных природных условиях, в случаях, предусмотренных в задании на проектирование здания или сооружения, в проектной документации должны быть предусмотрены:\\n\\n1) меры, направленные на защиту людей, здания или сооружения, территории, на которой будут осуществляться строительство, реконструкция и эксплуатация здания или сооружения, от воздействия опасных природных процессов и явлений и техногенных воздействий, а также меры, направленные на предупреждение и (или) уменьшение последствий воздействия опасных природных процессов и явлений и техногенных воздействий;\\n\\n2) конструктивные меры, уменьшающие чувствительность строительных конструкций и основания к воздействию опасных природных процессов и явлений и техногенным воздействиям;\\n\\n3) меры по улучшению свойств грунтов основания;\\n\\n4) ведение строительных работ способами, не приводящими к проявлению новых и (или) интенсификации действующих опасных природных процессов и явлений.\\n\\n2. В случаях, когда меры, направленные на защиту людей, здания или сооружения, территории, на которой будут осуществляться строительство, реконструкция и эксплуатация здания или сооружения, от воздействия опасных природных процессов и явлений и техногенных воздействий, а также меры, направленные на предупреждение и (или) уменьшение последствий воздействия опасных природных процессов и явлений и техногенных воздействий, в том числе устройство инженерной защиты, и строительство здания или сооружения могут привести к активизации опасных природных процессов и явлений на прилегающих территориях, в проектной документации должны быть предусмотрены соответствующие компенсационно-восстановительные мероприятия.\\n\\n3. Для обеспечения безопасности зданий и сооружений в проектной документации должна быть предусмотрена противоаварийная защита систем инженерно-технического обеспечения.\\n\\n4. При обосновании принятых проектных решений уровень ответственности сооружений инженерной и противоаварийной защиты должен быть принят в соответствии с уровнем ответственности защищаемых зданий или сооружений.\\n\\n5. Проектная документация здания или сооружения, в том числе сооружений инженерной защиты, должна содержать пределы допустимых изменений параметров, характеризующих безопасность объектов и геологической среды в процессе строительства и эксплуатации. В проектной документации может быть предусмотрена необходимость проведения в процессе строительства и эксплуатации проектируемого здания или сооружения мониторинга компонентов окружающей среды (в том числе состояния окружающих зданий и сооружений, попадающих в зону влияния строительства и эксплуатации проектируемого здания или сооружения), состояния основания, строительных конструкций и систем инженерно-технического обеспечения проектируемого здания или сооружения, сооружений инженерной защиты.\\n\\n6. В проектной документации жилых зданий должно быть предусмотрено оборудование таких зданий техническими устройствами для автоматического отключения подачи воды при возникновении аварийных ситуаций.\\n\\n\\n\\nСтатья 19. Требования к обеспечению выполнения санитарно-эпидемиологических требований\\n\\n\\n\\nДля обеспечения выполнения санитарно-эпидемиологических требований в проектной документации зданий и сооружений с помещениями с постоянным пребыванием людей, за исключением объектов индивидуального жилищного строительства, должно быть предусмотрено устройство систем водоснабжения, канализации, отопления, вентиляции, энергоснабжения.\\n\\n\\n\\nСтатья 20. Требования к обеспечению качества воздуха\\n\\n\\n\\n1. В проектной документации зданий и сооружений должно быть предусмотрено оборудование зданий и сооружений системой вентиляции. В проектной документации зданий и сооружений может быть предусмотрено оборудование помещений системой кондиционирования воздуха. Системы вентиляции и кондиционирования воздуха должны обеспечивать подачу в помещения воздуха с содержанием вредных веществ, не превышающим предельно допустимых концентраций для таких помещений или для рабочей зоны производственных помещений.\\n\\n2. В проектной документации здания и сооружения с помещениями с пребыванием людей должны быть предусмотрены меры по:\\n\\n1) ограничению проникновения в помещения пыли, влаги, вредных и неприятно пахнущих веществ из атмосферного воздуха;\\n\\n2) обеспечению воздухообмена, достаточного для своевременного удаления вредных веществ из воздуха и поддержания химического состава воздуха в пропорциях, благоприятных для жизнедеятельности человека;\\n\\n3) предотвращению проникновения в помещения с постоянным пребыванием людей вредных и неприятно пахнущих веществ из трубопроводов систем и устройств канализации, отопления, вентиляции, кондиционирования, из воздуховодов и технологических трубопроводов, а также выхлопных газов из встроенных автомобильных стоянок;\\n\\n4) предотвращению проникновения почвенных газов (радона, метана) в помещения, если в процессе инженерных изысканий обнаружено их наличие на территории, на которой будут осуществляться строительство и эксплуатация здания или сооружения.\\n\\n\\n\\nСтатья 21. Требования к обеспечению качества воды, используемой в качестве питьевой и для хозяйственно-бытовых нужд\\n\\n\\n\\nВ проектной документации наружных и внутренних сетей снабжения зданий и сооружений водой, используемой в качестве питьевой и (или) для хозяйственно-бытовых нужд, должны быть предусмотрены меры по обеспечению подачи требуемого количества воды и предотвращению ее загрязнения.\\n\\n\\n\\nСтатья 22. Требования к обеспечению инсоляции и солнцезащиты\\n\\n\\n\\n1. Здания должны быть спроектированы таким образом, чтобы в жилых помещениях была обеспечена достаточная продолжительность инсоляции или солнцезащита в целях создания безопасных условий проживания независимо от его срока.\\n\\n2. Выполнение требований, предусмотренных частью 1 настоящей статьи, должно быть обеспечено мерами по ориентации жилых помещений по сторонам света, а также мерами конструктивного и планировочного характера, в том числе по благоустройству прилегающей территории.\\n\\n\\n\\nСтатья 23. Требования к обеспечению освещения\\n\\n\\n\\n1. В расположенных в надземных этажах зданий и сооружений помещениях с постоянным пребыванием людей должно быть обеспечено естественное или совмещенное, а также искусственное освещение, а в подземных этажах - искусственное освещение, достаточное для предотвращения угрозы причинения вреда здоровью людей.\\n\\n2. В расположенных в надземных этажах зданий и сооружений помещениях, в которых по условиям осуществления технологических процессов исключена возможность устройства естественного освещения, должно быть обеспечено искусственное освещение, достаточное для предотвращения угрозы причинения вреда здоровью людей.\\n\\n3. В случаях, предусмотренных в задании на проектирование, в проектной документации здания или сооружения должны быть предусмотрены устройства для наружного освещения.\\n\\n\\n\\nСтатья 24. Требования к обеспечению защиты от шума\\n\\n\\n\\n1. Размещение здания или сооружения на местности, проектные значения характеристик строительных конструкций, характеристики принятых в проектной документации типов инженерного оборудования, предусмотренные в проектной документации мероприятия по благоустройству прилегающей территории должны обеспечивать защиту людей от:\\n\\n1) воздушного шума, создаваемого внешними источниками (снаружи здания);\\n\\n2) воздушного шума, создаваемого в других помещениях здания или сооружения;\\n\\n3) ударного шума;\\n\\n4) шума, создаваемого оборудованием;\\n\\n5) чрезмерного реверберирующего шума в помещении.\\n\\n2. В здании или сооружении, которые могут являться источником шума, приводящего к недопустимому превышению уровня воздушного шума на территории, на которой будут осуществляться строительство и эксплуатация здания или сооружения, должны быть предусмотрены меры по снижению уровня шума, источником которого является это проектируемое здание или сооружение.\\n\\n3. Защита от шума должна быть обеспечена:\\n\\n1) в помещениях жилых, общественных и производственных зданий;\\n\\n2) в границах территории, на которой будут осуществляться строительство и эксплуатация здания или сооружения.\\n\\n4. В помещениях и на открытых площадках, где от различимости звука, создаваемого средствами радиооповещения, может зависеть безопасность людей, должны быть предусмотрены меры по обеспечению оптимального уровня громкости и различимости звука.\\n\\n\\n\\nСтатья 25. Требования к обеспечению защиты от влаги\\n\\n\\n\\n1. В проектной документации здания и сооружения должны быть предусмотрены конструктивные решения, обеспечивающие:\\n\\n1) водоотвод с наружных поверхностей ограждающих строительных конструкций, включая кровлю, и от подземных строительных конструкций здания и сооружения;\\n\\n2) водонепроницаемость кровли, наружных стен, перекрытий, а также стен подземных этажей и полов по грунту;\\n\\n3) недопущение образования конденсата на внутренней поверхности ограждающих строительных конструкций, за исключением светопрозрачных частей окон и витражей.\\n\\n2. В случае, если это установлено в задании на проектирование, в проектной документации должны быть также предусмотрены меры по предотвращению подтопления помещений и строительных конструкций при авариях на системах водоснабжения.\\n\\n\\n\\nСтатья 26. Требования к обеспечению защиты от вибрации\\n\\n\\n\\nВ проектной документации здания и сооружения должны быть предусмотрены меры для того, чтобы вибрация в здании и сооружении не причиняла вреда здоровью людей.\\n\\n\\n\\nСтатья 27. Требования по обеспечению защиты от воздействия электромагнитного поля\\n\\n\\n\\nВ проектной документации здания и сооружения, строительство которых планируется на территории, где уровень напряженности электромагнитного поля, создаваемого линией электропередачи переменного тока промышленной частоты и (или) передающими радиотехническими объектами, превышает предельно допустимый, должны быть предусмотрены меры по снижению этого уровня в помещениях с пребыванием людей и на прилегающей территории путем соблюдения требований к санитарно-защитным зонам и экранирования от электромагнитного поля.\\n\\n\\n\\nСтатья 28. Требования к обеспечению защиты от ионизирующего излучения\\n\\n\\n\\n1. В проектной документации здания и сооружения, строительство которых планируется на территории, которая в соответствии с результатами инженерных изысканий является радоноопасной, должны быть предусмотрены меры по дезактивации территории и по обеспечению вентиляции помещений, конструкции которых соприкасаются с грунтом.\\n\\n2. В проектной документации должно быть предусмотрено использование в процессе строительства материалов и изделий с показателем удельной эффективной активности естественных радионуклидов, не превышающим предельного значения, установленного исходя из необходимости обеспечения требований санитарно-эпидемиологического благополучия населения Российской Федерации.\\n\\n\\n\\nСтатья 29. Требования к микроклимату помещения\\n\\n\\n\\n1. В проектной документации здания или сооружения должны быть определены значения характеристик ограждающих конструкций и приняты конструктивные решения, обеспечивающие соответствие расчетных значений следующих теплотехнических характеристик требуемым значениям, установленным исходя из необходимости создания благоприятных санитарно-гигиенических условий в помещениях:\\n\\n1) сопротивление теплопередаче ограждающих строительных конструкций здания или сооружения;\\n\\n2) разность температуры на внутренней поверхности ограждающих строительных конструкций и температуры воздуха внутри здания или сооружения во время отопительного периода;\\n\\n3) теплоустойчивость ограждающих строительных конструкций в теплый период года и помещений здания или сооружения в холодный период года;\\n\\n4) сопротивление воздухопроницанию ограждающих строительных конструкций;\\n\\n5) сопротивление паропроницанию ограждающих строительных конструкций;\\n\\n6) теплоусвоение поверхности полов.\\n\\n2. Наряду с требованиями, предусмотренными частью 1 настоящей статьи, в проектной документации здания или сооружения должны быть предусмотрены меры по предотвращению переувлажнения ограждающих строительных конструкций, накопления влаги на их поверхности и по обеспечению долговечности этих конструкций.\\n\\n3. Системы отопления, вентиляции и кондиционирования воздуха и установленные в проектной документации требования к режиму их функционирования должны обеспечивать при принятых с учетом требований статьи 30 настоящего Федерального закона расчетных значениях теплотехнических характеристик ограждающих строительных конструкций соответствие расчетных значений следующих параметров микроклимата помещений требуемым значениям для теплого, холодного и переходного периодов года, установленным исходя из необходимости создания благоприятных санитарно-гигиенических условий:\\n\\n1) температура воздуха внутри здания или сооружения;\\n\\n2) результирующая температура;\\n\\n3) скорость движения воздуха;\\n\\n4) относительная влажность воздуха.\\n\\n4. Расчетные значения должны быть определены с учетом назначения зданий или сооружений, условий проживания или деятельности людей в помещениях. Учету подлежат также избытки тепла в производственных помещениях.\\n\\n5. В технических решениях систем отопления, вентиляции и кондиционирования воздуха должна быть предусмотрена возможность автономного регулирования параметров микроклимата помещений.\\n\\n6. В проектной документации здания или сооружения должны быть предусмотрены также технические решения по обеспечению тепловой и гидравлической устойчивости систем отопления при изменениях внешних и внутренних условий эксплуатации здания или сооружения в течение всех периодов года.\\n\\n\\n\\nСтатья 30. Требования безопасности для пользователей зданиями и сооружениями\\n\\n\\n\\n1. Параметрами элементов строительных конструкций, значения которых в проектной документации должны быть предусмотрены таким образом, чтобы была сведена к минимуму вероятность наступления несчастных случаев и нанесения травм людям (с учетом инвалидов и других групп населения с ограниченными возможностями передвижения) при перемещении по зданию или сооружению и прилегающей территории в результате скольжения, падения или столкновения, являются:\\n\\n1) высота ограждения крыш, балконов, лоджий, террас, наружных галерей, лестничных маршей, площадок и открытых приямков у здания или сооружения, открытых пешеходных переходов, в том числе по мостам и путепроводам, а также перепадов в уровне пола или уровне земли на прилегающей территории;\\n\\n2) уклон лестниц и пандусов, ширина проступей и высота ступеней на лестницах, высота подъема по одному непрерывному лестничному маршу и пандусу. Недопустимо применение ступеней разной высоты в пределах одного лестничного марша. Перила и поручни на ограждениях лестниц, пандусов и лестничных площадок должны быть непрерывными;\\n\\n3) высота порогов, дверных и незаполняемых проемов в стенах на путях перемещения людей, высота прохода по лестницам, подвалу, эксплуатируемому чердаку, высота проходов под выступающими сверху и по бокам пути перемещения людей элементами строительных конструкций или оборудования.\\n\\n2. Конструкция ограждений в соответствии с требованиями, предусмотренными настоящей статьей, должна ограничивать возможность случайного падения с высоты (в том числе с крыш зданий) предметов, которые могут нанести травму людям, находящимся под ограждаемым элементом конструкции.\\n\\n3. Для обеспечения свободного перемещения людей, а также возможности эвакуации больных на носилках, инвалидов, использующих кресла-коляски, и других групп населения с ограниченными возможностями передвижения должна быть предусмотрена достаточная ширина дверных и незаполняемых проемов в стенах, лестничных маршей и площадок, пандусов и поворотных площадок, коридоров, проходов между стационарными элементами технологического оборудования производственных зданий и элементами оснащения общественных зданий.\\n\\n4. На путях перемещения транспортных средств внутри здания или сооружения и по прилегающей территории должны быть предусмотрены меры по обеспечению безопасности передвижения людей.\\n\\n5. В проектной документации зданий и сооружений должны быть предусмотрены:\\n\\n1) устройства для предупреждения случайного движения подвижных элементов оборудования здания или сооружения (в том числе при отказе устройств автоматического торможения), которое может привести к наступлению несчастных случаев и нанесению травм людям;\\n\\n2) конструкция окон, обеспечивающая их безопасную эксплуатацию, в том числе мытье и очистку наружных поверхностей;\\n\\n3) устройства для предупреждения случайного выпадения людей из оконных проемов (в случаях, когда низ проема ниже высоты центра тяжести большинства взрослых людей);\\n\\n4) достаточное освещение путей перемещения людей и транспортных средств;\\n\\n5) размещение хорошо различимых предупреждающих знаков на прозрачных полотнах дверей и перегородках.\\n\\n6. В пешеходных зонах зданий и сооружений высотой более сорока метров должны быть предусмотрены защитные приспособления для обеспечения безопасности пребывания людей в этих зонах при действии ветра.\\n\\n7. Проектные решения зданий и сооружений в целях обеспечения доступности зданий и сооружений для инвалидов и других групп населения с ограниченными возможностями передвижения должны обеспечивать:\\n\\n1) досягаемость ими мест посещения и беспрепятственность перемещения внутри зданий и сооружений;\\n\\n2) безопасность путей движения (в том числе эвакуационных), а также мест проживания, мест обслуживания и мест приложения труда указанных групп населения.\\n\\n8. Параметры путей перемещения, оснащение специальными устройствами и размеры помещений для указанных в части 7 настоящей статьи групп населения, предусмотренные в проектной документации, должны быть обоснованы в соответствии с частью 6 статьи 15 настоящего Федерального закона.\\n\\n9. Для предотвращения получения ожогов при пользовании элементами сетей инженерно-технического обеспечения или систем инженерно-технического обеспечения в проектной документации должны быть предусмотрены:\\n\\n1) ограничение температуры поверхностей доступных частей нагревательных приборов и подающих трубопроводов отопления или устройство ограждений, препятствующих контакту людей с этими частями;\\n\\n2) ограничение температуры горячего воздуха от выпускного отверстия приборов воздушного отопления;\\n\\n3) ограничение температуры горячей воды в системе горячего водоснабжения.\\n\\n10. Для предотвращения поражения людей электрическим током проектные решения должны предусматривать меры по обеспечению безопасности электроустановок.\\n\\n11. В проектной документации должны быть предусмотрены меры по предотвращению наступления несчастных случаев и нанесения травм людям в результате взрывов, в том числе:\\n\\n1) соблюдение правил безопасности устройства систем отопления, горячего водоснабжения, газоиспользующего оборудования, дымоходов, дымовых труб, резервуаров и трубопроводов для воспламеняющихся жидкостей и газов;\\n\\n2) соблюдение правил безопасной установки теплогенераторов и установок для сжиженных газов;\\n\\n3) регулирование температуры нагревания и давления в системах горячего водоснабжения и отопления;\\n\\n4) предотвращение чрезмерного накопления взрывоопасных веществ в воздухе помещений, в том числе путем использования приборов газового контроля.\\n\\n12. Для обеспечения безопасности в аварийных ситуациях в проектной документации должно быть предусмотрено аварийное освещение.\\n\\n13. Для обеспечения защиты от несанкционированного вторжения в здания и сооружения необходимо соблюдение следующих требований:\\n\\n1) в зданиях с большим количеством посетителей (зрителей), а также в зданиях образовательных, медицинских, банковских организаций, на объектах транспортной инфраструктуры должны быть предусмотрены меры, направленные на уменьшение возможности криминальных проявлений и их последствий;\\n\\n(в ред. Федерального закона от 02.07.2013 N 185-ФЗ)\\n\\n2) в предусмотренных законодательством Российской Федерации случаях в зданиях и сооружениях должны быть устроены системы телевизионного наблюдения, системы сигнализации и другие системы, направленные на обеспечение защиты от угроз террористического характера и несанкционированного вторжения.\\n\\n14. В проектной документации жилых зданий, объектов инженерной, транспортной и социальной инфраструктур должны быть предусмотрены мероприятия по обеспечению беспрепятственного доступа инвалидов и других групп населения с ограниченными возможностями передвижения к таким объектам.\\n\\n\\n\\nСтатья 31. Требование к обеспечению энергетической эффективности зданий и сооружений\\n\\n\\n\\n1. В случае, если это предусмотрено в задании на проектирование, в проектной документации должны быть предусмотрены решения по отдельным элементам, строительным конструкциям зданий и сооружений, свойствам таких элементов и строительных конструкций, а также по используемым в зданиях и сооружениях устройствам, технологиям и материалам, позволяющие исключить нерациональный расход энергетических ресурсов в процессе эксплуатации зданий и сооружений.\\n\\n2. В случае, если это предусмотрено в задании на проектирование, в проектной документации должно быть предусмотрено оснащение зданий и сооружений приборами учета используемых энергетических ресурсов.\\n\\n3. Соответствие зданий и сооружений требованиям энергетической эффективности зданий и сооружений и требованиям оснащенности зданий и сооружений приборами учета используемых энергетических ресурсов должно обеспечиваться путем выбора в проектной документации оптимальных архитектурных, функционально-технологических, конструктивных и инженерно-технических решений.\\n\\n\\n\\nСтатья 32. Требования к обеспечению охраны окружающей среды\\n\\n\\n\\nМероприятия по охране окружающей среды, предусмотренные в проектной документации здания или сооружения в соответствии с федеральными законами и другими нормативными правовыми актами Российской Федерации, должны обеспечивать предотвращение или минимизацию оказания негативного воздействия на окружающую среду.\\n\\n\\n\\nСтатья 33. Требования к предупреждению действий, вводящих в заблуждение приобретателей\\n\\n\\n\\nВ целях предупреждения действий, вводящих в заблуждение приобретателей, в проектной документации здания или сооружения должна содержаться следующая информация:\\n\\n1) идентификационные признаки здания или сооружения в соответствии с частью 1 статьи 4 настоящего Федерального закона;\\n\\n2) срок эксплуатации здания или сооружения и их частей;\\n\\n3) показатели энергетической эффективности здания или сооружения;\\n\\n4) степень огнестойкости здания или сооружения.\\n\\n\\n\\nГлава 4. ОБЕСПЕЧЕНИЕ БЕЗОПАСНОСТИ ЗДАНИЙ И СООРУЖЕНИЙ\\n\\nВ ПРОЦЕССЕ СТРОИТЕЛЬСТВА, РЕКОНСТРУКЦИИ, КАПИТАЛЬНОГО\\n\\nИ ТЕКУЩЕГО РЕМОНТА\\n\\n\\n\\nСтатья 34. Требования к строительным материалам и изделиям, применяемым в процессе строительства зданий и сооружений\\n\\n\\n\\n1. Строительство здания или сооружения должно осуществляться с применением строительных материалов и изделий, обеспечивающих соответствие здания или сооружения требованиям настоящего Федерального закона и проектной документации.\\n\\n2. Строительные материалы и изделия должны соответствовать требованиям, установленным в соответствии с законодательством Российской Федерации о техническом регулировании.\\n\\n3. Лицо, осуществляющее строительство здания или сооружения, в соответствии с законодательством о градостроительной деятельности должно осуществлять контроль за соответствием применяемых строительных материалов и изделий, в том числе строительных материалов, производимых на территории, на которой осуществляется строительство, требованиям проектной документации в течение всего процесса строительства.\\n\\n\\n\\nСтатья 35. Требования к строительству зданий и сооружений, консервации объекта, строительство которого не завершено\\n\\n\\n\\nСтроительство, реконструкция, капитальный и текущий ремонт здания или сооружения, консервация объекта, строительство которого не завершено, должны осуществляться таким образом, чтобы негативное воздействие на окружающую среду было минимальным и не возникала угроза для жизни и здоровья граждан, имущества физических или юридических лиц, государственного или муниципального имущества, жизни и здоровья животных и растений.\\n\\n\\n\\nГлава 5. ОБЕСПЕЧЕНИЕ БЕЗОПАСНОСТИ ЗДАНИЙ И СООРУЖЕНИЙ\\n\\nВ ПРОЦЕССЕ ЭКСПЛУАТАЦИИ, ПРИ ПРЕКРАЩЕНИИ ЭКСПЛУАТАЦИИ\\n\\nИ В ПРОЦЕССЕ СНОСА (ДЕМОНТАЖА)\\n\\n\\n\\nСтатья 36. Требования к обеспечению безопасности зданий и сооружений в процессе эксплуатации\\n\\n\\n\\n1. Безопасность здания или сооружения в процессе эксплуатации должна обеспечиваться посредством технического обслуживания, периодических осмотров и контрольных проверок и (или) мониторинга состояния основания, строительных конструкций и систем инженерно-технического обеспечения, а также посредством текущих ремонтов здания или сооружения.\\n\\n2. Параметры и другие характеристики строительных конструкций и систем инженерно-технического обеспечения в процессе эксплуатации здания или сооружения должны соответствовать требованиям проектной документации. Указанное соответствие должно поддерживаться посредством технического обслуживания и подтверждаться в ходе периодических осмотров и контрольных проверок и (или) мониторинга состояния основания, строительных конструкций и систем инженерно-технического обеспечения, проводимых в соответствии с законодательством Российской Федерации.\\n\\n3. Эксплуатация зданий и сооружений должна быть организована таким образом, чтобы обеспечивалось соответствие зданий и сооружений требованиям энергетической эффективности зданий и сооружений и требованиям оснащенности зданий и сооружений приборами учета используемых энергетических ресурсов в течение всего срока эксплуатации зданий и сооружений.\\n\\n\\n\\nСтатья 37. Требования к обеспечению безопасности зданий и сооружений при прекращении эксплуатации и в процессе сноса (демонтажа)\\n\\n\\n\\n1. При прекращении эксплуатации здания или сооружения собственник здания или сооружения должен принять меры, предупреждающие причинение вреда населению и окружающей среде, в том числе меры, препятствующие несанкционированному доступу людей в здание или сооружение, а также осуществить мероприятия по утилизации строительного мусора.\\n\\n2. Безопасность технических решений по сносу (демонтажу) здания или сооружения с использованием взрывов, сжигания или иных опасных методов должна быть обоснована одним из способов, указанных в части 6 статьи 15 настоящего Федерального закона.\\n\\n\\n\\nГлава 6. ОЦЕНКА СООТВЕТСТВИЯ ЗДАНИЙ И СООРУЖЕНИЙ,\\n\\nА ТАКЖЕ СВЯЗАННЫХ СО ЗДАНИЯМИ И С СООРУЖЕНИЯМИ ПРОЦЕССОВ\\n\\nПРОЕКТИРОВАНИЯ (ВКЛЮЧАЯ ИЗЫСКАНИЯ), СТРОИТЕЛЬСТВА, МОНТАЖА,\\n\\nНАЛАДКИ, ЭКСПЛУАТАЦИИ И УТИЛИЗАЦИИ (СНОСА)\\n\\n\\n\\nСтатья 38. Общие положения об оценке соответствия зданий и сооружений, а также связанных со зданиями и с сооружениями процессов проектирования (включая изыскания), строительства, монтажа, наладки, эксплуатации и утилизации (сноса)\\n\\n\\n\\n1. Оценка соответствия зданий и сооружений, а также связанных со зданиями и с сооружениями процессов проектирования (включая изыскания), строительства, монтажа, наладки, эксплуатации и утилизации (сноса) осуществляется в целях:\\n\\n1) удостоверения соответствия результатов инженерных изысканий требованиям настоящего Федерального закона;\\n\\n2) удостоверения соответствия характеристик здания или сооружения, установленных в проектной документации, требованиям настоящего Федерального закона перед началом строительства здания или сооружения;\\n\\n3) удостоверения соответствия характеристик здания или сооружения, строительство которых завершено, требованиям настоящего Федерального закона перед вводом здания или сооружения в эксплуатацию;\\n\\n4) периодического удостоверения соответствия характеристик эксплуатируемого здания или сооружения требованиям настоящего Федерального закона и проектной документации для подтверждения возможности дальнейшей эксплуатации здания или сооружения.\\n\\n2. Оценкой соответствия результатов инженерных изысканий должно определяться соответствие таких результатов требованиям настоящего Федерального закона.\\n\\n3. Оценкой соответствия проектной документации должно определяться соответствие проектной документации требованиям настоящего Федерального закона и результатам инженерных изысканий.\\n\\n4. Оценкой соответствия здания или сооружения в процессе строительства и при его окончании должно определяться соответствие выполняемых работ в процессе строительства, результатов их выполнения и применяемых строительных материалов и изделий требованиям настоящего Федерального закона и проектной документации.\\n\\n5. Оценкой соответствия здания или сооружения в процессе эксплуатации должно определяться соответствие здания или сооружения требованиям настоящего Федерального закона и проектной документации.\\n\\n\\n\\nСтатья 39. Правила обязательной оценки соответствия зданий и сооружений, а также связанных со зданиями и с сооружениями процессов проектирования (включая изыскания), строительства, монтажа, наладки и утилизации (сноса)\\n\\n\\n\\n1. Обязательная оценка соответствия зданий и сооружений, а также связанных со зданиями и с сооружениями процессов проектирования (включая изыскания), строительства, монтажа, наладки и утилизации (сноса) осуществляется в форме:\\n\\n1) заявления о соответствии проектной документации требованиям настоящего Федерального закона;\\n\\n2) государственной экспертизы результатов инженерных изысканий и проектной документации;\\n\\n3) строительного контроля;\\n\\n4) государственного строительного надзора;\\n\\n5) заявления о соответствии построенного, реконструированного или отремонтированного здания или сооружения проектной документации;\\n\\n6) заявления о соответствии построенного, реконструированного или отремонтированного здания или сооружения требованиям настоящего Федерального закона;\\n\\n7) ввода объекта в эксплуатацию.\\n\\n2. Обязательная оценка соответствия зданий и сооружений, а также связанных со зданиями и с сооружениями процессов проектирования (включая изыскания) в форме, указанной в пункте 1 части 1 настоящей статьи, осуществляется лицом, подготовившим проектную документацию, путем составления заверения о том, что проектная документация разработана в соответствии с заданием на проектирование и требованиями настоящего Федерального закона.\\n\\n3. Обязательная оценка соответствия зданий и сооружений, а также связанных со зданиями и с сооружениями процессов проектирования (включая изыскания), строительства, монтажа, наладки и утилизации (сноса) в формах, указанных в пунктах 2 и 4 части 1 настоящей статьи, осуществляется только в случаях, предусмотренных законодательством о градостроительной деятельности.\\n\\n4. Обязательная оценка соответствия зданий и сооружений, а также связанных со зданиями и с сооружениями процессов строительства, монтажа, наладки в форме, предусмотренной пунктом 5 части 1 настоящей статьи, осуществляется лицом, осуществившим строительство (лицом, осуществившим строительство, и застройщиком (заказчиком) в случае осуществления строительства на основании договора), путем подписания документа, подтверждающего соответствие построенного, реконструированного или отремонтированного здания или сооружения проектной документации. Оценка соответствия зданий и сооружений, а также связанных со зданиями и с сооружениями процессов строительства, монтажа, наладки в указанной форме не осуществляется в отношении объектов индивидуального жилищного строительства.\\n\\n5. Обязательная оценка соответствия зданий и сооружений, а также связанных со зданиями и с сооружениями процессов строительства, монтажа, наладки в форме, предусмотренной пунктом 6 части 1 настоящей статьи, осуществляется лицом, осуществившим строительство, путем подписания документа, подтверждающего соответствие построенного, реконструированного или отремонтированного здания или сооружения требованиям настоящего Федерального закона.\\n\\n6. Оценка соответствия зданий и сооружений, а также связанных со зданиями и с сооружениями процессов проектирования (включая изыскания) в форме, указанной в пункте 1 части 1 настоящей статьи, осуществляется до утверждения проектной документации в соответствии с законодательством о градостроительной деятельности.\\n\\n7. Оценка соответствия зданий и сооружений, а также связанных со зданиями и с сооружениями процессов проектирования (включая изыскания), строительства, монтажа, наладки и утилизации (сноса) в формах, указанных в пунктах 2 - 4 и 7 части 1 настоящей статьи, осуществляется в соответствии с правилами и в сроки, которые установлены законодательством о градостроительной деятельности.\\n\\n8. Оценка соответствия зданий и сооружений, а также связанных со зданиями и с сооружениями процессов строительства, монтажа, наладки и утилизации (сноса) в формах, указанных в пунктах 5 и 6 части 1 настоящей статьи, осуществляется после окончания строительства, реконструкции, капитального ремонта здания или сооружения до ввода здания или сооружения в эксплуатацию.\\n\\n\\n\\nСтатья 40. Правила обязательной оценки соответствия зданий и сооружений, а также связанных со зданиями и с сооружениями процессов эксплуатации\\n\\n\\n\\n1. Обязательная оценка соответствия зданий и сооружений, а также связанных со зданиями и с сооружениями процессов эксплуатации требованиям настоящего Федерального закона и требованиям, установленным в проектной документации, осуществляется в форме:\\n\\n1) эксплуатационного контроля;\\n\\n2) государственного контроля (надзора).\\n\\n2. Оценка соответствия зданий и сооружений, а также связанных со зданиями и с сооружениями процессов эксплуатации в форме эксплуатационного контроля осуществляется лицом, ответственным за эксплуатацию здания или сооружения, в соответствии с законодательством Российской Федерации.\\n\\n3. Оценка соответствия зданий и сооружений, а также связанных со зданиями и с сооружениями процессов эксплуатации в форме государственного контроля (надзора) осуществляется уполномоченными федеральными органами исполнительной власти, органами исполнительной власти субъектов Российской Федерации в случаях и в порядке, которые установлены федеральными законами.\\n\\n\\n\\nСтатья 41. Правила добровольной оценки соответствия зданий и сооружений, а также связанных со зданиями и с сооружениями процессов проектирования (включая изыскания), строительства, монтажа, наладки, эксплуатации и утилизации (сноса)\\n\\n\\n\\n1. Добровольная оценка соответствия зданий и сооружений, а также связанных со зданиями и с сооружениями процессов проектирования (включая изыскания), строительства, монтажа, наладки, эксплуатации и утилизации (сноса) осуществляется в форме негосударственной экспертизы результатов инженерных изысканий и проектной документации, авторского надзора, обследования зданий и сооружений, состояния их оснований, строительных конструкций и систем инженерно-технического обеспечения и в иных формах, предусмотренных законодательством Российской Федерации.\\n\\n2. Добровольная оценка соответствия зданий и сооружений, а также связанных со зданиями и с сооружениями процессов проектирования (включая изыскания), строительства, монтажа, наладки, эксплуатации и утилизации (сноса) осуществляется в порядке, установленном законодательством Российской Федерации.\\n\\n\\n\\nГлава 7. ЗАКЛЮЧИТЕЛЬНЫЕ ПОЛОЖЕНИЯ\\n\\n\\n\\nСтатья 42. Заключительные положения\\n\\n\\n\\n1. Требования к зданиям и сооружениям, а также к связанным со зданиями и с сооружениями процессам проектирования (включая изыскания), строительства, монтажа, наладки, эксплуатации и утилизации (сноса), установленные настоящим Федеральным законом, не применяются вплоть до реконструкции или капитального ремонта здания или сооружения к следующим зданиям и сооружениям:\\n\\n1) к зданиям и сооружениям, введенным в эксплуатацию до вступления в силу таких требований;\\n\\n2) к зданиям и сооружениям, строительство, реконструкция и капитальный ремонт которых осуществляются в соответствии с проектной документацией, утвержденной или направленной на государственную экспертизу до вступления в силу таких требований;\\n\\n3) к зданиям и сооружениям, проектная документация которых не подлежит государственной экспертизе и заявление о выдаче разрешения на строительство которых подано до вступления в силу таких требований.\\n\\n2. В целях настоящего Федерального закона строительные нормы и правила, утвержденные до дня вступления в силу настоящего Федерального закона, признаются сводами правил.\\n\\n3. Правительство Российской Федерации не позднее чем за тридцать дней до дня вступления в силу настоящего Федерального закона утверждает перечень национальных стандартов и сводов правил, в результате применения которых на обязательной основе обеспечивается соблюдение требований настоящего Федерального закона.\\n\\n4. Национальный орган Российской Федерации по стандартизации не позднее чем за тридцать дней до дня вступления в силу настоящего Федерального закона утверждает, опубликовывает и размещает в соответствии с частью 7 статьи 6 настоящего Федерального закона перечень документов в области стандартизации, в результате применения которых на добровольной основе обеспечивается соблюдение требований настоящего Федерального закона.\\n\\n5. Уполномоченный федеральный орган исполнительной власти не позднее 1 июля 2012 года осуществляет актуализацию строительных норм и правил, признаваемых в соответствии с настоящим Федеральным законом сводами правил и включенных в утверждаемый Правительством Российской Федерации и указанный в части 1 статьи 6 настоящего Федерального закона перечень национальных стандартов и сводов правил.\\n\\n\\n\\nСтатья 43. О внесении изменения в Федеральный закон \"О техническом регулировании\"\\n\\n\\n\\nГлаву 1 Федерального закона от 27 декабря 2002 года N 184-ФЗ \"О техническом регулировании\" (Собрание законодательства Российской Федерации, 2002, N 52, ст. 5140; 2007, N 19, ст. 2293; N 49, ст. 6070; 2009, N 29, ст. 3626) дополнить статьей 5.1 следующего содержания:\\n\\n\\n\\n\"Статья 5.1. Особенности технического регулирования в области обеспечения безопасности зданий и сооружений\\n\\n\\n\\nОсобенности технического регулирования в области обеспечения безопасности зданий и сооружений устанавливаются Федеральным законом \"Технический регламент о безопасности зданий и сооружений\".\".\\n\\n\\n\\nСтатья 44. Вступление в силу настоящего Федерального закона\\n\\n\\n\\n1. Настоящий Федеральный закон вступает в силу по истечении шести месяцев со дня его официального опубликования, за исключением статьи 43 настоящего Федерального закона.\\n\\n2. Статья 43 настоящего Федерального закона вступает в силу со дня официального опубликования настоящего Федерального закона.\\n\\n\\n\\nПрезидент\\n\\nРоссийской Федерации\\n\\nД.МЕДВЕДЕВ\\n\\nМосква, Кремль\\n\\n30 декабря 2009 года\\n\\nN 384-ФЗ\\n\\n\\n\\n\\n\\n\\n\\n\\n\\nКонсультантПлюс\\nнадежная правовая поддержка\\n\\nwww.consultant.ru\\n\\nСтраница 2 из 3')]"
      ]
     },
     "execution_count": 46,
     "metadata": {},
     "output_type": "execute_result"
    }
   ],
   "source": [
    "# Проверочный код для DOCX\n",
    "\n",
    "current_path = '/srv/norma_ai/norma_ai_project/data/9. ФЗ 384 О безопасности зданий и сооружений.docx'\n",
    "\n",
    "Docx2txtLoader(current_path).load()"
   ]
  },
  {
   "cell_type": "code",
   "execution_count": 52,
   "id": "72316cf7",
   "metadata": {},
   "outputs": [],
   "source": [
    "# Чанкинг под регламенты (чуть крупнее блоки)\n",
    "splitter = RecursiveCharacterTextSplitter(chunk_size=1500, chunk_overlap=200)\n",
    "docs = splitter.split_documents(loaded_docs)"
   ]
  },
  {
   "cell_type": "code",
   "execution_count": 53,
   "id": "ba62d673",
   "metadata": {},
   "outputs": [],
   "source": [
    "# (опционально) добавить базовые метаданные\n",
    "for d in docs:\n",
    "    d.metadata.setdefault(\"source\", d.metadata.get(\"source\") or \"local\")\n",
    "\n",
    "# Индексация в ту же коллекцию:\n",
    "# vs = QdrantVectorStore(\n",
    "#     client=client,\n",
    "#     collection_name=\"norma_ai_collection\",\n",
    "#     embedding=embeddings_model\n",
    "#     ).add_documents(docs)\n",
    "\n",
    "vs = QdrantVectorStore(\n",
    "    client=client,  # твой embedded Qdrant\n",
    "    collection_name=\"norma_ai_collection\",\n",
    "    embedding=embeddings_model,\n",
    ")\n"
   ]
  },
  {
   "cell_type": "code",
   "execution_count": null,
   "id": "dbb82b02",
   "metadata": {},
   "outputs": [],
   "source": [
    "# Индексация в ту же коллекцию:\n",
    "# vs = QdrantVectorStore(\n",
    "#     client=client,\n",
    "#     collection_name=\"norma_ai_collection\",\n",
    "#     embedding=embeddings_model\n",
    "#     ).add_documents(docs)\n",
    "\n",
    "vs = QdrantVectorStore(\n",
    "    client=client, \n",
    "    collection_name=\"norma_ai_collection_ru-en-RoSBERTa\",\n",
    "    embedding=embeddings_model_2,\n",
    ")\n"
   ]
  },
  {
   "cell_type": "code",
   "execution_count": 108,
   "id": "5eef1d73",
   "metadata": {},
   "outputs": [
    {
     "data": {
      "text/plain": [
       "['b498f2a3551242b5a1faa23cf66a008b',\n",
       " 'c22c24ba32aa4634a672eb02ccedef6d',\n",
       " '20e28a9caa5844d9bd382968bc81f515',\n",
       " '8308d3da7f10418cbf3e35e5fe2948d8',\n",
       " '9d4d73c60bee42f0b59c59ecee317c94',\n",
       " '0fa89e4723784dbebf10eebdc78e8ce6',\n",
       " '852587e5d6434f7d8ff0b3ad3999eb2a',\n",
       " 'dbfade332ce340cb893ddb65d55a1d84',\n",
       " '4e6913a3c99049bf82da68aa38689c41',\n",
       " '45d6156d4fec4a1da2151a0095120254',\n",
       " '35dbf31888184283880180cd2e96574f',\n",
       " '655f6b0bcbf84b5c84abb6bfbf5d9a52',\n",
       " 'ae010143157f49978c6eb2c00e681d9c',\n",
       " '10522d8945dc48f4abbf0277392f02eb',\n",
       " 'b7a61b754f9c4756b8ad02af0a5b848b',\n",
       " 'cfc8f4cab66b4ff5b1da6dde84f1fd58',\n",
       " 'fd73c1c3cec54ed7815b68502b0486d6',\n",
       " '64947e2142d5492d8928b7e7050c6d4a',\n",
       " 'df63ae6e9f8b4a8389e6546ba82bb8e1',\n",
       " '16ba5613c35a4c7ea9531c462888b8af',\n",
       " 'a7321c504bb441e7bae22fe17601e5e5',\n",
       " 'a7f42743360442c486a76944d3431dd7',\n",
       " '3c730e22bb06418d9ca05179a6b21f92',\n",
       " '1f51dbae03b7464da8b21774507705b1',\n",
       " '2c6d890dad004f28948fc6d17f2059ce',\n",
       " '20cd3cc3039f454689efc49b4617cc41',\n",
       " '3f9355b11f3b4268970bb8e5dc157a99',\n",
       " '98cbd353c8ce49c7868ea0f77692addf',\n",
       " 'ae5c953eec374c0285972c9b7c8ae56a',\n",
       " '41889ed7603e4c28a7839306d066da20',\n",
       " '0183934e97cb443ca5bf77b89ba8d231',\n",
       " '0266515fb8fa474c8d5b608ab7ce68ac',\n",
       " '1849f1d948bf426ca2eff4bf96625956',\n",
       " 'cc8c255466f44c30aa0da184f8e0689c',\n",
       " 'bdfd3041c17e4d5b9f114b5f1dad9e7b',\n",
       " '219302442b53466e823df96a98ca0cec',\n",
       " 'b19799377eed4e01a6e73ffa18696524',\n",
       " 'fc09809c7f66470ea2eaea46ac591534',\n",
       " '6d7dbe5e872e4d8288ffdd051010d1e6',\n",
       " 'cbb6ab62c91045ab8aa45237fb5ab1c9',\n",
       " 'b16d4f7b576d468189ce236f0795e976',\n",
       " '0e0f6b616a51490d9b388976821a78e4',\n",
       " 'f10dcdd363794544af3b244596e16396',\n",
       " '1d8da76ac02c46548252ec5c76ef4e84',\n",
       " 'f77b3730a4d94261bc9732995c35ec45',\n",
       " 'be42a0ad59a9439ba387dc6bb87b42fb',\n",
       " '81cab5ea505f41ca8a5ec3c1167eef39',\n",
       " 'f36a9e790103444d9df900337728401b',\n",
       " '22b2c9122d24448f81374071c192875b',\n",
       " '2eda6d1dd9d04a85beb53b0332a1b0d1',\n",
       " '09dde0fa733941b483e66ed52d9e211f',\n",
       " '16210b9deca04ebcabecad50feec0743',\n",
       " '37c0d1c0c73042bd932cff6fff471a95',\n",
       " '0f2cc63b476e439d9410afb59ba93dfe',\n",
       " 'c7cf2a5095cd4cbaac0334edc26fa517',\n",
       " '3d5086accced4a17b97314477812eda3',\n",
       " '94c4e81da3a348b49d349c8c4836ca0e',\n",
       " '39f4559182e74b829f5a3863b14fb3c8',\n",
       " 'e2e34ab3d0ba45be9f23cb2754477a4a',\n",
       " '7beb3c18bb034ebc9c727b69cfe82639',\n",
       " 'b61525038d8e4d6a98dc2816886bb71c',\n",
       " '018b9ef9138c4983b3d054c502b4834c',\n",
       " '6ce222950a1a4d4da69f966084d723b6',\n",
       " 'f5142c633e004c6488e0c3cfbee79b4a',\n",
       " 'f8cf5568c26746efa27415db5377b7d2',\n",
       " '0af342fff0aa403c9d32c8a9497b8e16',\n",
       " '6014267a40a5426c92015e484add9b1a',\n",
       " 'eda164d1f0f641d38d98d27be4c950c0',\n",
       " '5141f4d065964722a05f9da382ddef43',\n",
       " '093e7781009e46688a40a2389378196f',\n",
       " 'e5755d0f656b4076bd23963bae986e67',\n",
       " '3037e35290d744dcaea8727235fa782b',\n",
       " '69cd4365e8ff4095b699458715605905',\n",
       " '514e46612be345ad8a598d7c6be0ebf0',\n",
       " '70e9f5d2e266437ca436b614b08760fd',\n",
       " 'd815513c5bb84903a4634cbd66dc6db9',\n",
       " '36107301cedd4df08c0819175092bdef',\n",
       " '227fe76e09f3448282d9c35bc7e0f603',\n",
       " 'a33ce294c4fe489a8a25c22841891bfb',\n",
       " 'c51176d0b3514f19a55b9d809310f4c5',\n",
       " '204d9eb571104d1ca0e6680d9d52fb6c',\n",
       " '48e3f02906ec4f9eb86cf42b368a0ad7',\n",
       " 'b43f2f477a6b49d8b8b0386729842f43',\n",
       " '818991b19b2b494dbf54e36a9347737a',\n",
       " '33c839c87a8d41df8970344f5841c67b',\n",
       " 'a03f725c983348f983421f7fbeae1956',\n",
       " 'ba6095fc62264958828d32e9eb0be530',\n",
       " '5347be93ab4a4f30895d2acc6f820448',\n",
       " 'a6c2cd11add24e9bb806127e9a7c28b5',\n",
       " '8d052df518ca462db9e3051bf0ca79c9',\n",
       " 'a29065cdfca14b86a75556167c98f350',\n",
       " '55a78c25b5d64e00a022ea694cbd09ed',\n",
       " '3a6c76d5fb5548c48099d7bfb33a74d3',\n",
       " '67b921a21a2c44f6b1341219ff4f5c3d',\n",
       " 'a23337f9e75b41aa847741e112dd81ae',\n",
       " '294f1255e52e41f886a2ee7ec30d68f5',\n",
       " '11460a728bf74e6a9343095f5c6798da',\n",
       " '01685b99bb5f4f31847111a607f43033',\n",
       " 'ca2e067fb6444abd83ed09161e2b2d06',\n",
       " '4d350670370143c9bd07137fb782d9aa',\n",
       " '2d37b6451ecd44878e6dadd6ea22da5a',\n",
       " '72f87eade8e14030b048ac04c44184ba',\n",
       " 'e88933959e8643818bda995759276b93',\n",
       " 'a2e8e948bd334f5cb6646408808b796a',\n",
       " 'a1f097248b394ee2a5d6acc96e745f55',\n",
       " '7443f65d641b4ede97ce11b7f5174941',\n",
       " 'f5313b28164640b98b5707b70689cef7',\n",
       " 'f65eefaba8e1425d9ba319e689ed5ca9',\n",
       " '7690723ba08e4327bb79a8661c40f16d',\n",
       " '53a185e316bf4618a048f387885096d6',\n",
       " 'a845cf12054d4eecbd93d4209258aaa4',\n",
       " '4452a47cc4dc45fc876b99ff5163821c',\n",
       " 'a5b5059f7f5649b1bb91311b561b9d3a',\n",
       " '45b81d2105944638bff64ee75e9fea8a',\n",
       " '237b971f01eb4d4b9c7b6fb1f8a73916',\n",
       " 'c4670e7dd9d04b8ebf85092a1d88e5ba',\n",
       " '3ab62726eac646c39094e24668534abb',\n",
       " '663e7b70133e4ac180248f6e8bb88274',\n",
       " '113252ceb67e45be89bd13929034f4a9',\n",
       " 'd76e01531399499388b55a55552191c3',\n",
       " 'a0619bf732c047dea94eb5ce19907929',\n",
       " '321ba4333500490ea53fcb8595114faf',\n",
       " 'f6a76ec9f5604e2abcc4e067d999dec3',\n",
       " 'f661a0103ee84a30857dd24b8664fe0a',\n",
       " '8630e5d7669848f0bba9d2a5516361c0',\n",
       " '11a0a53b8cc24874b2c9b1c3b2819daf',\n",
       " 'e069527d15bb4762a8b7a589460282a1',\n",
       " '9c888f318c2e43f28e208c7e4ab2512b',\n",
       " '241e76d2b11c4bf8a9ce6411df82e700',\n",
       " '114529e88e4c45d6a4c274b97347faf5',\n",
       " 'dfaa1faafc404b5cbea6445dc6921a40',\n",
       " 'd43462f08d8440b7b1aa7f34f49d0871',\n",
       " 'c1e14cb43a5c4498892d09b8ff2be54d',\n",
       " 'a1d57f19d87e4a57a92e5e6d78f06a70',\n",
       " 'c457f8c8c5334598ba1f313ae76e2354',\n",
       " 'ef9dfe6bacd949eb9aa11824dfbf1b0f',\n",
       " 'f4f9b4174f6e4266be410cc3bc483fc0',\n",
       " 'b2bae3de67a644278e66b2884e4f3d0b',\n",
       " '0a14a4bbbe4443a9aa1170919efd7cd0',\n",
       " 'e6b77333ea6f4ee19abf6254f2c59af3',\n",
       " '88e0d49676484d6197416652f119d159',\n",
       " 'e10bdaab9aa74eacb08d0742224123cc',\n",
       " 'c487415aaa81426aa88b337838db4d84',\n",
       " '799f7c58231d47a1bcb6c32df9b26ae4',\n",
       " '55ea3656357e49459c3f7d5f3ab5f174',\n",
       " 'ef9012bc477c43f1980da2de65000333',\n",
       " 'e33ed41e9a1f45c7b3ae134e75364b15',\n",
       " '40a4096fb0c84df890d134d71a278ea2',\n",
       " 'e24f308f4e3f4ae3b5c760a2c656d82e',\n",
       " '454f794e8200444bbf14b37dac412c1b',\n",
       " '5ce3ed07ea904a7982d7baf617904518',\n",
       " '44158bc1a3ee4c7e87c5d7da3bfc2c9d',\n",
       " '75ea328221824b8eb006372dee362015',\n",
       " '8caf010aa14b489198e8a0186e1f2676',\n",
       " '93343d6f58fa4b618143de1efc963b90',\n",
       " '6ff7dd19b8894a398a15bf229816692d',\n",
       " '229fe9f185d44acda2df814405b99236',\n",
       " '4038318e35264a358e57e32e2fe86aab',\n",
       " '3c48644ed64148a1b060e6d8e6a3e4af',\n",
       " 'ea18b0ccd94a45c5b19d7890949d9180',\n",
       " 'b6c7033b8d3e4389be949af0a57ca7ac',\n",
       " '5c6e024b46834be18beed52465b20a40',\n",
       " '1a1b73d9bdc747d5b8a8a3d992d11b76',\n",
       " 'b3ba7c1fb4df4ff483932c4f5fd31fd3',\n",
       " '3bb78dc4dcc9447e9ae23fe01988fb1e',\n",
       " '055d28c9e6aa449e97b45d73dab44c7c',\n",
       " '875243fbfe2f464fb38e2eda4b6d4095',\n",
       " 'af208b2b58b64fd99b0e9640b06d9ca2',\n",
       " '28c176c125734d29a4287fe98ffc425c',\n",
       " '155cfe095c8247fdb11772928819d4b1',\n",
       " 'cbe1f2c882e346fcb006cf9f7fc5062b',\n",
       " '7ea3406cd88341f29d48baa1e1b25016',\n",
       " '12d1aaa0ebb84390bba60851731a5c61',\n",
       " 'f6037048cae3467ab472ee6a134ac5ff',\n",
       " 'd5cb4ab0879646fe9ac46755eaf3e893',\n",
       " '2781cd5cf7134a7daa301311f47d5624',\n",
       " '8905e1fcd3884ff7beaf3e75b1d643ba',\n",
       " '717785e3371244f5865bb043bc5973bd',\n",
       " '110f500e7a664593aee62fb8eca89279',\n",
       " '0d4c0ee7751b452f9a8e6670f39a644a',\n",
       " '5a6b380a6e924584ab12714c7f081829',\n",
       " '3290b4c610044a9e8fff619603c04a21',\n",
       " '0bbed60880994bc58406b7a909cc81f0',\n",
       " 'e601443427bc4befb6aab9e1d32947f8',\n",
       " '373122c683c54d2bbdbdb773fd06af11',\n",
       " '967c223523f24db391d12ee559e8d8c2',\n",
       " '0384e7639c864b87b3e22c006792159f',\n",
       " '5b88b25f70a14bc7ad042865a7a58c3a',\n",
       " 'de0e99e7e9614052b62db050ed5a14ea',\n",
       " '73dcc358e0f64bb091c612ebff13bf69',\n",
       " '84e7c2158cee406f88bda8d1117d770c',\n",
       " 'b63a0660265c4f39971846bf13d23d97',\n",
       " 'edde9bb221014741b86ec2d5ef09b64e',\n",
       " '99cb76b585ad45b8842c8875f5e246af',\n",
       " '3c7aacbc9dc84c4faae5e26de08a0780',\n",
       " 'c7900331cbba47ea95152307588a5e17',\n",
       " 'f7954f9193844087bdb88da02d0d578c',\n",
       " 'dca0635bb84e401c8c60a8ab9a044803',\n",
       " '5864b10bf2224b82a569d848a4498f6f',\n",
       " 'd1c92fd53c934fefa458d27bd30857d2',\n",
       " '22e311073d214bfc939c446dc2c848f9',\n",
       " 'c24c3706adeb41beaad638ae28788812',\n",
       " '7c4ba4d678bf4143a2faf267831cf63e',\n",
       " '47377d15282846fc86fc84439ae9782b',\n",
       " '35380be1ec374bedb269656584e86b20',\n",
       " 'ffe0f99008b6413ab86e827fee84d3f4',\n",
       " '15cfc52c333149f09b270c6e05c38296',\n",
       " '16ce522b468e43ea84ef796d1ab44815',\n",
       " '2cbbd008030842bf91136c0bfb26488e',\n",
       " 'd8fa70fb8db34a2f860e7d6b6f27558e',\n",
       " 'b4bd39d4a0424e1a9dd6fdfa8b56422a',\n",
       " '71c1eec5e8a24df68a42f1dc930576ea',\n",
       " '288b72fb1d794fdbaf6ac3b4f7e69a82',\n",
       " '8f66f4fc7b4e47baa0072b3887ba4d6d',\n",
       " 'e0da7156de0241f4ac0a711964fd7a70',\n",
       " '17f3a646c24149cea19caca21409c1d4',\n",
       " '37fcc2bedb1548efbaf5e6b69e40a6b6',\n",
       " 'c85c105e7a8f4126911e2e20f0642381',\n",
       " 'f907073c987b4dfba2b2fe9a013b77d4',\n",
       " '185f948b51af4b05a49c7955b3e34a4b',\n",
       " 'ffa8bc0b4aa64e0e8408b925223c7d1d',\n",
       " 'd222562a79624dfa9e9aca5c46981312',\n",
       " '48cf7fcfc3d442ce9b4f726e4efecc1e',\n",
       " '6a8b4c08f5a14abcbc6c721c42dd50d1',\n",
       " '4c2f17b89c5847b8a2fe3e5cbaf40bf2',\n",
       " '982f3fe4d45b4f36b81fed636722d9c3',\n",
       " '4a1ce1593f4948e0a01325139df535e3',\n",
       " '53d9bcdccf8c4eb5af4c85b62d169dce',\n",
       " '90030ee8b1a94a1c8284f6633b3edd02',\n",
       " 'f9dbd51d6048474e883eb0342d7d5ab1',\n",
       " 'ad096e9d85bb4014be6efa90d45615dc',\n",
       " 'b67110bd100e40c4be486cf685f7dde9',\n",
       " '64c12df7b4464b37a9dea9ae42a06140',\n",
       " '4619fa4816cb4afaa59bfc36cb18a136',\n",
       " 'd374a0a351bd4c2b819a152efda8e717',\n",
       " '6526f3a5e0224f4fb49553d801e7a10b',\n",
       " 'b9a3369242834893b5c66436326857b3',\n",
       " 'a7c7d10e275f4bd4a1473dbc59d0bdce',\n",
       " 'fe2a63cd7d9b4d01a07a5210787f0219',\n",
       " '098f88b2fa994b5fb85b80a11dba129f',\n",
       " 'fae532d8de3d40e78aea1663db8d1a00',\n",
       " '7ea79fe7c9f6496c8df45c3b836507d1',\n",
       " '720d4f9e0dcd4791b9949e2893ccd6ae',\n",
       " '72e70f8f54b545f2829f9ceb91022dcf',\n",
       " '55df4ab98c304c458fbaf5890d381afe',\n",
       " 'bc475bceaade4a59b9ffcf1c58c38f3b',\n",
       " '88460e0da4234bdebc15b6d3db65b3a2',\n",
       " 'fed9c548a28649039a3142022f496fc2',\n",
       " 'fc1977b8e72d4b4fae3237e6a1e05ae6',\n",
       " 'af281d802474494796c18c72a72ec472',\n",
       " 'd44d1363b35c45f0b0ba6ff3b4d49a18',\n",
       " '68b86b802142401db173573e15876cbc',\n",
       " '900fc0d15ed840c9b4a426d7df23a20d',\n",
       " '1eb0d1e18b534d5ca72649cb7bfec877',\n",
       " '4675dbd915e84ee896e12782b76c3771',\n",
       " 'f1982da2d28d44b5accb74883036f73d',\n",
       " '8a166380bf5e47368891e3da56f62f42',\n",
       " '9d22c1f2449a4827b21e11c6454996d3',\n",
       " 'ecd9e7a2355e405191f48d87cef13f06',\n",
       " '852ecd561e004ad7ab62ab0de18babb3',\n",
       " 'c16f57b2bd8b4f08b7bc80eed319b745',\n",
       " '20a253f36d5f4e2481553d0c2260d3b9',\n",
       " 'cd52c0ef58cc4adfb09e8fe51ee5b218',\n",
       " '6b97e96e8bb348ab8db60515d5534450',\n",
       " 'd38a1e7b33b54568b8c540f7458e6318',\n",
       " '3c1d5dd2be9d4954a80b65cf525e1ffd',\n",
       " '55f07a5fdbc142ed999b0e2390b44ea0',\n",
       " '64bab8f4df4a4539991c155c23162c3e',\n",
       " '7159aa38fe3c4488a2de7a17e2682684',\n",
       " 'cfa3e8ed6d52425b801c5745f8436ca2',\n",
       " 'd90e809773c448508ac815668192366b',\n",
       " '88d149860eed40879612618ac39736f0',\n",
       " '68d6c2086d5944f0808d132686d55f97',\n",
       " '91138c7204444107b731588b16b4df8c',\n",
       " '9f6c3c06a03f4f4287be39f3f2c338a0',\n",
       " 'e5e7f28051d34e87ad25a7d9f1a09c15',\n",
       " 'f10b8fbf9c9f4b4984a6a2fe536712b5',\n",
       " '0cda8673130b4fddb22059ea11ad7988',\n",
       " '4801661fa9764b1d876faac8670f1bdd',\n",
       " 'bbc13fc571f94cfe80c3050275cf3e45',\n",
       " 'b3da46560f654fc08802c0797fbfa555',\n",
       " 'b6d58b8fefb64b8f9f263d477fa4a9fd',\n",
       " '05d603616ee94456ab8148cac857aa70',\n",
       " '3cba582606c742aaa74b8ad06cccfd27',\n",
       " '3cfa31c016704352a0ddec37e78c7b8e',\n",
       " '895ce712c69a4da08c7cea7da3d8237a',\n",
       " '51a7f3bee2d94aa7a0d888eb41510c87',\n",
       " '3500376ac7684fdeb2d0f9d7ec65d33d',\n",
       " 'a60906d03d954cec93710ca2a9f8752a',\n",
       " '123973d46d204e4295bf7a2537cd7a9a',\n",
       " '789454fe3c0b48229caec9143b034a17',\n",
       " 'd63f205dd1c14aa4a9afd055ca6df554',\n",
       " '447f77c866d44182bf207283b02af7f8',\n",
       " '77aac69df0c94223a6c5167170194cfd',\n",
       " '0cf7a3ebba5349dd8223633df475efee',\n",
       " 'd448b348ba50462a8f217eded5b600c1',\n",
       " 'fd6337e6934c4446b1cbc2e004f492bd',\n",
       " '8bae76a392da4114b924ed46885c7ccc',\n",
       " '3170dba3c1e24ea09a688bf29d72cac9',\n",
       " 'e280337996fc4723906a0274b1c764bd',\n",
       " '7e65faa6874943718fb002604e46960b',\n",
       " 'e7136c48eef2469bac022e7b696ab724',\n",
       " '60461a337eec4fe2a005e26162613936',\n",
       " '7571448131a34a35bcaf3c3f75a73d24',\n",
       " 'bf8144432b854da4888c3338c30d545a',\n",
       " '134d167bf6ca425f91b64bfad01c558a',\n",
       " '9020ad46c5ee4f3391cdcce594ed4223',\n",
       " '4826d64568b240c388e29e1254590c86',\n",
       " '7b40cfa6033a4f98b096b77427605922',\n",
       " 'de3088e17b9d42339d07ee4e1c868b0c',\n",
       " '57a846898e4b4a528170339653f1d002',\n",
       " '22b9c768e2af443c9927733cc4798fc6',\n",
       " '2761aced947c4798a63aced7360087db',\n",
       " 'ce4edb44ae294c2eb89a118d56a2c54d',\n",
       " '896a61b691ab4f9f97b14586437ea2b2',\n",
       " '960c581d33444856b3933ae29d443edc',\n",
       " '1bac7e87d1cd467f8ea9d47dbe14d7dc',\n",
       " '4abf9d285c444dde8636eb8c78425f5d',\n",
       " '1edd0e28a7f44c18bd33a31cb23c545e',\n",
       " 'c9b93f0b9ac940d193f8ad87a3836db4',\n",
       " '8753fad796064b4db24a0226a73d92d8',\n",
       " '760df5477a434ad2ba099a3b72b956a7',\n",
       " '8d0443cddf6346e8874e77f32bcc0ed1',\n",
       " 'faf7b82fabb547648de74f847a8dcb00',\n",
       " 'ebcc5972e21243de99a7769ec60d056e',\n",
       " 'df8edffec1e84f4a847d7d95c4ff96d0',\n",
       " '75e3096c46a94bae9338372fe72c154b',\n",
       " '82504db369994094ba1422a4a8e22b53',\n",
       " '9490ed72def044e0bf13975dc20f26b1',\n",
       " 'd77a0c8ebc654ee7a498561ad761c8c9',\n",
       " '55ff7394f50b4a3ab097a2fa5e059d0a',\n",
       " 'fc714ab7325e4e998ff5f7d67a11d156',\n",
       " '90fe1c1a438b4dfeb9f92cc7b2da8bb7',\n",
       " 'af6e336039ac4e8f859df050b86180b6',\n",
       " '7b367cfd8e5746438812c612b4ed0753',\n",
       " 'a5c35cb1d3c34e24a00b5b30c499169b',\n",
       " '1a543eaaca844b15b7bf2b942e725ca9',\n",
       " '10c8f08001214852ad8dc21edbd6cb7a',\n",
       " '3d1095af55d84243b76427cda42a6588',\n",
       " '656eb0a05d354cc1ba3ca54f361d9eb0',\n",
       " 'b4200956100f482da52c8cbb989b8953',\n",
       " '53d404fcbeb94a8d9d9a6b61ac0eba5c',\n",
       " '7711016bb33247a9bfec5790681525b4',\n",
       " '983167e3b8e8410f9da71224608ceddd',\n",
       " 'eedbf39be0504ab2a9e264862ac26a66',\n",
       " 'cd759613aac04b2cab23ec47ac907242',\n",
       " '884c2b79b0b44ae6ace33deb0764c64b',\n",
       " '14e0bdd967c64235964ef335a5c389ef',\n",
       " '83689b3c0ebe4e32a9bc0d1ed9ae439b',\n",
       " '983a2118bb76497f966db9754fe78a93',\n",
       " '2a23426d6d1345959f194f1a0cef7b6a',\n",
       " '743d917d668c4ba98d45f4d66096d573',\n",
       " '6d8f61b6c1874877a93a2c360b24f3a0',\n",
       " '644faa12d2e04003a1b6a4c4d79d4ca6',\n",
       " '9c3fa638655744cc83c828c92278b97b',\n",
       " '75d50ae9610f4c1597064c38fe84e8e5',\n",
       " 'cfa05d0cdbcf4956bb297f981c1a8867',\n",
       " 'ccf767b7b4434ab3b3f7265405968012',\n",
       " '18c76e60866b442a9994f92108b1b66e',\n",
       " '0556bdad9a3241ec83828f05677a4f5b',\n",
       " '6434cea15b1e46fa8ea238fa73242955',\n",
       " 'd569535ae59e449896362716cafb1e7c',\n",
       " '9e1d39d9f74040f194392136ab2e83dd',\n",
       " 'ab441fa5aebd4ed5b4a4d126019afa20',\n",
       " 'f838148a19704fd4a62a7c1cd33c7642',\n",
       " 'f1ce5de728e2478197badca55bb32e91',\n",
       " '43c7f749a10f4be18366e35352cb54cc',\n",
       " '6ba6223af5d9495cbd538944c8bfc8fb',\n",
       " '5512595064414dfcb7ba02f6e1efca3a',\n",
       " '7a6c942e26c44d57a9c22445ad3ee34a',\n",
       " '12dfb3f3b430424d81a53abe2a635ed1',\n",
       " 'ff8c9819e2c74d4d9b324c12fca0b136',\n",
       " '4b88a698a6194432bf0b7b3a977a4d92',\n",
       " '31d7681379004308a0fef9e6f0ddebf1',\n",
       " 'abce4f440a38407ea872c450f1badba5',\n",
       " 'f94397ca416f466d945e47a110ff99d1',\n",
       " '0b7c7feb6f224bbbbb63a809976fbc19',\n",
       " 'b3fff11d5230463e82decb6f7c1dccbc',\n",
       " '2580c50544f34f5f8d3d79c76ae7e97f',\n",
       " '467b355c67374054bbf4ec65179e2d04',\n",
       " '669803d3125b4dd080ac8f51ed85fe35',\n",
       " 'f484cc3ce1ef4038bf0dd77e0db50420',\n",
       " '241d3741c132484993547dd6167536c2',\n",
       " '427707bebf554888b96cfc318a9c3d6c',\n",
       " '77c9e240c84449bcb802d7310e90039a',\n",
       " 'd1a6b26d4a7d4a19b1425cf9ea32176d',\n",
       " '5b69049a3801451f8068a01c87eb23ea',\n",
       " '3a8f12bc30c946b4ac34c988ff50d1a0',\n",
       " 'c871bc791d2b4a8d998dfc03bf47fe35',\n",
       " '478b28c778764e3f9709064d617faeba',\n",
       " '960e99f0635349658b9cf732b56afdad',\n",
       " '217a53e0a6b540099269ee8623bf9bf7',\n",
       " 'bdfcd0b3acd34cb3b341d647b9a27eee',\n",
       " '85a90a5ae42b47aeb64fbce55718bc1a',\n",
       " '7571b1ef01104a2d857443891e447e71',\n",
       " 'efd1f6b8252b4f4ca13a54ce19262983',\n",
       " 'f4c718399f0e4b1e9a27534ffa540105',\n",
       " '48b0c22f69ce4b5ca3564907beb84787',\n",
       " 'e288e7827c7947df880e7d51d4e3af0c',\n",
       " '36c65e3c6c1f4c41bee7b27237aaf1be',\n",
       " '6d68f74be36248ac81b1b7bdbf296c4e',\n",
       " 'bb52f7ea526f41cf8e0381bcc0bf2ec8',\n",
       " 'a8275cdebdc7429bbe7e11c8a48f10cf',\n",
       " 'f5580acd1dea43b0b7eda42fe7eaf756',\n",
       " '9a58d2bbffa941a1952014210cfac401',\n",
       " 'e34c48480b0e4dfd97ee047f898cfcca',\n",
       " '9a873f248c764149a3ced92db2ba4b24',\n",
       " 'b4aa9164a5d743c49ba6612d08c3b07e',\n",
       " 'd8cca928beea40c0a27a5f593b259290',\n",
       " 'f71bf6830eaa431a96387ace318b0594',\n",
       " '9df37a1aa0d145209d39a01c6e1c3096',\n",
       " '560f90df13334894ac76a4e2b035ecda',\n",
       " 'dd1a4d69130d4a5ab5a8ab2460b790c1',\n",
       " '6d0455a72585438e8c45e92ec3ee242b',\n",
       " 'e54c3608ce87408599d56ab4794b42ec',\n",
       " 'd57c96bca3d04c84a59540bae265d749',\n",
       " '4090b874f3124cb1aeca947214e5451c',\n",
       " '0012bb765f9c4e8eb92a965e5e88a5ea',\n",
       " '8762307329024b65a07ec5ec22816329',\n",
       " '67ca6b0ce11c4cecb7c7320571fc70e4',\n",
       " 'd28005b8630949efa37b6242235dc65a',\n",
       " '32ddec9b4a51447c9fcedfba0229bbe4',\n",
       " 'e9b5037d67de4531a3727980f6fbe6d1',\n",
       " 'e608f7874f9b442ab8603d2a1a125c7d',\n",
       " '43c709113758425eb79dd72b0b7bddc1',\n",
       " 'd2c0507ecb904957bfb48fe9df11b53d',\n",
       " '72bf20eddf0f44519456edbe0a2c0ce9',\n",
       " '48b0df16f4084313810f60ddc212c951',\n",
       " '3c83940861154606a0caa97e0df34701',\n",
       " '31676332e004415c8ca30edf4ed69273',\n",
       " '06f23543446b44b0a68d0877598a3403',\n",
       " '739f6c7d82ad4bd6a88e5a61e1036f17',\n",
       " '8413fc966ccf4541b9777c6636d4e40d',\n",
       " 'c7cbb60a183641dd8c9d11febfdd6558',\n",
       " '5073263f3e1a4e6abe8f279e94681455',\n",
       " 'bf8e225a57ff4031a27f0ca46211b729',\n",
       " 'd7db41e7a2aa452aa22a91b50b6d4d0e',\n",
       " 'cd4be46d99ae459f9f752ede2cf8cb2a',\n",
       " '80e12781f51c476cbc74a6deda36b3c4',\n",
       " '61aafc36fdc440d7ad82cefb3afb125b',\n",
       " '1830da927e094037909cee7122e7c18a',\n",
       " '14ec170567a0431db2fc1928a950db29',\n",
       " '64f9e755bbf14109aaf9dae98e951514',\n",
       " 'd864602bf31646e2baf9884eb8791b41',\n",
       " '74e832b097244e338f856f72b6c4be2c',\n",
       " '69ceab16a1ce492aa70c96620cfe6f99',\n",
       " '942728a838084b78a534b6915ab229a4',\n",
       " '46651dee93094f4d9ec70effa76d31a0',\n",
       " 'ed273a048d2b4582a0b117cbbee5257c',\n",
       " '82505a03902349288342fec068a52b1f',\n",
       " '90770d3d25024f8a96100f2f45ecb7d5',\n",
       " 'ff1ef3d582f44b8ba4467fb5f7c05016',\n",
       " 'b65c46d8909f4c95852a9ddfe2e3d38c',\n",
       " 'a55317b5aa4241159b03b597e10a28e8',\n",
       " 'f96790ef7c3b4e059cf100231443abb8',\n",
       " 'dd47363471da4c4690ea2d3fbaecfa6b',\n",
       " 'b01775849ac3419185c4ae4a1129b4f1',\n",
       " 'aba6a4a522c14cdda9e818d67b7d84f3',\n",
       " 'fd61ca15ef3547a78e98a27671b6fdd8',\n",
       " 'd2f71536c66d47e19b1b39cd658292cb',\n",
       " '8d36e9afe8b44f47ae8e80d4c3de8661',\n",
       " '1de9272f6b244310a4a6c63499b7eb7d',\n",
       " '5a831649496945be803d6604b3a049b3',\n",
       " '6d36684456c144d48b65dac18a130dd7',\n",
       " '751eadf121954d7aab2fb0afbdaf4839',\n",
       " '43b75e4a513549d88aae086dd2233f07',\n",
       " '189caf89affe4467b7b14f6521daf55e',\n",
       " 'b0ec3b67e49f4b62b413308d5521e5a3',\n",
       " '997ee82b0b824a2cbfd902ea622ba258',\n",
       " '32d52d807f3040429439f3056e64f44b',\n",
       " '0a2e83269cc54923926e085032bd9ef8',\n",
       " '8e008941122e4622847596bc439458e9',\n",
       " '0d3b902c68704a21ae77430265d379db',\n",
       " '25e8d7138aff4db99129956d2c6fdfe7',\n",
       " '71fd61b07b0b41c4a7b938371d8be821',\n",
       " '5c08d9c0623e4aac8f7df43293592d86',\n",
       " '7d30fc06d9154b9cbd67c3aa32fb44d4',\n",
       " 'f3e58da8c22d4b75ad55457f59a562ef',\n",
       " 'ac76960cb1564d679af6ab2cd9cc4810',\n",
       " '2963171023734315972c062fec951584',\n",
       " 'afd14762784a44e9a8dff1362325bdbc',\n",
       " 'fccaee138ea84d3cbabdc94dc56bbea1',\n",
       " 'c2e680b012344dbb85799add2d4c2df7',\n",
       " 'b2e1416d7248415ebdc851a5a5d909c8',\n",
       " 'c595e1fd14dc420bb89b94f294263da1',\n",
       " '4cf7da9ba626485aaae628f000a4e1fe',\n",
       " 'bf8bf5a97a5e4daf80a51b456a4ac347',\n",
       " '8a72720f57304278ba520a1958c49765',\n",
       " '037f134f7f8849eba45761c5393c46db',\n",
       " '2115ce3d5c694e16bc50397f451bbe27',\n",
       " '2508cf5f932f47d9b807e5039280f254',\n",
       " 'cd83ad58cb7c4c4f87776f086dd9ff21',\n",
       " 'a29fa7043c4640dc883f3f0eac7cc5e4',\n",
       " '949edd96f4ed4849b344459bea62ed0c',\n",
       " 'b1fa92a099ab4f649a14f8c5945b4669',\n",
       " '877fc3b6f42040b589c5cbe8b9274634',\n",
       " 'fce6e0b2d6034b83b009c87ac530d57f',\n",
       " 'eeef0f27217e4fa8baedd2ad3a0b27af',\n",
       " 'dbba923063934cbcac79f0eb68b3e42a',\n",
       " 'bdb63ecc2f0b49c69ca579a74950e4cc',\n",
       " '3350da68ab954e32b1f12a7a1b266046',\n",
       " 'dd3402e0f15d498683e73abc0d1f2b1d',\n",
       " '2e3b35b7398c4725aa70064fd29c44fe',\n",
       " 'dc7ca99052404e628ad7181afecdba37',\n",
       " '1a97dcc7833149ab89d232f654233d27',\n",
       " 'a74ead9598a14e2fa6dbe11d020e18fa',\n",
       " '640be3fb0d28487bbc0a20db5b95d5c8',\n",
       " 'f0a5108a36f548429e2f1884ced9f49b',\n",
       " 'c2588f56f03e4788891a1ac23b816736',\n",
       " 'f918b58b86574a939c162a28c7300b4a',\n",
       " 'c3a2e2a2a8d34d4dacbdc21495c95e29',\n",
       " '662ebdf976b64fdf8a2eec95755b519e',\n",
       " 'f85d7c47dfa34368a3dca33633dce160',\n",
       " '4e49c4697c834cd1a639e77e1a49ad05',\n",
       " 'c221d6b12abf41e284692bba28a8f5c0',\n",
       " '1b46e62aabe745a88b5fba09edce5f9b',\n",
       " '32faa557efd24611a55a50127dbe069b',\n",
       " '8280b718a3794381b8f0dcf27f463b51',\n",
       " '8d683ce1ba9347ec9f2030754e6624b6',\n",
       " '4223d44bbeb04d2bb09499fd25f47274',\n",
       " '01e817df94ad4afdbb0ac85ab8ed8a0b',\n",
       " 'fc1ccc5a4408490fa8fcc5cab718679d',\n",
       " 'd051944832c7485c8cf8e63bdcb7e27a',\n",
       " 'acfc60825051451ca2a310ca52712333',\n",
       " '5aa4581dd57c407388f4e8fbc3622a91',\n",
       " 'c77a467f46dd4db8a34e127cd19f33c2',\n",
       " '975dba4a2d4f48c38f25a6b6eb3acd90',\n",
       " '42dfdaec0ad24a30ac0c638c6dfe7e09',\n",
       " 'd0241c477885489a85d0c1f0b091eab3',\n",
       " '120201d4d35e4e568b471c22ba811b81',\n",
       " '961acaf3b37b403589aeb8c2dfcfdccc',\n",
       " '200bd890c75d4787aec80bab7c54946f',\n",
       " '8d6ad98e6d3949678f17afa3ae6eb498',\n",
       " '8ec4d6f701fa43fe81dcf18eafc1435b',\n",
       " '2cda67f593ed41a28d21a3fcf3836814',\n",
       " '7677f7a725884a00a589bf0a19d7b2ee',\n",
       " '4cf30ed280814e69b12f495009039b26',\n",
       " 'cf37522642c744318aa59444091758fd',\n",
       " '1d378963bc694cc886f10ec583a8fdf7',\n",
       " 'e4892f9cff9a4898a26bbd9f5cafb6a4',\n",
       " '58f99be868fc46989477967e241501bf',\n",
       " '4856093f791444a28f868220b4060da4',\n",
       " 'c01746456db04fa6988af25e3d8c6aa7',\n",
       " 'bbdd36be0d734928b80a83afeebac4ad',\n",
       " 'f2be3e7f866c4cdab366fabe6686ca70',\n",
       " 'b6716acd4cb34d8ba3938a04c2978f0d',\n",
       " '79321c8042684029907c1f7b1e829afc',\n",
       " '49c45e61781f43858b2de1ce718ea1e4',\n",
       " '4177c049c263434a92e69560ba99662d',\n",
       " '512f0038c28f484f83a568fea16d024f',\n",
       " '1eecdf8cbd6c419b937be35c65f6ee01',\n",
       " '0c78c8cb8a6243be9934ffb7976dfb40',\n",
       " '7879e107d7244daa8b5dc02caed2c5e3',\n",
       " 'e552bbe4ce034db59e8ed5bf74c4012d',\n",
       " '43cb25cd0b814b48bc1ec4a4d320b7cd',\n",
       " 'ea75983bc7ca4385b672b568bbaa60c9',\n",
       " '8f8b35aa53564533a52ca7f216edaeab',\n",
       " '78bef82d9a7e496d81af5750452d7d7f',\n",
       " '1066946e5ad547f8909ccc284b887e02',\n",
       " '48c2fca6cde74a30bddf85fa79d1b367',\n",
       " '6fa12eff20364e80b5f2ee0fd7c43f84',\n",
       " '2aa8949b9d404abaafe71538dc7d59d1',\n",
       " '9b2a07acb77e4ceeae8738bd57df2f03',\n",
       " '27abb01f443e4bea8a1794c5e9bd8293',\n",
       " '6f134474f96c4dd5a740fc747681c723',\n",
       " '1e7cea49ca464906b8df7b48a4649d4d',\n",
       " 'be39651dcda44a6296c4023c51b95d97',\n",
       " '906378b88708472d8b2322eed2a3cfa2',\n",
       " 'a07a9beea5a44287afe8ac56875358e1',\n",
       " '64e9973c78ac4f65ba89238fae9a23f1',\n",
       " '8c86560dc9bf423d870ff40a74c5d933',\n",
       " '4446e4cca82c499f90a3184841a82f43',\n",
       " 'a50eaf47f1b240859f448f889d9d7151',\n",
       " '1059275ce17a4d9a82e16af93272ca05',\n",
       " '8bb7ae933b174757a391ea7d9589b21c',\n",
       " '24c21c411743447798cf1f6760da67d1',\n",
       " '0d446f046a834c00928806cc202d9b35',\n",
       " '8738715171f14f2b933dd8dc54cb8c4b',\n",
       " 'c406a3a654b94e90a3509d5472f1a88e',\n",
       " '855dd9b9c5ad48bb958b39d6ac50ad8f',\n",
       " '0a4eab4d8f5f43efb61942e6902490aa',\n",
       " '6575b0a7734f4c74a3870e3c9a10344c',\n",
       " '76bfa87996b446078f95dcc2f422ca6a',\n",
       " '6bb6cb9b96914dff9a8ad5a38fd2c859',\n",
       " 'd1c1bb04b97f48188be4669e036feeae',\n",
       " '381a98c114b84718b57097dd420b2cef',\n",
       " '784f4d4d20214825ada56995902cc885',\n",
       " '4fbf2661d6d64106b2375b012faec3f5',\n",
       " '79d49234cac34c4db08f864ff36bb3a3',\n",
       " 'e347592b55f74297ac811f31dc39cf55',\n",
       " 'e1eb1b8bbfc948c6b7125ca72a41e387',\n",
       " 'ed4682e43fe345ce830c91ceaa6a2fc1',\n",
       " 'bf329e5aadb644a6b51982c3bd703e50',\n",
       " '39e7f88c95f8492b9aa0a41c55a7ef35',\n",
       " 'a5232d9255b34a898ffceba3ee39cccb',\n",
       " '2ad3ea9c35b248daaf555ac301f876dd',\n",
       " 'a197143d28694b8b98243793b164a1af',\n",
       " 'd61ab2eb051949f78395d8c5d4378d91',\n",
       " '4f775496228a4b8d8f777c152d6daa77',\n",
       " '648ffd28c8544c4cb24e36bdd6a1326a',\n",
       " '650f526917924b4fa4d1e22f9204f48f',\n",
       " 'd9778f4d9b3a4a37a9ea6e94feb8609d',\n",
       " 'e1db540a988c40ae85a62cf487e242ae',\n",
       " '966b90c9edcb40e3a9574f9f8ce87ed3',\n",
       " '6f12eb40a0c94feda772d9396109fc8f',\n",
       " '1d5ae891d39240a2af14a5d0eb4c22cf',\n",
       " '456584c4c93b4e9184eef8f0c9cc7161',\n",
       " 'da523054e8e74a678680e22f6b459b96',\n",
       " 'afca6d71a23949b0b3d98879ce0d2ac8',\n",
       " 'ea244c46156b4ab2b292e211d90616ee',\n",
       " '1c5d923550e24c22a2c1aed479c04ba7',\n",
       " '28d03872b2784d03a71910d9102e7102',\n",
       " 'b871b84e2a80496980ade9074d08d491',\n",
       " '7a36bc903db042c5b4a2e568aefabf7c',\n",
       " '8b38261842784903a3b955960f1e11f0',\n",
       " '7fa57d09508b41448d88ac1c7fb7eada',\n",
       " '78bd111fa19b4d388c01f321db270d85',\n",
       " '649faf5ec1e542b58638ecf246765338',\n",
       " '4188c609feb0400f9b79775374751e68',\n",
       " 'de515d5500134a9091d0f5ce5975561b',\n",
       " 'a6a00d70734542f2be834aeaf161bde0',\n",
       " '605f2415413c4cddb43728970739691c',\n",
       " 'a06b6ebaa7b74cafbe2a6c4a034f7e5b',\n",
       " 'a52f341fb5f745fe8665f6412dc49a50',\n",
       " '172c25bf12584a0f9a8517ad9b715699',\n",
       " 'f917e7414350462b848d8cab27f325e8',\n",
       " '54c8cdf4f37c41528e561d0ee4f03d09',\n",
       " '8a5917ce16d44da9803cc49fc8935d09',\n",
       " '840378ea01b944b788684f67a2b37a0d',\n",
       " 'd354bbe615834c8db4f0f359137ebbae',\n",
       " 'ac07db402ff8475f8c2a5bef47a0e613',\n",
       " 'f82867d2a4cc4a7195d8a1b51195a66a',\n",
       " 'ee3e22ef9b1348cc85d60c9680c6b16c',\n",
       " '551f975a5da94aa58ee78a518844f404',\n",
       " '73035bf708a24ab2b98c7bfad4f28f91',\n",
       " 'c0b5f3070d5c46c88edb22a1152cc1c3',\n",
       " 'ff30efc2aabc4a8fb756338705a55724',\n",
       " '0395f97a23054c3aae273b3920d048c6',\n",
       " 'c62e3fa1b6c64b9eb09ec1c0fa0f887f',\n",
       " '882bb909458141289c20d1b99985aba8',\n",
       " 'a2180c761ce648f192fe7039c0241c6f',\n",
       " '3ec152cb437d43e396a8c95c91020610',\n",
       " 'ba0769d4610c4f018cf580d029440b27',\n",
       " '059bedb66f934afba9cff3d26e5e8e98',\n",
       " 'f2889e73ebb3421094afdd3d3d15d46f',\n",
       " 'a8e203c04aba40718f2a0f2803229054',\n",
       " '0ed5e9dfd86643af92181c6e7cd4c656',\n",
       " '4ca6be02d7464d43aacdbb34057bbaf4',\n",
       " '98e5743a59ca42dcbdef6614caa1be35',\n",
       " '013f9f0aa33f4e92bfe1f550518792e5',\n",
       " 'aa650f85acb14c8e9c82cd3e63720235',\n",
       " '88b162f53170407cbb9c94b8c85527e9',\n",
       " '65e5eae2d60c4cadab6e2e6c27e4bb82',\n",
       " '4aabd7582cf442e5b202d7ccf31b0aea',\n",
       " 'f3482872c6e045f8865e8ff8db036371',\n",
       " '36902390a6c34428a8a3381c36850a1c',\n",
       " 'b3aab8ca25b34a36abcc7bda2ffa0e7e',\n",
       " 'f892d2f0c615479fbe87c322c96ac4dc',\n",
       " 'b9f01e2cf314442f935b96c24ed5ab6c',\n",
       " '73e25d0683d84fd7870fb6371fca86b3',\n",
       " '4533bfdf21bb4a0dbfed46364fe56ac1',\n",
       " '27f8b215a4014f8fb6cabe3660f7630d',\n",
       " 'b0c6681c4fff4d2a94a9fb4730ea4174',\n",
       " '24012567a0774797a187d8eb8cbde668',\n",
       " 'c1cedd5f0c134b688fee6a6387701408',\n",
       " 'd5700f33beb24c29bb88c5e5ee61bff0',\n",
       " '26e6fa9d68f74d1da2978fda52ee502f',\n",
       " '75dcefa4e429448d9db0c81626d9bc2e',\n",
       " 'c5462bb92c8741448893c82e02f89ac5',\n",
       " '316560de41c740899e49bcb518be2596',\n",
       " 'efb163bdc7c94818a9aa3264717eeb8f',\n",
       " 'c44514468ae34f7c92671e9d1f27bd19',\n",
       " '571cd7ac682d49a19723e4793892fa05',\n",
       " '54f66d6c41ef4c428d5d506dd5b578bb',\n",
       " 'ab241708e7774727b0a06dbc3959cdae',\n",
       " '8cb2fad4f3d7409ab0de496f56b2d787',\n",
       " '0a2824a9f30f428b9a1212ab1d7ea9f8',\n",
       " '42036b184247478d80593728652a3f22',\n",
       " '8bbd28bd5f124ba8a1a0f6c938cf06fc',\n",
       " '101584840f7e41a580776efb492c0aa6',\n",
       " 'ed4e1764c6d04f509da54d292cd07a4b',\n",
       " 'ed326cfcbaea43dd85c0253a89330e00',\n",
       " '98b2a5ecdfea4fc396b5f74cb498aa7c',\n",
       " '58474322c1464c59932a999aeebfc136',\n",
       " 'dc55945407c446a6832cd5b6cfb2791c',\n",
       " 'fb3bb33074cf46b7a3c4f76d35a71440',\n",
       " '5f4c34a0560045ceaddc637bc5a24205',\n",
       " '7dd2ea3c981f4054bdf995721cfeb310',\n",
       " '53a147004211465bad5a558b3de4c146',\n",
       " '16492f44a6794da58a5885284299309f',\n",
       " 'd1c0a9de42bb49c094315cf0f65bf1fc',\n",
       " '615d67557d7e4f5980ef21f14db18158',\n",
       " '7188c8631dd44ba79cb9128acd4b8d81',\n",
       " '90bf9db4ac474f0eaa0cb69c6a916f3a',\n",
       " 'ef48d8aae1e14f8682959a48d19dbfac',\n",
       " '88625b5f33114528b6d9b4c5614e201b',\n",
       " '63369c3ce6a74c378412566c2707fa77',\n",
       " '328cf46803204ee6b00e21b02a018339',\n",
       " '59a07e1eb1b54f9bbf37d7b33c800428',\n",
       " '31b85b75bc2a4fbd87c65ea636f1f71e',\n",
       " 'cf1363fb62ba415f80c2ad6cbf8a9afe',\n",
       " '1a3d4426919648cf8c4c201bb67e21cb',\n",
       " '2a3982f4bec8458ea8360cb7f305adc9',\n",
       " 'abebce1e3e5c47b4bc353e18da25193a',\n",
       " '7a3d62ffb18c4daab773f018bc5a2348',\n",
       " 'd767ab16524e42e095973ee7aeb47016',\n",
       " '9480270a0efb4bac948f03dcb0dca664',\n",
       " 'ece98ae55b4742aab2ceb80e33ecad32',\n",
       " '6f44702290d14415ba8f06422cc948c4',\n",
       " '66c2744c9c194d5ba0ca65e55be4056f',\n",
       " '4a941e4b4a9947fbb883e55827825ec3',\n",
       " '3a35bdbc1c364550a43bfb1594b612d3',\n",
       " '2dada19f61b24940be4b9cadf7fa8763',\n",
       " '58ae9fa719b14b7c807e66ecc8a27a8e',\n",
       " 'f515cb310bf5468685159afd070482cc',\n",
       " 'c698c2086aed4768955888c60583193f',\n",
       " '2f1b0884817649519db2f215e20ce184',\n",
       " '08e88514d40b40c19db8130f858260a5',\n",
       " 'd76893e6e7114bad897ebf3fce22d933',\n",
       " 'a853c736bf344a488f5b24c0e595a629',\n",
       " '58c8b0b8243242668923e6c65e6c70e2',\n",
       " '48e1a69a345d4d358724079aa6957d6a',\n",
       " '85ded1a22c6841aebdc8819818d8ab47',\n",
       " '77a371c5b1b745c9866f3a1975220e82',\n",
       " 'a34f9ee9602e406b97cbe5fedccd84f8',\n",
       " '0674f4c4fc384607a9fe0a1e58f7e6c1',\n",
       " 'd327e1ff2c18444aa039861ba1dbd53b',\n",
       " 'd67b5fda86dd40769b53c6de7405ff1d',\n",
       " 'e9a9d0840ad5463d88e963feacd6962c',\n",
       " '6a452da492eb46b3a5a54ae18ee4d744',\n",
       " '9d930354c8974a7c9dd0c4ff3539ebc7',\n",
       " '4085230f48b4465294525f83fdcd9b73',\n",
       " '79656ddf49c4427495d9ead92577e16a',\n",
       " '9c2005833c10451bbc8e2d6071a46919',\n",
       " '4408aafea423442aab01f294d772499d',\n",
       " 'eacfa4b5db814c8cb9e583f42f66f2c2',\n",
       " '31af566e05914ffca3ecbfedf7ba9f6d',\n",
       " '6e14136177624551b6bce9576cfa531a',\n",
       " '1f912ea6545642ad919f960c673eb9fb',\n",
       " '13019e51903e4ddcbdf192f8b0646b36',\n",
       " '9a638f5232584d15a0f459f467f1618a',\n",
       " '3727e08669b140e5b696b6bd0c563ef6',\n",
       " '62f44627a51e40d5be58baf5f63eb29a',\n",
       " '953e5c4627b34c4e89052a40ce18df04',\n",
       " '19db83ed63804927a859ed1658a85311',\n",
       " '4ab3d17b2bf2436f8893a327b21aee91',\n",
       " 'af9720bbb1c949a5b3a8162db8d3b9a1',\n",
       " 'e73372c116d44563b01622d98c99bd7f',\n",
       " 'b43ffce34f3341599cdf25ca67b4610a',\n",
       " 'd23292395dfd4a31b4f4ed1b001dfcea',\n",
       " '1c9d56e652b94bd6a29d78ee30d63599',\n",
       " '4653f661289a4bf898d47d3f841c809e',\n",
       " '26090ebd86874952b47aea69f720f158',\n",
       " '8c009652396f47248e8972a380994364',\n",
       " 'c72cc6e405aa47318b59ebb717238b86',\n",
       " '528362a270574715960b9b5505923292',\n",
       " '86be4f2b7eeb4972b698ad91813a82b0',\n",
       " '36be8b3cf9e545139655c05949eb99cb',\n",
       " 'ef60f844cbf94185a8e3c913833d917d',\n",
       " '1f2228bd2816410280831ad063fc667b',\n",
       " 'ae5abe9dc39c43f6a66d0e1d509b9c11',\n",
       " '35a494412a1f4c0eb07201a15a0338ff',\n",
       " 'e9c8a22f8bfb4b3f8adb8e3dc48b37c0',\n",
       " '4dc3949fa4f34a63bcf7b0a38adf5ff9',\n",
       " '76b4203714044bfc9af9a55430a9152b',\n",
       " 'c66f20a6e6614eeba78bc6c92d4e85db',\n",
       " '31b856aea79e48b2bb7cb1a1a324190f',\n",
       " '09a47e3ac57549bb91a4228ef0e622d4',\n",
       " '0df20fbb7315441cb33bad921ec0df4b',\n",
       " 'c4109a1609d8405aab212b469fcae422',\n",
       " 'a1778cac0433457b8c933f0092ede8dd',\n",
       " 'a76a74b323614bba982733db8e770f3e',\n",
       " '08c70c2e347f473bb85fc4ca9e15dc42',\n",
       " 'd4134964a7a64ce69d040f002a1ad389',\n",
       " '53ade42ae33c4892b1eb66991681792c',\n",
       " '0d409003772144a3b6aa550b6bf0ffb1',\n",
       " 'a8b701e4cd3840bda3fb4064baa01d05',\n",
       " '1942873d96b142baa7030bbb8bdeb437',\n",
       " '7d6a8419b26a493196b768705b025148',\n",
       " 'b08ee54527914361b6fd507608fe8504',\n",
       " '6d38aa33059a424aa8a8b44c103a6cb3',\n",
       " 'cd8fab465dad4ad085580d7eee55f61a',\n",
       " 'b69a3db0163743edab285b0f9979eda8',\n",
       " 'cded4a0c028341a4b6b3f848a389f071',\n",
       " 'a828813d569d44bc8f217993e878464f',\n",
       " '766cb42ed43c4b4094a4c2e7ebb87f77',\n",
       " '703c2e4009cf44b692e764539b1ffb5c',\n",
       " 'babeb118e9894c5e8c715a5c0d3f33df',\n",
       " '0f14d1f815ed4ca2812fd5142a174320',\n",
       " '1293adca56a349c284aefb4ce02d3580',\n",
       " '39e5868b72b042e7986af7701c70c280',\n",
       " '0b6049e121c24d65a6e144fca3669715',\n",
       " 'c360a10a4ddd4bba974d73b9a9b6aa6f',\n",
       " '9dd2bd87b964453e81cb611ec774cfc5',\n",
       " 'fae138500021470caf6893c91a9a214d',\n",
       " 'ac81cf57898048fab845cf552dbef0f4',\n",
       " 'b58d4c1485d64895958339b4dec2cd66',\n",
       " 'e4a2e7ef76064dac814e36aad9b7c06a',\n",
       " 'd234919b63f04268bcd59a457f0d7f3c',\n",
       " '0592665c74ce439ca480b15c09175b58',\n",
       " '2d0401a9bd21408dbdc2f065a387d815',\n",
       " '4cdd4b44782341a9958db8a19227e93c',\n",
       " 'a553084f1bfa44fd94b1b3f521d42b41',\n",
       " '0d755d99db5b4f35b0e872033f1c72f3',\n",
       " 'e65c8b36900c41969a98013aa3af517b',\n",
       " '0031654dbb2c4cd9b4e28593e648da31',\n",
       " '5bdaeae45864465caf207f4e15b9557e',\n",
       " '8f9ca9d7540c492daf82d0abfce7890a',\n",
       " '21e53fd025e84d03ba61f986382fde9b',\n",
       " '2fd9935635c84e07801941dcac67655d',\n",
       " 'fff7a8b14af14b7fb913eeab31aa8f8c',\n",
       " '1e90718ddc8e4f0c9e9428c1b6a166ef',\n",
       " 'b9910065f88f4828b59bc1d066048a3e',\n",
       " '95449c2fa34c43fa8c3ebff7d0ac286b',\n",
       " '1fbc1d44fdf94fb7aaa0fee32e675ef1',\n",
       " '86d85b60ae9844a39d3ad883c3041b06',\n",
       " '746e6a05b7f342be87db1b91bcfe9739',\n",
       " 'bf0e4b008d8b49ab87a3f4ddf451f6fa',\n",
       " 'b56c18c444ae43a68483dca96e2146dd',\n",
       " 'c52799c01c644eefbf15c41e47d96fd2',\n",
       " '395944db7daf4fafa825a2befdde228c',\n",
       " '08d036e4c8444ad9975b01f9fc6a6c43',\n",
       " '800c2b3647094791abec5d0bf494e552',\n",
       " 'edcdc82b3954475a814193a3ef11525a',\n",
       " '037e9dc316de478699a0ecbda7ea5c4a',\n",
       " '36c4cee210be4d6aa675f4014f7b6764',\n",
       " 'eb1db518676542fb845e4a6cbed79135',\n",
       " '16dfc9f0d4c24e8ba8db7f2d479c11ad',\n",
       " 'd96f929d9e4b46009438397b1ec01192',\n",
       " '44f6ba93e4ad4dc8914c18280eec7639',\n",
       " '8bd3ddac41e2477ea1e62fcf45b6d316',\n",
       " '0e9eaa28f8744f7b9a92f00fda30485f',\n",
       " '02fa776b43bf47c49ef89ebd0d3b3f8c',\n",
       " 'fbe7c2026b8546a099025597b319d5cd',\n",
       " '6163ff8ac2504ad8a492af7c951660d8',\n",
       " '5709b15f54304dd48ea26500038666df',\n",
       " '5750a1469519412bae6ea787bf22e50b',\n",
       " '048a9a5413a846b294342fde760b7944',\n",
       " 'f32367965fa94b76b9b693a95a8b7cb5',\n",
       " '67d842af012749c39739b35a5da9ee49',\n",
       " 'a5ed3cd171214657beb965f11ab9ca89',\n",
       " '6f04f3baa038451092f75504fa761e74',\n",
       " '27b6722679d74ae39ea4aa01652ef21e',\n",
       " 'fea9181e57b44226861e10b9ca69bcf1',\n",
       " '90062d58c00a4e7ba9a04e9b6d46ecf8',\n",
       " 'c1f483c5444242b59ecd4f69a00aa797',\n",
       " 'b0d7db40011c45bb82bc7d70b19beda4',\n",
       " 'be926f0bc32540e389dd1c2a35436b30',\n",
       " 'd81b9adb01384e5ca8cd023500deb7be',\n",
       " 'a8816fb7ad1f4260a9d30de9cd55c5ee',\n",
       " 'a0f64b38fc874425b4adb16daad5a782',\n",
       " 'f6e17110ebd84c6ea984a6d960a83066',\n",
       " '16bfec393c1849ce9ca6311a19e2957c',\n",
       " 'a48b5f74032841b592578cec296bd5ab',\n",
       " '43f8ca911ada47fdaa1ec3ad887f8914',\n",
       " '38a4c7f905784093845feba544b3bb84',\n",
       " '079e9f54da084b448e86599ecf7f3774',\n",
       " 'fd93fea35ba54b7192256c229bce84ee',\n",
       " '50c61ce84c6f447eb75ddc181e2e8714',\n",
       " '5668d44c71b744d5976c9ec7e2ac86a1',\n",
       " '08fef1a45f5740cc973e889f907908db',\n",
       " '43cb50799df14bcfba091b154ccfa2a7',\n",
       " '00f78dcbf27c42fca999524258c6565c',\n",
       " 'dd6245056087462b8aa99367ee86deb5',\n",
       " '0c44269eeb4c40c799a6b40bb09cf0dc',\n",
       " 'ff390c10582f48adaddcbf48f0abcf40',\n",
       " 'f3d0055d7ffb48069a3d22cd5ab242d0',\n",
       " '62db17468f39497fbf1337e31c96b31f',\n",
       " '0a5886ec21844b1094e3a7502678d01e',\n",
       " 'c98dac4889a542f290f98e3fda71cc66',\n",
       " '4cad7893a8224562b87f7283fe44bd47',\n",
       " '77d9c91b9c3740b883c57c3b7cf9942a',\n",
       " '080121db32854b598b0b25704b569c97',\n",
       " '603ede39561641a9a59a8ab990fcae28',\n",
       " '716c2bc1992f4330930c164dd3d7c195',\n",
       " '8445b685a2ed4fb189555aeb0f6bade3',\n",
       " '8775c23eb4054f4ea1e53019144cd84d',\n",
       " 'c6ddb73b029740adb994f0a59e12fb1e',\n",
       " 'd7e9d1bd52ca4e628b95edc9b4a05611',\n",
       " 'c9548bf507fc400c8880f2715c639317',\n",
       " '55511e93bf464c41ab952d0c2aa6ef5b',\n",
       " 'd0dbc94465c54ee69c07118c7f71bc03',\n",
       " '4e8ca69fce0a425cbd7af89813ea703f',\n",
       " '3f84219d361f4b32b840397457e5666f',\n",
       " '86324acba8954d508a491d8b27bc4c58',\n",
       " '631e84afd37548f4a428336b31f8725b',\n",
       " 'ae51d325e27a45b08a045f3bc1672272',\n",
       " '1b95a9d283c04b5fb761d81f0bdfad31',\n",
       " 'bf5a9d90d6a64203a78aa8842b711eac',\n",
       " 'b1022cc4d24c4549b404c9ee748355b8',\n",
       " 'fc79b139692943c39d12066cf5502b99',\n",
       " '567ff0badc0e4ca59d0468ecabc66882',\n",
       " '1668bf89915a4b648833a7e06be341a7',\n",
       " '2d4ff1fb357544acbd3c528e08653868',\n",
       " 'bfb242c5e3764bc8bc19a9cff66ed49b',\n",
       " '7bba08543fad4e05948cbf3127f45099',\n",
       " 'd8739d7aacbf41be899d59e616922622',\n",
       " '5bdbe8b655714b559bc8dde0d48626ae',\n",
       " 'f4b772086c5447b68515ffc3e108c0f5',\n",
       " '0e419c7129444be081fc537241b0768e',\n",
       " 'd36094ca42474dd8a8900d3192c18af6',\n",
       " 'fd79d20a0eb24ef49ec3f7b88aef739c',\n",
       " '0954b90b58ad4cab968c680294c6914a',\n",
       " '43cd6350ad9b4f82807376fda9a5a8e5',\n",
       " '21cac6ca9c8d4e9eb52ba061de944e31',\n",
       " '15d26db733cf47bd8a05d03f540bad09',\n",
       " '64d97addba2e40c2b193093d59a97a51',\n",
       " 'c819b995125942918e56ab4f905cfc36',\n",
       " 'b77950a029de4e48bffd73591d9a4bf1',\n",
       " 'e7ed309ffaf046be82e9fa5a6d0e89a6',\n",
       " 'a77199f0109d4700886ff6764a4e72ef',\n",
       " 'c39e048fd6bb48de8e7d6b759a1532e8',\n",
       " '7cde5837e78946c0aebaaa6e6cd744d3',\n",
       " '0eb7f790a7a341e884f1855945fdeb09',\n",
       " 'ac27a83d0d05491e924bb3170bf7e665',\n",
       " '95a75a35c6ce46dc814557fa47642457',\n",
       " '15d606d2c7ef414d97143d30decc0a5c',\n",
       " '198b4a0eb50f4469a3fe7cd37cb02b43',\n",
       " 'f514390f5a4a4575a94bb605abe3a3a0',\n",
       " 'be250d08b1664ceda6beec355683bd20',\n",
       " 'efd605e8237a4699ab15ce00ad73f77b',\n",
       " '1350be5f6dec436a8501c3454b3cc726',\n",
       " '068c5b60668747269cd4de287ff208b5',\n",
       " '6772d7a328d84fa3978d0484c7bdc4d8',\n",
       " 'acc7de0d6f1e4510989b7f7338a8a8b6',\n",
       " '54605c21f5cb4e6faa8ec7bbb7f37c1f',\n",
       " 'e2ab33a7ebdd4e4186d0e718124690a6',\n",
       " '608a30534a9b42b6978a8912bdf80801',\n",
       " 'de02a0f173f643beb3d1abc26e7731a7',\n",
       " '8ed0d2f80e674aeb95197a04653c6d67',\n",
       " 'b104d3937256419d83ad5b3b84c0a9b8',\n",
       " '4f3e027aae9f4174bd5c4f52731e3df1',\n",
       " '01b03f9b6f6940a89df94de5c369cc6f',\n",
       " 'eafaf6b7e76d47599f50709c060afe6a',\n",
       " '19520779864e406a910c80489ff7c985',\n",
       " '3244f61752a34aa9b32a1e19f2cafe7e',\n",
       " 'c4583bb04cab4166a3bf3023dcfd69f8',\n",
       " '9c2fcc59c48d410894da3dae439348f2',\n",
       " '83d1ef3ffbf44565928a7a3ae4221297',\n",
       " '6e5cb8631cc34c8bb4f7835247baf9b6',\n",
       " 'e8020d1a13b14b0aab7865d9d9a47131',\n",
       " 'c3e86f46afe94e1b9f5e2e1d621cb4be',\n",
       " '6519c8cfe5994853975260d0d0cee67f',\n",
       " '76903b32cabd4eb9a2bd9ce723410851',\n",
       " '684470630ac9442ea4d3b537d82fbc00',\n",
       " '521347d9cd0b40c5afdf165345394c56',\n",
       " 'a57f26c026984b96bb441ee5241b22e0',\n",
       " '4078444ce41b4ae99ecb8f65857d8138',\n",
       " '3ad8ca9ab9624600a7bee1a01824610b',\n",
       " 'b0bd0ce13a5d45f08bd9da9d83c03c25',\n",
       " '46a3eafdec764edcb603910278f3e292',\n",
       " 'f808bd4697e54ec6b4082ccd402b507d',\n",
       " 'dc6ffa73a48549bd9e399c6e650a7c63',\n",
       " '897b5aaa76824d35af8a51f3ff3d02b7',\n",
       " 'c5403492107f4a2e90c0f1c19af7f673',\n",
       " 'dd4102d88daf4272a0477aa910bc505e',\n",
       " '929aa6432b4448ea9acbc7729153f535',\n",
       " 'd917bd3c7902462d9a71083cbdc98ca5',\n",
       " '5d8cd240a3b54a5f904717334148c4d4',\n",
       " 'b1305a6c9e784213b169e8d1681838fd',\n",
       " 'dbad9609287e433899af0b553fb30651',\n",
       " '222f2c94a26b421f8ae25b34e6509a0e',\n",
       " 'fce08e68f369429a9c0ada8ff44a13d3',\n",
       " '6079e54f6e6a453bb43a7508beadf354',\n",
       " 'e6a5d0215c074879bb448deb46953c7b',\n",
       " '7e4c7f2adbc541b18ab056ea761f3aca',\n",
       " 'c03ac3f60873458eba6eef1375d92415',\n",
       " '92948e4b0e0749de8bbf52c9e45fc773',\n",
       " '6acd53a77749448282ed92093092f39e',\n",
       " '65cb1b0023e3496497a0b205cdc8e96c',\n",
       " '4160f3dff63241e097192a4d309c9d38',\n",
       " '8f6cba9c70f3424c836739e2adfc6441',\n",
       " '83f5ba97303249d091983c59fe03878d',\n",
       " 'db0ca738b2934277a299dbcab003c680',\n",
       " '0e82c64e32124fd8b445b2d8de3fb788',\n",
       " '978c22fb80b64d479c1f57df3cf4dc2e',\n",
       " '1195d4f05e6d4179b11ee53ca11fd0c8',\n",
       " '3ac28dc2bcdf4880abd5e2810c3397eb',\n",
       " '48f35a52338446a7bb1dba67e5c80251',\n",
       " 'fa00c6ee7d284879b9c4e8a227534489',\n",
       " 'd5bbb09a99524aa6a1faae6299dddcb9',\n",
       " 'c2b50e91b4e6436ba4ed5fed2c8ada36',\n",
       " 'f5bd6e81685543b999275dce080f9941',\n",
       " '7ac41ec8315043f6a61c9bb035e4aa30',\n",
       " 'b06bb6bc6d7f4dd5ae4029e58ccc880f',\n",
       " 'e32b5272b81c42e4882ef2ccd47ababb',\n",
       " 'e2ba9f922be9480a98895d9986fc68d7',\n",
       " 'be43acd2747b4dcab4f2e4a1745e78f2',\n",
       " '7c96fc4f84f243fb9dd823a599888d7c',\n",
       " '8713551f9a494d76915a21b1e8721028',\n",
       " '624c30aa103842c6bef8ac8ac10aa05a',\n",
       " 'aca0e8da650e402da6fdc70da4d0f8f2',\n",
       " '1676a8bab4134368a0dbbada5f136599',\n",
       " '23dacc54b0444d889e828c004911e7c9',\n",
       " 'c117481b052f4fa49bb6508ab792c4b8',\n",
       " '33eda75078e3451c9a874ca6c47c05bc',\n",
       " '50704ba2f6f74e44beebb3f2ceceef84',\n",
       " '425adf838fe74f69961c6df68f68708b',\n",
       " 'c16e908ef35c4c7c815b1578d094b035',\n",
       " '33d4e36e6e6f40e095d109ad29dfef67',\n",
       " ...]"
      ]
     },
     "execution_count": 108,
     "metadata": {},
     "output_type": "execute_result"
    }
   ],
   "source": [
    "vs.add_documents(docs)"
   ]
  },
  {
   "cell_type": "code",
   "execution_count": 109,
   "id": "4882e408",
   "metadata": {},
   "outputs": [
    {
     "data": {
      "text/plain": [
       "CollectionsResponse(collections=[CollectionDescription(name='norma_ai_collection'), CollectionDescription(name='norma_ai_collection_ru-en-RoSBERTa')])"
      ]
     },
     "execution_count": 109,
     "metadata": {},
     "output_type": "execute_result"
    }
   ],
   "source": [
    "client.get_collections()\n"
   ]
  },
  {
   "cell_type": "code",
   "execution_count": 114,
   "id": "b6e7ca41",
   "metadata": {},
   "outputs": [
    {
     "data": {
      "text/plain": [
       "CountResult(count=8035)"
      ]
     },
     "execution_count": 114,
     "metadata": {},
     "output_type": "execute_result"
    }
   ],
   "source": [
    "client.count(collection_name=collection_2)"
   ]
  },
  {
   "cell_type": "code",
   "execution_count": 118,
   "id": "08575a3e",
   "metadata": {},
   "outputs": [],
   "source": [
    "query = \"Периодичность ревизии промысловых трубопроводов\"\n",
    "res = vs.similarity_search(query, k=5)"
   ]
  },
  {
   "cell_type": "code",
   "execution_count": 119,
   "id": "6a491cd4",
   "metadata": {},
   "outputs": [
    {
     "data": {
      "text/plain": [
       "Document(metadata={'source': '/srv/norma_ai/norma_ai_project/data/25. Приказ РТН № 784 Рекомендации по устройству и безопасной эксплуатации технологических трубопроводов.docx', '_id': 'e82c9a7246f74c44a1099917cfb5b5f9', '_collection_name': 'norma_ai_collection_ru-en-RoSBERTa'}, page_content='430. Периодичность последующих освидетельствований рекомендуется устанавливать в зависимости от скорости коррозионно-эрозионного износа трубопроводов, условий эксплуатации, результатов предыдущих осмотров, ревизии и других факторов. Сроки ревизии рекомендуется определять предприятию - владельцу трубопровода и указывать в паспорте на трубопровод. В случае отсутствия таких указаний периодичности сроки проведения ревизии трубопроводов давлением до 10 МПа рекомендуется определять с учетом приложения N 22 к настоящему Руководству.\\n\\n431. При ревизии трубопровода с давлением до 10 МПа рекомендуется:\\n\\nпроводить наружный осмотр трубопровода согласно требованиям п. 428 настоящего Руководства;\\n\\nпроводить измерения толщины стенки трубопровода приборами неразрушающего контроля, а в обоснованных случаях - сквозной засверловкой с последующей заваркой отверстия;\\n\\nпроводить радиографический или ультразвуковой контроль сварных стыков, если качество их при ревизии вызвало сомнение и нужно подвергнуть эти сварные соединения металлографическим и механическим испытаниям. Число стыков, подлежащих проверке, определяется лицом, осуществляющим надзор за эксплуатацией трубопроводов;\\n\\nпроводить измерения на участках трубопроводов, работающих в условиях ползучести, деформации по состоянию на время проведения ревизии;\\n\\nпроводить разбор (выборочный) резьбовых соединений на трубопроводе, осмотр их и измерение резьбовыми калибрами;')"
      ]
     },
     "execution_count": 119,
     "metadata": {},
     "output_type": "execute_result"
    }
   ],
   "source": [
    "res[0]"
   ]
  },
  {
   "cell_type": "code",
   "execution_count": 120,
   "id": "d89c8953",
   "metadata": {},
   "outputs": [
    {
     "name": "stdout",
     "output_type": "stream",
     "text": [
      "ДОКА: 25. Приказ РТН № 784 Рекомендации по устройству и безопасной эксплуатации технологических трубопроводов.docx\n",
      "\n",
      "430. Периодичность последующих освидетельствований рекомендуется устанавливать в зависимости от скорости коррозионно-эрозионного износа трубопроводов, условий эксплуатации, результатов предыдущих осмотров, ревизии и других факторов. Сроки ревизии рекомендуется определять предприятию - владельцу трубопровода и указывать в паспорте на трубопровод. В случае отсутствия таких указаний периодичности сроки проведения ревизии трубопроводов давлением до 10 МПа рекомендуется определять с учетом приложения N 22 к настоящему Руководству.\n",
      "\n",
      "431. При ревизии трубопровода с давлением до 10 МПа рекомендуется:\n",
      "\n",
      "проводить наружный осмотр трубопровода согласно требованиям п. 428 настоящего Руководства;\n",
      "\n",
      "проводить измерения толщины стенки трубопровода приборами неразрушающего контроля, а в обоснованных случаях - сквозной засверловкой с последующей заваркой отверстия;\n",
      "\n",
      "проводить радиографический или ультразвуковой контроль сварных стыков, если качество их при ревизии вызвало сомнение и нужно подвергнуть эти сварные соединения металлографическим и механическим испытаниям. Число стыков, подлежащих проверке, определяется лицом, осуществляющим надзор за эксплуатацией трубопроводов;\n",
      "\n",
      "проводить измерения на участках трубопроводов, работающих в условиях ползучести, деформации по состоянию на время проведения ревизии;\n",
      "\n",
      "проводить разбор (выборочный) резьбовых соединений на трубопроводе, осмотр их и измерение резьбовыми калибрами;\n",
      "ДОКА: ГОСТ Р 58329-2018.docx\n",
      "\n",
      "На воздушных переходах обследования выполняют трижды: весной - после паводка, летом - в период максимальных температур воздуха и зимой - при минимальных температурах воздуха.\n",
      "\n",
      "6.3.16 Контроль фактической глубины заложения трубопровода проводят через каждые 500 м и в характерных точках (низины, овраги и т.д.):\n",
      "\n",
      "- на непахотных землях - не реже одного раза в пять лет;\n",
      "\n",
      "- на пахотных землях - один раз в год перед весенними посевными работами.\n",
      "\n",
      "На участках с глубиной заложения трубопровода менее 0,8 м до верхней образующей предусматривают и выполняют дополнительные меры по обеспечению сохранности трубопровода.\n",
      "\n",
      "Оголение трубопроводов и их провисание не допускается. В этих случаях участок трубопровода подвергают капитальному ремонту.\n",
      "\n",
      "6.3.17 Проверку глубины заложения трубопроводов в местах возможного изменения рельефа (при оползнях, размывах, просадках, эрозии грунтов, в подвижных песках, дамбах и т.д.) проводят периодически согласно утвержденному графику.\n",
      "\n",
      "Обследование трубопроводов, проложенных в горной местности, включает осмотр трубопроводов вблизи оползневых мест и особенно компенсаторов.\n",
      "\n",
      "Участки трубопроводов, проложенные в подвижных песках и дамбах, обследуют один раз в год.\n",
      "\n",
      "Входе обследований проверяют водопропускные сооружения и устройства, периодически подтопляемые территории, прилегающие к трубопроводам, состояние откосов, берегоукрепления, каменных набросов и облицовок в местах переходов и пересечений с водными преградами и оврагами, места возможных размывов.\n",
      "ДОКА: 19. Приказ РТН № 536 ФНИП Правила промышленной безопасности при использовании оборудования, работающего под избыточным давлением.docx\n",
      "\n",
      "а) уполномоченная специализированная организация не реже одного раза в три года, если иные сроки не установлены в руководстве (инструкции) по эксплуатации;\n",
      "\n",
      "б) ответственный за исправное состояние и безопасную эксплуатацию оборудования совместно с ответственным за производственный контроль за безопасной эксплуатацией оборудования путем проведения осмотра трубопровода перед началом и после окончания планового ремонта, но не реже 1 раза в 12 месяцев (если нет иных указаний по срокам проведения в руководстве (инструкции) по эксплуатации), а также если характер и объем ремонта не вызывают необходимости внеочередного освидетельствования.\n",
      "\n",
      "В случае если проектом трубопроводов тепловых сетей предусмотрено наличие системы оперативного дистанционного контроля (ОДК) их состояния в процессе эксплуатации, периодичность проведения их технического освидетельствования специализированной организацией может быть увеличена на срок не более 5 лет при условии поддержания системы ОДК в исправном состоянии и проведения технического освидетельствования специалистами эксплуатирующей организацией в соответствии с требованиями подпункта \"б\" настоящего пункта ФНП.\n",
      "ДОКА: 21. Приказ РТН № 330.docx\n",
      "\n",
      "б) оформление продольного профиля по оси засыпанного трубопровода;\n",
      "\n",
      "в) оформление окончательного отчета.\n",
      "\n",
      "14. Рекомендуемые периодичность и продолжительность проведения обследований ПМТ.\n",
      "\n",
      "Периодичность проведения обследований ПМТ через водные преграды устанавливается в соответствии с таблицей 1 и таблицей 2, в зависимости от ширины водной преграды в межень, судоходности и способа строительства ПМТ. Если при строительстве, замене или ремонте ПМТ производились земляные работы в русле, первичное обследование выполняется в объеме полного обследования в период не ранее, чем через один год, но не позднее чем через два года после ввода ПМТ в эксплуатацию.\n",
      "\n",
      "\n",
      "\n",
      "Таблица 1\n",
      "\n",
      "\n",
      "\n",
      "Периодичность проведения обследования ППМТ\n",
      "\n",
      "через водные преграды\n",
      "\n",
      "\n",
      "\n",
      "Характеристика ППМТ\n",
      "\n",
      "Периодичность обследования\n",
      "\n",
      "\n",
      "\n",
      "Характер русловых процессов\n",
      "\n",
      "При отсутствии отклонений ПВП трубопровода от нормативного состояния по данным обследования\n",
      "\n",
      "При наличии отклонений ПВП трубопровода от нормативного состояния по данным обследования\n",
      "\n",
      "Переходы МТ, построенные способом траншейной укладки, ННБ и микротоннелирования\n",
      "\n",
      "Интенсивный\n",
      "\n",
      "1 раз в 2 года\n",
      "\n",
      "Ежегодно\n",
      "\n",
      "\n",
      "\n",
      "Умеренный\n",
      "\n",
      "1 раз в 4 года\n",
      "\n",
      "1 раз в 2 года, но не более срока, назначенного ОТС по анализу русловых процессов и планово-высотного положения трубопровода\n",
      "\n",
      "\n",
      "\n",
      "Стабильный\n",
      "\n",
      "1 раз в 6 лет\n",
      "\n",
      "1 раз в 3 года, но не более срока, назначенного ОТС по анализу русловых процессов и планово-высотного положения трубопровода\n",
      "\n",
      "Переходы МТ через малые водотоки\n",
      "\n",
      "1 раз в 6 лет\n",
      "\n",
      "1 раз в 3 года\n",
      "ДОКА: 1. ТР ЕАЭС 049-2020 О требованиях к магистральным трубопроводам для транспортирования жидких и газообразных углеводородов.docx\n",
      "\n",
      "38. После завершения строительства (реконструкции) трубопровода для транспортирования жидких углеводородов номинальным диаметром DN 150 и более и газообразных углеводородов номинальным диаметром DN 300 и более, а также для восстановления несущей способности участка такого трубопровода с заменой труб в соответствии с проектной документацией проводится:\n",
      "\n",
      "а) контроль геометрических параметров участков трубопровода протяженностью 1 000 м и более путем пропуска внутритрубного инспекционного прибора;\n",
      "\n",
      "б) контроль геометрических параметров участков трубопровода протяженностью менее 1 000 м приборно-инструментальными методами;\n",
      "\n",
      "в) внутритрубное диагностирование:\n",
      "\n",
      "участков трубопровода протяженностью 10 000 м и более;\n",
      "\n",
      "участков трубопровода протяженностью менее 10 000 м при условии обоснования необходимости его проведения в проектной документации;\n",
      "\n",
      "г) внутритрубное диагностирование участков подводных переходов, проложенных через реку или водоем шириной в межень по зеркалу воды более 10 м и глубиной свыше 1,5 м либо шириной по зеркалу воды в межень 25 м и более независимо от глубины;\n",
      "\n",
      "д) контроль состояния изоляционного покрытия.\n",
      "\n",
      "39. После завершения строительства (реконструкции) вновь смонтированный трубопровод должен быть испытан на прочность и проверен на герметичность.\n",
      "\n",
      "При ремонте трубопровода заменяемый участок должен быть испытан на прочность и проверен на герметичность.\n",
      "\n",
      "40. При эксплуатации магистрального трубопровода следует обеспечивать:\n"
     ]
    }
   ],
   "source": [
    "for r in res:\n",
    "    print(f'ДОКА: {r.metadata['source'][r.metadata['source'].rfind('/')+1:]}', r.page_content, sep='\\n\\n')# res[3].metadata['source'][r.metadata['source'].rfind('/')+1:])"
   ]
  },
  {
   "cell_type": "code",
   "execution_count": 16,
   "id": "99310c41",
   "metadata": {},
   "outputs": [],
   "source": [
    "points = client.scroll(\n",
    "    collection_name=\"norma_ai_collection\",\n",
    "    limit=3,                     # сколько объектов вытащить\n",
    "    with_payload=True,            # вернуть текст и метаданные\n",
    "    with_vectors=True             # ВАЖНО: вернуть сами эмбеддинги\n",
    ")"
   ]
  },
  {
   "cell_type": "code",
   "execution_count": 17,
   "id": "cf613239",
   "metadata": {},
   "outputs": [
    {
     "name": "stdout",
     "output_type": "stream",
     "text": [
      "б) строительный контроль (технический надзор), авторский и государственный надзор - при строительстве (реконструкции);\n",
      "\n",
      "в) приемка - при завершении строительства (реконструкции);\n",
      "\n",
      "г) эксплуатационный контроль, государственный контроль (надзор) - при эксплуатации;\n",
      "\n",
      "д) строительный контроль и авторский надзор - при утилизации (ликвидации).\n",
      "\n",
      "51. Порядок применения форм оценки соответствия магистрального трубопровода требованиям настоящего технического регламента устанавливается законодательством государств-членов.\n",
      "\n",
      "52. При проведении оценки соответствия применяются средства измерений и методики (методы) измерений, являющиеся объектами государственного регулирования в области обеспечения единства измерений, в том числе государственного метрологического контроля (надзора), и соответствующие обязательным метрологическим и техническим требованиям, установленным законодательством государства-члена, на территории которого они применяются, а также положениям актов органов Союза в области обеспечения единства измерений в части взаимного признания результатов работ по обеспечению единства измерений.\n",
      "\n",
      "53. Приемке подлежат объекты магистрального трубопровода, завершенные строительством (реконструкцией).\n",
      "IV. Требования к магистральным трубопроводам\n",
      "\n",
      "\n",
      "\n",
      "9. Безопасность магистрального трубопровода должна обеспечиваться посредством:\n",
      "\n",
      "а) осуществления комплекса научно-исследовательских, технологических, опытно-конструкторских и проектно-изыскательских работ и внедрения их результатов, направленных на повышение безопасности, эксплуатационной и энергетической эффективности объектов магистрального трубопровода, а также применяемых технологий, технических устройств, машин, оборудования и материалов;\n",
      "\n",
      "б) соблюдения технологических режимов эксплуатации магистрального трубопровода, проведения технического обслуживания, технического диагностирования и поддержания установленных эксплуатационных параметров;\n",
      "\n",
      "в) выполнения расчетов по определению значений эксплуатационных параметров объектов магистрального трубопровода, обеспечивающих их безопасность, энергетическую эффективность и ресурсосбережение, использования их результатов;\n",
      "\n",
      "г) проведения оценки соответствия магистрального трубопровода согласно разделу VI настоящего технического регламента;\n",
      "\n",
      "д) установления охранных зон в соответствии с характеристиками границ согласно приложению N 1;\n",
      "\n",
      "е) обеспечения надежности систем управления технологическими процессами и производственной деятельностью объектов магистрального трубопровода.\n",
      "V. Обеспечение соответствия магистрального трубопровода\n",
      "\n",
      "требованиям технического регламента\n",
      "\n",
      "\n",
      "\n",
      "48. Соответствие магистрального трубопровода настоящему техническому регламенту обеспечивается выполнением его требований непосредственно либо положений стандартов, включенных в перечень международных и региональных (межгосударственных) стандартов, а в случае их отсутствия - национальных (государственных) стандартов, в результате применения которых на добровольной основе обеспечивается соблюдение требований настоящего технического регламента.\n",
      "\n",
      "49. Методы исследований (испытаний) и измерений устанавливаются в стандартах, включенных в перечень международных и региональных (межгосударственных) стандартов, содержащих правила и методы исследований (испытаний) и измерений, в том числе правила отбора образцов, необходимые для применения и исполнения требований настоящего технического регламента и осуществления оценки соответствия объектов технического регулирования.\n",
      "\n",
      "\n",
      "\n",
      "VI. Оценка соответствия магистрального трубопровода\n",
      "\n",
      "требованиям технического регламента\n",
      "\n",
      "\n",
      "\n",
      "50. Оценка соответствия магистрального трубопровода требованиям настоящего технического регламента проводится в следующих формах:\n",
      "\n",
      "а) экспертиза проектной документации (включая результаты инженерных изысканий) - при проектировании (включая инженерные изыскания);\n",
      "\n",
      "б) строительный контроль (технический надзор), авторский и государственный надзор - при строительстве (реконструкции);\n"
     ]
    }
   ],
   "source": [
    "for p in points[0]:\n",
    "    print(p.payload['page_content'])"
   ]
  },
  {
   "cell_type": "code",
   "execution_count": 18,
   "id": "32b92694",
   "metadata": {},
   "outputs": [
    {
     "data": {
      "text/plain": [
       "{'page_content': 'б) строительный контроль (технический надзор), авторский и государственный надзор - при строительстве (реконструкции);\\n\\nв) приемка - при завершении строительства (реконструкции);\\n\\nг) эксплуатационный контроль, государственный контроль (надзор) - при эксплуатации;\\n\\nд) строительный контроль и авторский надзор - при утилизации (ликвидации).\\n\\n51. Порядок применения форм оценки соответствия магистрального трубопровода требованиям настоящего технического регламента устанавливается законодательством государств-членов.\\n\\n52. При проведении оценки соответствия применяются средства измерений и методики (методы) измерений, являющиеся объектами государственного регулирования в области обеспечения единства измерений, в том числе государственного метрологического контроля (надзора), и соответствующие обязательным метрологическим и техническим требованиям, установленным законодательством государства-члена, на территории которого они применяются, а также положениям актов органов Союза в области обеспечения единства измерений в части взаимного признания результатов работ по обеспечению единства измерений.\\n\\n53. Приемке подлежат объекты магистрального трубопровода, завершенные строительством (реконструкцией).',\n",
       " 'metadata': {'source': '/srv/norma_ai/norma_ai_project/1. ТРЕАЭС 049-2020 О требованиях к магистральным трубопроводам для транспортирования жидких и газообразных углеводородов.docx'}}"
      ]
     },
     "execution_count": 18,
     "metadata": {},
     "output_type": "execute_result"
    }
   ],
   "source": [
    "dict(points[0][0])['payload']"
   ]
  },
  {
   "cell_type": "code",
   "execution_count": null,
   "id": "372ff2d5",
   "metadata": {},
   "outputs": [],
   "source": []
  }
 ],
 "metadata": {
  "kernelspec": {
   "display_name": "norma-ai-project",
   "language": "python",
   "name": "python3"
  },
  "language_info": {
   "codemirror_mode": {
    "name": "ipython",
    "version": 3
   },
   "file_extension": ".py",
   "mimetype": "text/x-python",
   "name": "python",
   "nbconvert_exporter": "python",
   "pygments_lexer": "ipython3",
   "version": "3.12.3"
  }
 },
 "nbformat": 4,
 "nbformat_minor": 5
}
