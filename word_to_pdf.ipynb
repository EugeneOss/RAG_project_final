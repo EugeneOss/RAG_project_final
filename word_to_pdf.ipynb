{
 "cells": [
  {
   "cell_type": "code",
   "execution_count": 4,
   "id": "ed1881bf",
   "metadata": {},
   "outputs": [],
   "source": [
    "import os, pathlib, subprocess\n",
    "\n",
    "def docx_to_pdf_linux(input_docx: str, output_pdf: str | None = None) -> str:\n",
    "    input_docx = os.path.abspath(input_docx)\n",
    "    out_dir = os.path.abspath(os.path.dirname(output_pdf)) if output_pdf else os.path.dirname(input_docx)\n",
    "    os.makedirs(out_dir, exist_ok=True)\n",
    "\n",
    "    # LibreOffice положит PDF в out_dir с тем же именем\n",
    "    subprocess.run(\n",
    "        [\"soffice\", \"--headless\", \"--convert-to\", \"pdf\", \"--outdir\", out_dir, input_docx],\n",
    "        check=True, stdout=subprocess.PIPE, stderr=subprocess.PIPE\n",
    "    )\n",
    "    if output_pdf is None:\n",
    "        output_pdf = os.path.join(out_dir, pathlib.Path(input_docx).with_suffix(\".pdf\").name)\n",
    "    return output_pdf"
   ]
  },
  {
   "cell_type": "code",
   "execution_count": 5,
   "id": "b5a3eee9",
   "metadata": {},
   "outputs": [],
   "source": [
    "pdf = docx_to_pdf_linux(\n",
    "    input_docx='/srv/norma_ai/norma_ai_project/data/1. ТР ЕАЭС 049-2020 О требованиях к магистральным трубопроводам для транспортирования жидких и газообразных углеводородов.docx',\n",
    "    output_pdf='/srv/norma_ai/norma_ai_project/temporary_data/1. ТР ЕАЭС 049-2020 О требованиях к магистральным трубопроводам для транспортирования жидких и газообразных углеводородов.pdf'\n",
    ")"
   ]
  },
  {
   "cell_type": "code",
   "execution_count": 6,
   "id": "3a58d9c7",
   "metadata": {},
   "outputs": [
    {
     "data": {
      "text/plain": [
       "'/srv/norma_ai/norma_ai_project/temporary_data/1. ТР ЕАЭС 049-2020 О требованиях к магистральным трубопроводам для транспортирования жидких и газообразных углеводородов.pdf'"
      ]
     },
     "execution_count": 6,
     "metadata": {},
     "output_type": "execute_result"
    }
   ],
   "source": [
    "pdf"
   ]
  },
  {
   "cell_type": "code",
   "execution_count": null,
   "id": "7743495c",
   "metadata": {},
   "outputs": [],
   "source": []
  }
 ],
 "metadata": {
  "kernelspec": {
   "display_name": "norma-ai-project",
   "language": "python",
   "name": "python3"
  },
  "language_info": {
   "codemirror_mode": {
    "name": "ipython",
    "version": 3
   },
   "file_extension": ".py",
   "mimetype": "text/x-python",
   "name": "python",
   "nbconvert_exporter": "python",
   "pygments_lexer": "ipython3",
   "version": "3.12.3"
  }
 },
 "nbformat": 4,
 "nbformat_minor": 5
}
